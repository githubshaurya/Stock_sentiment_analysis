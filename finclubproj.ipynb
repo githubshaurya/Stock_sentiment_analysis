{
 "cells": [
  {
   "cell_type": "code",
   "execution_count": 1,
   "metadata": {
    "collapsed": true,
    "execution": {
     "iopub.execute_input": "2024-06-20T07:14:03.229338Z",
     "iopub.status.busy": "2024-06-20T07:14:03.228305Z",
     "iopub.status.idle": "2024-06-20T07:14:16.605702Z",
     "shell.execute_reply": "2024-06-20T07:14:16.604377Z",
     "shell.execute_reply.started": "2024-06-20T07:14:03.229290Z"
    },
    "jupyter": {
     "outputs_hidden": true
    },
    "trusted": true
   },
   "outputs": [
    {
     "name": "stdout",
     "output_type": "stream",
     "text": [
      "Collecting vaderSentiment\n",
      "  Downloading vaderSentiment-3.3.2-py2.py3-none-any.whl.metadata (572 bytes)\n",
      "Requirement already satisfied: requests in /opt/conda/lib/python3.10/site-packages (from vaderSentiment) (2.32.3)\n",
      "Requirement already satisfied: charset-normalizer<4,>=2 in /opt/conda/lib/python3.10/site-packages (from requests->vaderSentiment) (3.3.2)\n",
      "Requirement already satisfied: idna<4,>=2.5 in /opt/conda/lib/python3.10/site-packages (from requests->vaderSentiment) (3.6)\n",
      "Requirement already satisfied: urllib3<3,>=1.21.1 in /opt/conda/lib/python3.10/site-packages (from requests->vaderSentiment) (1.26.18)\n",
      "Requirement already satisfied: certifi>=2017.4.17 in /opt/conda/lib/python3.10/site-packages (from requests->vaderSentiment) (2024.2.2)\n",
      "Downloading vaderSentiment-3.3.2-py2.py3-none-any.whl (125 kB)\n",
      "\u001b[2K   \u001b[90m━━━━━━━━━━━━━━━━━━━━━━━━━━━━━━━━━━━━━━━━\u001b[0m \u001b[32m126.0/126.0 kB\u001b[0m \u001b[31m2.8 MB/s\u001b[0m eta \u001b[36m0:00:00\u001b[0m00:01\u001b[0m\n",
      "\u001b[?25hInstalling collected packages: vaderSentiment\n",
      "Successfully installed vaderSentiment-3.3.2\n"
     ]
    }
   ],
   "source": [
    "!pip install vaderSentiment"
   ]
  },
  {
   "cell_type": "code",
   "execution_count": null,
   "metadata": {
    "execution": {
     "iopub.execute_input": "2024-06-20T07:14:45.248203Z",
     "iopub.status.busy": "2024-06-20T07:14:45.247821Z",
     "iopub.status.idle": "2024-06-20T07:14:46.625562Z",
     "shell.execute_reply": "2024-06-20T07:14:46.624435Z",
     "shell.execute_reply.started": "2024-06-20T07:14:45.248173Z"
    },
    "trusted": true
   },
   "outputs": [],
   "source": [
    "import pandas as pd\n",
    "import imblearn\n",
    "from sklearn.feature_extraction.text import CountVectorizer\n",
    "from sklearn.ensemble import RandomForestClassifier\n",
    "from sklearn.metrics import classification_report, accuracy_score\n",
    "import numpy as np"
   ]
  },
  {
   "cell_type": "code",
   "execution_count": 3,
   "metadata": {
    "execution": {
     "iopub.execute_input": "2024-06-20T07:14:46.628665Z",
     "iopub.status.busy": "2024-06-20T07:14:46.627569Z",
     "iopub.status.idle": "2024-06-20T07:14:46.634479Z",
     "shell.execute_reply": "2024-06-20T07:14:46.633592Z",
     "shell.execute_reply.started": "2024-06-20T07:14:46.628623Z"
    },
    "trusted": true
   },
   "outputs": [],
   "source": [
    "from vaderSentiment.vaderSentiment import SentimentIntensityAnalyzer"
   ]
  },
  {
   "cell_type": "code",
   "execution_count": 4,
   "metadata": {
    "_cell_guid": "b1076dfc-b9ad-4769-8c92-a6c4dae69d19",
    "_uuid": "8f2839f25d086af736a60e9eeb907d3b93b6e0e5",
    "execution": {
     "iopub.execute_input": "2024-06-20T07:14:46.636197Z",
     "iopub.status.busy": "2024-06-20T07:14:46.635763Z",
     "iopub.status.idle": "2024-06-20T07:14:46.673378Z",
     "shell.execute_reply": "2024-06-20T07:14:46.672306Z",
     "shell.execute_reply.started": "2024-06-20T07:14:46.636170Z"
    },
    "trusted": true
   },
   "outputs": [],
   "source": [
    "appl_stock = pd.read_csv(\"/kaggle/input/appled/aapl.csv\")"
   ]
  },
  {
   "cell_type": "code",
   "execution_count": 5,
   "metadata": {
    "execution": {
     "iopub.execute_input": "2024-06-20T07:14:47.938323Z",
     "iopub.status.busy": "2024-06-20T07:14:47.937951Z",
     "iopub.status.idle": "2024-06-20T07:14:47.952024Z",
     "shell.execute_reply": "2024-06-20T07:14:47.950996Z",
     "shell.execute_reply.started": "2024-06-20T07:14:47.938292Z"
    },
    "trusted": true
   },
   "outputs": [],
   "source": [
    "nvda_stock = pd.read_csv(\"/kaggle/input/nvda-stock/nvda.csv\")"
   ]
  },
  {
   "cell_type": "code",
   "execution_count": 6,
   "metadata": {
    "execution": {
     "iopub.execute_input": "2024-06-20T07:14:47.953875Z",
     "iopub.status.busy": "2024-06-20T07:14:47.953567Z",
     "iopub.status.idle": "2024-06-20T07:14:47.965117Z",
     "shell.execute_reply": "2024-06-20T07:14:47.964197Z",
     "shell.execute_reply.started": "2024-06-20T07:14:47.953851Z"
    },
    "trusted": true
   },
   "outputs": [],
   "source": [
    "tsla_stock = pd.read_csv(\"/kaggle/input/teslastock/tsla.csv\")"
   ]
  },
  {
   "cell_type": "code",
   "execution_count": 7,
   "metadata": {
    "execution": {
     "iopub.execute_input": "2024-06-20T07:14:47.966620Z",
     "iopub.status.busy": "2024-06-20T07:14:47.966271Z",
     "iopub.status.idle": "2024-06-20T07:14:47.992572Z",
     "shell.execute_reply": "2024-06-20T07:14:47.991555Z",
     "shell.execute_reply.started": "2024-06-20T07:14:47.966587Z"
    },
    "trusted": true
   },
   "outputs": [],
   "source": [
    "aapl_hdl = pd.read_csv(\"/kaggle/input/fin-hdl/finance_headlines.csv\")"
   ]
  },
  {
   "cell_type": "code",
   "execution_count": 8,
   "metadata": {
    "execution": {
     "iopub.execute_input": "2024-06-20T07:14:48.277645Z",
     "iopub.status.busy": "2024-06-20T07:14:48.277273Z",
     "iopub.status.idle": "2024-06-20T07:14:48.299633Z",
     "shell.execute_reply": "2024-06-20T07:14:48.298782Z",
     "shell.execute_reply.started": "2024-06-20T07:14:48.277617Z"
    },
    "trusted": true
   },
   "outputs": [],
   "source": [
    "nvda_hdl = pd.read_csv(\"/kaggle/input/new-finhdl/finance_headlines_nw.csv\")"
   ]
  },
  {
   "cell_type": "code",
   "execution_count": 9,
   "metadata": {
    "execution": {
     "iopub.execute_input": "2024-06-20T07:14:48.757687Z",
     "iopub.status.busy": "2024-06-20T07:14:48.757250Z",
     "iopub.status.idle": "2024-06-20T07:14:48.779075Z",
     "shell.execute_reply": "2024-06-20T07:14:48.778087Z",
     "shell.execute_reply.started": "2024-06-20T07:14:48.757652Z"
    },
    "trusted": true
   },
   "outputs": [],
   "source": [
    "tsla_hdl = pd.read_csv(\"/kaggle/input/finhandled/finhdl.csv\")"
   ]
  },
  {
   "cell_type": "code",
   "execution_count": 10,
   "metadata": {
    "execution": {
     "iopub.execute_input": "2024-06-20T07:14:50.783333Z",
     "iopub.status.busy": "2024-06-20T07:14:50.782657Z",
     "iopub.status.idle": "2024-06-20T07:14:50.808891Z",
     "shell.execute_reply": "2024-06-20T07:14:50.807844Z",
     "shell.execute_reply.started": "2024-06-20T07:14:50.783300Z"
    },
    "trusted": true
   },
   "outputs": [
    {
     "data": {
      "text/html": [
       "<div>\n",
       "<style scoped>\n",
       "    .dataframe tbody tr th:only-of-type {\n",
       "        vertical-align: middle;\n",
       "    }\n",
       "\n",
       "    .dataframe tbody tr th {\n",
       "        vertical-align: top;\n",
       "    }\n",
       "\n",
       "    .dataframe thead th {\n",
       "        text-align: right;\n",
       "    }\n",
       "</style>\n",
       "<table border=\"1\" class=\"dataframe\">\n",
       "  <thead>\n",
       "    <tr style=\"text-align: right;\">\n",
       "      <th></th>\n",
       "      <th>Date</th>\n",
       "      <th>Open</th>\n",
       "      <th>High</th>\n",
       "      <th>Low</th>\n",
       "      <th>Close</th>\n",
       "      <th>Adj Close</th>\n",
       "      <th>Volume</th>\n",
       "      <th>Price_Change</th>\n",
       "      <th>Label</th>\n",
       "    </tr>\n",
       "  </thead>\n",
       "  <tbody>\n",
       "    <tr>\n",
       "      <th>0</th>\n",
       "      <td>2023-01-03</td>\n",
       "      <td>130.279999</td>\n",
       "      <td>130.899994</td>\n",
       "      <td>124.169998</td>\n",
       "      <td>125.070000</td>\n",
       "      <td>124.216301</td>\n",
       "      <td>112117500</td>\n",
       "      <td>NaN</td>\n",
       "      <td>no_change</td>\n",
       "    </tr>\n",
       "    <tr>\n",
       "      <th>1</th>\n",
       "      <td>2023-01-04</td>\n",
       "      <td>126.889999</td>\n",
       "      <td>128.660004</td>\n",
       "      <td>125.080002</td>\n",
       "      <td>126.360001</td>\n",
       "      <td>125.497498</td>\n",
       "      <td>89113600</td>\n",
       "      <td>0.010314</td>\n",
       "      <td>increase</td>\n",
       "    </tr>\n",
       "    <tr>\n",
       "      <th>2</th>\n",
       "      <td>2023-01-05</td>\n",
       "      <td>127.129997</td>\n",
       "      <td>127.769997</td>\n",
       "      <td>124.760002</td>\n",
       "      <td>125.019997</td>\n",
       "      <td>124.166634</td>\n",
       "      <td>80962700</td>\n",
       "      <td>-0.010605</td>\n",
       "      <td>decrease</td>\n",
       "    </tr>\n",
       "    <tr>\n",
       "      <th>3</th>\n",
       "      <td>2023-01-06</td>\n",
       "      <td>126.010002</td>\n",
       "      <td>130.289993</td>\n",
       "      <td>124.889999</td>\n",
       "      <td>129.619995</td>\n",
       "      <td>128.735229</td>\n",
       "      <td>87754700</td>\n",
       "      <td>0.036794</td>\n",
       "      <td>increase</td>\n",
       "    </tr>\n",
       "    <tr>\n",
       "      <th>4</th>\n",
       "      <td>2023-01-09</td>\n",
       "      <td>130.470001</td>\n",
       "      <td>133.410004</td>\n",
       "      <td>129.889999</td>\n",
       "      <td>130.149994</td>\n",
       "      <td>129.261627</td>\n",
       "      <td>70790800</td>\n",
       "      <td>0.004089</td>\n",
       "      <td>no_change</td>\n",
       "    </tr>\n",
       "  </tbody>\n",
       "</table>\n",
       "</div>"
      ],
      "text/plain": [
       "         Date        Open        High         Low       Close   Adj Close  \\\n",
       "0  2023-01-03  130.279999  130.899994  124.169998  125.070000  124.216301   \n",
       "1  2023-01-04  126.889999  128.660004  125.080002  126.360001  125.497498   \n",
       "2  2023-01-05  127.129997  127.769997  124.760002  125.019997  124.166634   \n",
       "3  2023-01-06  126.010002  130.289993  124.889999  129.619995  128.735229   \n",
       "4  2023-01-09  130.470001  133.410004  129.889999  130.149994  129.261627   \n",
       "\n",
       "      Volume  Price_Change      Label  \n",
       "0  112117500           NaN  no_change  \n",
       "1   89113600      0.010314   increase  \n",
       "2   80962700     -0.010605   decrease  \n",
       "3   87754700      0.036794   increase  \n",
       "4   70790800      0.004089  no_change  "
      ]
     },
     "execution_count": 10,
     "metadata": {},
     "output_type": "execute_result"
    }
   ],
   "source": [
    "appl_stock.head()"
   ]
  },
  {
   "cell_type": "code",
   "execution_count": 11,
   "metadata": {
    "execution": {
     "iopub.execute_input": "2024-06-20T07:14:50.810998Z",
     "iopub.status.busy": "2024-06-20T07:14:50.810679Z",
     "iopub.status.idle": "2024-06-20T07:14:50.815380Z",
     "shell.execute_reply": "2024-06-20T07:14:50.814398Z",
     "shell.execute_reply.started": "2024-06-20T07:14:50.810972Z"
    },
    "trusted": true
   },
   "outputs": [],
   "source": [
    "# appl_stock = appl_stock[['Date','Price_Change', 'Label']]"
   ]
  },
  {
   "cell_type": "code",
   "execution_count": 12,
   "metadata": {
    "execution": {
     "iopub.execute_input": "2024-06-20T07:15:11.157857Z",
     "iopub.status.busy": "2024-06-20T07:15:11.157427Z",
     "iopub.status.idle": "2024-06-20T07:15:11.162336Z",
     "shell.execute_reply": "2024-06-20T07:15:11.161283Z",
     "shell.execute_reply.started": "2024-06-20T07:15:11.157818Z"
    },
    "trusted": true
   },
   "outputs": [],
   "source": [
    "# nvda_stock = nvda_stock[['Date','Price_Change', 'Label']]"
   ]
  },
  {
   "cell_type": "code",
   "execution_count": 13,
   "metadata": {
    "execution": {
     "iopub.execute_input": "2024-06-20T07:15:11.447568Z",
     "iopub.status.busy": "2024-06-20T07:15:11.447187Z",
     "iopub.status.idle": "2024-06-20T07:15:11.452416Z",
     "shell.execute_reply": "2024-06-20T07:15:11.451166Z",
     "shell.execute_reply.started": "2024-06-20T07:15:11.447517Z"
    },
    "trusted": true
   },
   "outputs": [],
   "source": [
    "# tsla_stock = tsla_stock[['Date','Price_Change', 'Label']]"
   ]
  },
  {
   "cell_type": "code",
   "execution_count": 14,
   "metadata": {
    "execution": {
     "iopub.execute_input": "2024-06-20T07:15:12.693320Z",
     "iopub.status.busy": "2024-06-20T07:15:12.692858Z",
     "iopub.status.idle": "2024-06-20T07:15:12.705125Z",
     "shell.execute_reply": "2024-06-20T07:15:12.704069Z",
     "shell.execute_reply.started": "2024-06-20T07:15:12.693290Z"
    },
    "trusted": true
   },
   "outputs": [],
   "source": [
    "appl_stock['Date'] = pd.to_datetime(appl_stock['Date'], format='%Y-%m-%d')\n",
    "aapl_hdl['Date'] = pd.to_datetime(aapl_hdl['Date'], format='%d-%m-%Y')"
   ]
  },
  {
   "cell_type": "code",
   "execution_count": 15,
   "metadata": {
    "execution": {
     "iopub.execute_input": "2024-06-20T07:15:13.170510Z",
     "iopub.status.busy": "2024-06-20T07:15:13.170154Z",
     "iopub.status.idle": "2024-06-20T07:15:13.192857Z",
     "shell.execute_reply": "2024-06-20T07:15:13.191756Z",
     "shell.execute_reply.started": "2024-06-20T07:15:13.170481Z"
    },
    "trusted": true
   },
   "outputs": [
    {
     "data": {
      "text/html": [
       "<div>\n",
       "<style scoped>\n",
       "    .dataframe tbody tr th:only-of-type {\n",
       "        vertical-align: middle;\n",
       "    }\n",
       "\n",
       "    .dataframe tbody tr th {\n",
       "        vertical-align: top;\n",
       "    }\n",
       "\n",
       "    .dataframe thead th {\n",
       "        text-align: right;\n",
       "    }\n",
       "</style>\n",
       "<table border=\"1\" class=\"dataframe\">\n",
       "  <thead>\n",
       "    <tr style=\"text-align: right;\">\n",
       "      <th></th>\n",
       "      <th>Date</th>\n",
       "      <th>Open</th>\n",
       "      <th>High</th>\n",
       "      <th>Low</th>\n",
       "      <th>Close</th>\n",
       "      <th>Adj Close</th>\n",
       "      <th>Volume</th>\n",
       "      <th>Price_Change</th>\n",
       "      <th>Label</th>\n",
       "    </tr>\n",
       "  </thead>\n",
       "  <tbody>\n",
       "    <tr>\n",
       "      <th>0</th>\n",
       "      <td>2023-01-03</td>\n",
       "      <td>14.851000</td>\n",
       "      <td>14.996000</td>\n",
       "      <td>14.096000</td>\n",
       "      <td>14.315000</td>\n",
       "      <td>14.306805</td>\n",
       "      <td>401277000</td>\n",
       "      <td>NaN</td>\n",
       "      <td>no_change</td>\n",
       "    </tr>\n",
       "    <tr>\n",
       "      <th>1</th>\n",
       "      <td>2023-01-04</td>\n",
       "      <td>14.567000</td>\n",
       "      <td>14.853000</td>\n",
       "      <td>14.241000</td>\n",
       "      <td>14.749000</td>\n",
       "      <td>14.740556</td>\n",
       "      <td>431324000</td>\n",
       "      <td>0.030318</td>\n",
       "      <td>increase</td>\n",
       "    </tr>\n",
       "    <tr>\n",
       "      <th>2</th>\n",
       "      <td>2023-01-05</td>\n",
       "      <td>14.491000</td>\n",
       "      <td>14.564000</td>\n",
       "      <td>14.148000</td>\n",
       "      <td>14.265000</td>\n",
       "      <td>14.256833</td>\n",
       "      <td>389168000</td>\n",
       "      <td>-0.032816</td>\n",
       "      <td>decrease</td>\n",
       "    </tr>\n",
       "    <tr>\n",
       "      <th>3</th>\n",
       "      <td>2023-01-06</td>\n",
       "      <td>14.474000</td>\n",
       "      <td>15.010000</td>\n",
       "      <td>14.034000</td>\n",
       "      <td>14.859000</td>\n",
       "      <td>14.850493</td>\n",
       "      <td>405044000</td>\n",
       "      <td>0.041640</td>\n",
       "      <td>increase</td>\n",
       "    </tr>\n",
       "    <tr>\n",
       "      <th>4</th>\n",
       "      <td>2023-01-09</td>\n",
       "      <td>15.284000</td>\n",
       "      <td>16.056000</td>\n",
       "      <td>15.141000</td>\n",
       "      <td>15.628000</td>\n",
       "      <td>15.619054</td>\n",
       "      <td>504231000</td>\n",
       "      <td>0.051753</td>\n",
       "      <td>increase</td>\n",
       "    </tr>\n",
       "    <tr>\n",
       "      <th>...</th>\n",
       "      <td>...</td>\n",
       "      <td>...</td>\n",
       "      <td>...</td>\n",
       "      <td>...</td>\n",
       "      <td>...</td>\n",
       "      <td>...</td>\n",
       "      <td>...</td>\n",
       "      <td>...</td>\n",
       "      <td>...</td>\n",
       "    </tr>\n",
       "    <tr>\n",
       "      <th>312</th>\n",
       "      <td>2024-04-02</td>\n",
       "      <td>88.447998</td>\n",
       "      <td>90.094002</td>\n",
       "      <td>87.620003</td>\n",
       "      <td>89.452003</td>\n",
       "      <td>89.444656</td>\n",
       "      <td>433064000</td>\n",
       "      <td>-0.010082</td>\n",
       "      <td>decrease</td>\n",
       "    </tr>\n",
       "    <tr>\n",
       "      <th>313</th>\n",
       "      <td>2024-04-03</td>\n",
       "      <td>88.484001</td>\n",
       "      <td>90.374001</td>\n",
       "      <td>88.400002</td>\n",
       "      <td>88.963997</td>\n",
       "      <td>88.956688</td>\n",
       "      <td>370067000</td>\n",
       "      <td>-0.005456</td>\n",
       "      <td>no_change</td>\n",
       "    </tr>\n",
       "    <tr>\n",
       "      <th>314</th>\n",
       "      <td>2024-04-04</td>\n",
       "      <td>90.405998</td>\n",
       "      <td>90.634003</td>\n",
       "      <td>85.879997</td>\n",
       "      <td>85.904999</td>\n",
       "      <td>85.897942</td>\n",
       "      <td>434965000</td>\n",
       "      <td>-0.034385</td>\n",
       "      <td>decrease</td>\n",
       "    </tr>\n",
       "    <tr>\n",
       "      <th>315</th>\n",
       "      <td>2024-04-05</td>\n",
       "      <td>86.865997</td>\n",
       "      <td>88.481003</td>\n",
       "      <td>85.926003</td>\n",
       "      <td>88.008003</td>\n",
       "      <td>88.000778</td>\n",
       "      <td>399678000</td>\n",
       "      <td>0.024481</td>\n",
       "      <td>increase</td>\n",
       "    </tr>\n",
       "    <tr>\n",
       "      <th>316</th>\n",
       "      <td>2024-04-08</td>\n",
       "      <td>88.699997</td>\n",
       "      <td>88.830002</td>\n",
       "      <td>86.732002</td>\n",
       "      <td>87.133003</td>\n",
       "      <td>87.125847</td>\n",
       "      <td>283220000</td>\n",
       "      <td>-0.009942</td>\n",
       "      <td>no_change</td>\n",
       "    </tr>\n",
       "  </tbody>\n",
       "</table>\n",
       "<p>317 rows × 9 columns</p>\n",
       "</div>"
      ],
      "text/plain": [
       "           Date       Open       High        Low      Close  Adj Close  \\\n",
       "0    2023-01-03  14.851000  14.996000  14.096000  14.315000  14.306805   \n",
       "1    2023-01-04  14.567000  14.853000  14.241000  14.749000  14.740556   \n",
       "2    2023-01-05  14.491000  14.564000  14.148000  14.265000  14.256833   \n",
       "3    2023-01-06  14.474000  15.010000  14.034000  14.859000  14.850493   \n",
       "4    2023-01-09  15.284000  16.056000  15.141000  15.628000  15.619054   \n",
       "..          ...        ...        ...        ...        ...        ...   \n",
       "312  2024-04-02  88.447998  90.094002  87.620003  89.452003  89.444656   \n",
       "313  2024-04-03  88.484001  90.374001  88.400002  88.963997  88.956688   \n",
       "314  2024-04-04  90.405998  90.634003  85.879997  85.904999  85.897942   \n",
       "315  2024-04-05  86.865997  88.481003  85.926003  88.008003  88.000778   \n",
       "316  2024-04-08  88.699997  88.830002  86.732002  87.133003  87.125847   \n",
       "\n",
       "        Volume  Price_Change      Label  \n",
       "0    401277000           NaN  no_change  \n",
       "1    431324000      0.030318   increase  \n",
       "2    389168000     -0.032816   decrease  \n",
       "3    405044000      0.041640   increase  \n",
       "4    504231000      0.051753   increase  \n",
       "..         ...           ...        ...  \n",
       "312  433064000     -0.010082   decrease  \n",
       "313  370067000     -0.005456  no_change  \n",
       "314  434965000     -0.034385   decrease  \n",
       "315  399678000      0.024481   increase  \n",
       "316  283220000     -0.009942  no_change  \n",
       "\n",
       "[317 rows x 9 columns]"
      ]
     },
     "execution_count": 15,
     "metadata": {},
     "output_type": "execute_result"
    }
   ],
   "source": [
    "nvda_stock"
   ]
  },
  {
   "cell_type": "code",
   "execution_count": 16,
   "metadata": {
    "execution": {
     "iopub.execute_input": "2024-06-20T07:15:13.824225Z",
     "iopub.status.busy": "2024-06-20T07:15:13.823862Z",
     "iopub.status.idle": "2024-06-20T07:15:13.836035Z",
     "shell.execute_reply": "2024-06-20T07:15:13.834887Z",
     "shell.execute_reply.started": "2024-06-20T07:15:13.824199Z"
    },
    "trusted": true
   },
   "outputs": [
    {
     "data": {
      "text/html": [
       "<div>\n",
       "<style scoped>\n",
       "    .dataframe tbody tr th:only-of-type {\n",
       "        vertical-align: middle;\n",
       "    }\n",
       "\n",
       "    .dataframe tbody tr th {\n",
       "        vertical-align: top;\n",
       "    }\n",
       "\n",
       "    .dataframe thead th {\n",
       "        text-align: right;\n",
       "    }\n",
       "</style>\n",
       "<table border=\"1\" class=\"dataframe\">\n",
       "  <thead>\n",
       "    <tr style=\"text-align: right;\">\n",
       "      <th></th>\n",
       "      <th>published_date</th>\n",
       "      <th>headlines</th>\n",
       "    </tr>\n",
       "  </thead>\n",
       "  <tbody>\n",
       "    <tr>\n",
       "      <th>0</th>\n",
       "      <td>01-01-2023</td>\n",
       "      <td>['‘OK, Mexico, Save Me’: After China, This Is ...</td>\n",
       "    </tr>\n",
       "    <tr>\n",
       "      <th>1</th>\n",
       "      <td>02-01-2023</td>\n",
       "      <td>['China’s Young Elite Clamber for Government J...</td>\n",
       "    </tr>\n",
       "    <tr>\n",
       "      <th>2</th>\n",
       "      <td>03-01-2023</td>\n",
       "      <td>['Wave of Job-Switching Has Employers on a Tra...</td>\n",
       "    </tr>\n",
       "    <tr>\n",
       "      <th>3</th>\n",
       "      <td>04-01-2023</td>\n",
       "      <td>['Father Deliberately Drove Car Off Cliff, Aut...</td>\n",
       "    </tr>\n",
       "    <tr>\n",
       "      <th>4</th>\n",
       "      <td>05-01-2023</td>\n",
       "      <td>['Amazon Expands Corporate Layoffs to 18,000 J...</td>\n",
       "    </tr>\n",
       "    <tr>\n",
       "      <th>...</th>\n",
       "      <td>...</td>\n",
       "      <td>...</td>\n",
       "    </tr>\n",
       "    <tr>\n",
       "      <th>461</th>\n",
       "      <td>06-04-2024</td>\n",
       "      <td>['U.S. Warns China About Its Exports and Suppo...</td>\n",
       "    </tr>\n",
       "    <tr>\n",
       "      <th>462</th>\n",
       "      <td>07-04-2024</td>\n",
       "      <td>['Q: Who Found a Way to Crack the U.K.’s Premi...</td>\n",
       "    </tr>\n",
       "    <tr>\n",
       "      <th>463</th>\n",
       "      <td>08-04-2024</td>\n",
       "      <td>['Maryland Passes 2 Major Privacy Bills, Despi...</td>\n",
       "    </tr>\n",
       "    <tr>\n",
       "      <th>464</th>\n",
       "      <td>09-04-2024</td>\n",
       "      <td>['Tesla Settles Lawsuit Over a Fatal Crash Inv...</td>\n",
       "    </tr>\n",
       "    <tr>\n",
       "      <th>465</th>\n",
       "      <td>10-04-2024</td>\n",
       "      <td>['Blizzard and NetEase Settle Their Beef, Retu...</td>\n",
       "    </tr>\n",
       "  </tbody>\n",
       "</table>\n",
       "<p>466 rows × 2 columns</p>\n",
       "</div>"
      ],
      "text/plain": [
       "    published_date                                          headlines\n",
       "0       01-01-2023  ['‘OK, Mexico, Save Me’: After China, This Is ...\n",
       "1       02-01-2023  ['China’s Young Elite Clamber for Government J...\n",
       "2       03-01-2023  ['Wave of Job-Switching Has Employers on a Tra...\n",
       "3       04-01-2023  ['Father Deliberately Drove Car Off Cliff, Aut...\n",
       "4       05-01-2023  ['Amazon Expands Corporate Layoffs to 18,000 J...\n",
       "..             ...                                                ...\n",
       "461     06-04-2024  ['U.S. Warns China About Its Exports and Suppo...\n",
       "462     07-04-2024  ['Q: Who Found a Way to Crack the U.K.’s Premi...\n",
       "463     08-04-2024  ['Maryland Passes 2 Major Privacy Bills, Despi...\n",
       "464     09-04-2024  ['Tesla Settles Lawsuit Over a Fatal Crash Inv...\n",
       "465     10-04-2024  ['Blizzard and NetEase Settle Their Beef, Retu...\n",
       "\n",
       "[466 rows x 2 columns]"
      ]
     },
     "execution_count": 16,
     "metadata": {},
     "output_type": "execute_result"
    }
   ],
   "source": [
    "tsla_hdl"
   ]
  },
  {
   "cell_type": "code",
   "execution_count": 17,
   "metadata": {
    "execution": {
     "iopub.execute_input": "2024-06-20T07:15:14.018217Z",
     "iopub.status.busy": "2024-06-20T07:15:14.017319Z",
     "iopub.status.idle": "2024-06-20T07:15:14.025948Z",
     "shell.execute_reply": "2024-06-20T07:15:14.024832Z",
     "shell.execute_reply.started": "2024-06-20T07:15:14.018174Z"
    },
    "trusted": true
   },
   "outputs": [],
   "source": [
    "nvda_stock['Date'] = pd.to_datetime(nvda_stock['Date'], format='%Y-%m-%d')\n",
    "nvda_hdl['Date'] = pd.to_datetime(nvda_hdl['published_date'], format='%Y-%m-%d')"
   ]
  },
  {
   "cell_type": "code",
   "execution_count": 18,
   "metadata": {
    "execution": {
     "iopub.execute_input": "2024-06-20T07:15:14.267880Z",
     "iopub.status.busy": "2024-06-20T07:15:14.267360Z",
     "iopub.status.idle": "2024-06-20T07:15:14.277180Z",
     "shell.execute_reply": "2024-06-20T07:15:14.276044Z",
     "shell.execute_reply.started": "2024-06-20T07:15:14.267839Z"
    },
    "trusted": true
   },
   "outputs": [],
   "source": [
    "tsla_stock['Date'] = pd.to_datetime(tsla_stock['Date'], format='%Y-%m-%d')\n",
    "tsla_hdl['Date'] = pd.to_datetime(tsla_hdl['published_date'], format='%d-%m-%Y')"
   ]
  },
  {
   "cell_type": "code",
   "execution_count": 19,
   "metadata": {
    "execution": {
     "iopub.execute_input": "2024-06-20T07:15:17.285666Z",
     "iopub.status.busy": "2024-06-20T07:15:17.284655Z",
     "iopub.status.idle": "2024-06-20T07:15:17.303375Z",
     "shell.execute_reply": "2024-06-20T07:15:17.302205Z",
     "shell.execute_reply.started": "2024-06-20T07:15:17.285628Z"
    },
    "trusted": true
   },
   "outputs": [
    {
     "name": "stderr",
     "output_type": "stream",
     "text": [
      "/tmp/ipykernel_33/1013012647.py:4: FutureWarning: Downcasting behavior in `replace` is deprecated and will be removed in a future version. To retain the old behavior, explicitly call `result.infer_objects(copy=False)`. To opt-in to the future behavior, set `pd.set_option('future.no_silent_downcasting', True)`\n",
      "  appl_stock_news['Label'] = appl_stock_news['Label'].replace(label_mapping)\n"
     ]
    }
   ],
   "source": [
    "appl_stock_news = pd.merge(appl_stock, aapl_hdl, on='Date', how='inner')\n",
    "\n",
    "label_mapping = {'increase': 1, 'decrease': -1, 'no_change': 0}\n",
    "appl_stock_news['Label'] = appl_stock_news['Label'].replace(label_mapping)\n"
   ]
  },
  {
   "cell_type": "code",
   "execution_count": 20,
   "metadata": {
    "execution": {
     "iopub.execute_input": "2024-06-20T07:15:17.698007Z",
     "iopub.status.busy": "2024-06-20T07:15:17.697191Z",
     "iopub.status.idle": "2024-06-20T07:15:17.708576Z",
     "shell.execute_reply": "2024-06-20T07:15:17.706664Z",
     "shell.execute_reply.started": "2024-06-20T07:15:17.697970Z"
    },
    "trusted": true
   },
   "outputs": [
    {
     "name": "stderr",
     "output_type": "stream",
     "text": [
      "/tmp/ipykernel_33/531126936.py:4: FutureWarning: Downcasting behavior in `replace` is deprecated and will be removed in a future version. To retain the old behavior, explicitly call `result.infer_objects(copy=False)`. To opt-in to the future behavior, set `pd.set_option('future.no_silent_downcasting', True)`\n",
      "  nvda_stock_news['Label'] = nvda_stock_news['Label'].replace(label_mapping)\n"
     ]
    }
   ],
   "source": [
    "nvda_stock_news = pd.merge(nvda_stock, nvda_hdl, on='Date', how='inner')\n",
    "\n",
    "label_mapping = {'increase': 1, 'decrease': -1, 'no_change': 0}\n",
    "nvda_stock_news['Label'] = nvda_stock_news['Label'].replace(label_mapping)"
   ]
  },
  {
   "cell_type": "code",
   "execution_count": 21,
   "metadata": {
    "execution": {
     "iopub.execute_input": "2024-06-20T07:15:18.238012Z",
     "iopub.status.busy": "2024-06-20T07:15:18.237185Z",
     "iopub.status.idle": "2024-06-20T07:15:18.247490Z",
     "shell.execute_reply": "2024-06-20T07:15:18.246427Z",
     "shell.execute_reply.started": "2024-06-20T07:15:18.237976Z"
    },
    "trusted": true
   },
   "outputs": [
    {
     "name": "stderr",
     "output_type": "stream",
     "text": [
      "/tmp/ipykernel_33/3635023046.py:4: FutureWarning: Downcasting behavior in `replace` is deprecated and will be removed in a future version. To retain the old behavior, explicitly call `result.infer_objects(copy=False)`. To opt-in to the future behavior, set `pd.set_option('future.no_silent_downcasting', True)`\n",
      "  tsla_stock_news['Label'] = tsla_stock_news['Label'].replace(label_mapping)\n"
     ]
    }
   ],
   "source": [
    "tsla_stock_news = pd.merge(tsla_stock, tsla_hdl, on='Date', how='inner')\n",
    "\n",
    "label_mapping = {'increase': 1, 'decrease': -1, 'no_change': 0}\n",
    "tsla_stock_news['Label'] = tsla_stock_news['Label'].replace(label_mapping)"
   ]
  },
  {
   "cell_type": "code",
   "execution_count": 22,
   "metadata": {
    "execution": {
     "iopub.execute_input": "2024-06-20T07:15:18.673984Z",
     "iopub.status.busy": "2024-06-20T07:15:18.673072Z",
     "iopub.status.idle": "2024-06-20T07:15:18.679410Z",
     "shell.execute_reply": "2024-06-20T07:15:18.678417Z",
     "shell.execute_reply.started": "2024-06-20T07:15:18.673950Z"
    },
    "trusted": true
   },
   "outputs": [],
   "source": [
    "# nvda_stock_news.drop(['published_date'], axis=1, inplace=True)\n",
    "tsla_stock_news.drop(['published_date'], axis=1, inplace=True)"
   ]
  },
  {
   "cell_type": "code",
   "execution_count": 23,
   "metadata": {
    "execution": {
     "iopub.execute_input": "2024-06-20T07:15:19.227732Z",
     "iopub.status.busy": "2024-06-20T07:15:19.227335Z",
     "iopub.status.idle": "2024-06-20T07:15:19.246348Z",
     "shell.execute_reply": "2024-06-20T07:15:19.245183Z",
     "shell.execute_reply.started": "2024-06-20T07:15:19.227701Z"
    },
    "trusted": true
   },
   "outputs": [
    {
     "data": {
      "text/html": [
       "<div>\n",
       "<style scoped>\n",
       "    .dataframe tbody tr th:only-of-type {\n",
       "        vertical-align: middle;\n",
       "    }\n",
       "\n",
       "    .dataframe tbody tr th {\n",
       "        vertical-align: top;\n",
       "    }\n",
       "\n",
       "    .dataframe thead th {\n",
       "        text-align: right;\n",
       "    }\n",
       "</style>\n",
       "<table border=\"1\" class=\"dataframe\">\n",
       "  <thead>\n",
       "    <tr style=\"text-align: right;\">\n",
       "      <th></th>\n",
       "      <th>Date</th>\n",
       "      <th>Open</th>\n",
       "      <th>High</th>\n",
       "      <th>Low</th>\n",
       "      <th>Close</th>\n",
       "      <th>Adj Close</th>\n",
       "      <th>Volume</th>\n",
       "      <th>Price_Change</th>\n",
       "      <th>Label</th>\n",
       "      <th>headlines</th>\n",
       "    </tr>\n",
       "  </thead>\n",
       "  <tbody>\n",
       "    <tr>\n",
       "      <th>0</th>\n",
       "      <td>2023-01-03</td>\n",
       "      <td>118.470001</td>\n",
       "      <td>118.800003</td>\n",
       "      <td>104.639999</td>\n",
       "      <td>108.099998</td>\n",
       "      <td>108.099998</td>\n",
       "      <td>231402800</td>\n",
       "      <td>NaN</td>\n",
       "      <td>0</td>\n",
       "      <td>['Wave of Job-Switching Has Employers on a Tra...</td>\n",
       "    </tr>\n",
       "    <tr>\n",
       "      <th>1</th>\n",
       "      <td>2023-01-04</td>\n",
       "      <td>109.110001</td>\n",
       "      <td>114.589996</td>\n",
       "      <td>107.519997</td>\n",
       "      <td>113.639999</td>\n",
       "      <td>113.639999</td>\n",
       "      <td>180389000</td>\n",
       "      <td>0.051249</td>\n",
       "      <td>1</td>\n",
       "      <td>['Father Deliberately Drove Car Off Cliff, Aut...</td>\n",
       "    </tr>\n",
       "    <tr>\n",
       "      <th>2</th>\n",
       "      <td>2023-01-05</td>\n",
       "      <td>110.510002</td>\n",
       "      <td>111.750000</td>\n",
       "      <td>107.160004</td>\n",
       "      <td>110.339996</td>\n",
       "      <td>110.339996</td>\n",
       "      <td>157986300</td>\n",
       "      <td>-0.029039</td>\n",
       "      <td>-1</td>\n",
       "      <td>['Amazon Expands Corporate Layoffs to 18,000 J...</td>\n",
       "    </tr>\n",
       "    <tr>\n",
       "      <th>3</th>\n",
       "      <td>2023-01-06</td>\n",
       "      <td>103.000000</td>\n",
       "      <td>114.389999</td>\n",
       "      <td>101.809998</td>\n",
       "      <td>113.059998</td>\n",
       "      <td>113.059998</td>\n",
       "      <td>220911100</td>\n",
       "      <td>0.024651</td>\n",
       "      <td>1</td>\n",
       "      <td>['Even a Soft Landing for the Economy May Be U...</td>\n",
       "    </tr>\n",
       "    <tr>\n",
       "      <th>4</th>\n",
       "      <td>2023-01-09</td>\n",
       "      <td>118.959999</td>\n",
       "      <td>123.519997</td>\n",
       "      <td>117.110001</td>\n",
       "      <td>119.769997</td>\n",
       "      <td>119.769997</td>\n",
       "      <td>190284000</td>\n",
       "      <td>0.059349</td>\n",
       "      <td>1</td>\n",
       "      <td>['Phoenix Police Investigate Their Detention o...</td>\n",
       "    </tr>\n",
       "    <tr>\n",
       "      <th>...</th>\n",
       "      <td>...</td>\n",
       "      <td>...</td>\n",
       "      <td>...</td>\n",
       "      <td>...</td>\n",
       "      <td>...</td>\n",
       "      <td>...</td>\n",
       "      <td>...</td>\n",
       "      <td>...</td>\n",
       "      <td>...</td>\n",
       "      <td>...</td>\n",
       "    </tr>\n",
       "    <tr>\n",
       "      <th>312</th>\n",
       "      <td>2024-04-02</td>\n",
       "      <td>164.750000</td>\n",
       "      <td>167.690002</td>\n",
       "      <td>163.429993</td>\n",
       "      <td>166.630005</td>\n",
       "      <td>166.630005</td>\n",
       "      <td>116650600</td>\n",
       "      <td>-0.049024</td>\n",
       "      <td>-1</td>\n",
       "      <td>['Poor Nations Are Writing a New Handbook for ...</td>\n",
       "    </tr>\n",
       "    <tr>\n",
       "      <th>313</th>\n",
       "      <td>2024-04-03</td>\n",
       "      <td>164.020004</td>\n",
       "      <td>168.820007</td>\n",
       "      <td>163.279999</td>\n",
       "      <td>168.380005</td>\n",
       "      <td>168.380005</td>\n",
       "      <td>82950100</td>\n",
       "      <td>0.010502</td>\n",
       "      <td>1</td>\n",
       "      <td>['Biden and Corporate America? It’s ‘Complicat...</td>\n",
       "    </tr>\n",
       "    <tr>\n",
       "      <th>314</th>\n",
       "      <td>2024-04-04</td>\n",
       "      <td>170.070007</td>\n",
       "      <td>177.190002</td>\n",
       "      <td>168.009995</td>\n",
       "      <td>171.110001</td>\n",
       "      <td>171.110001</td>\n",
       "      <td>123162000</td>\n",
       "      <td>0.016213</td>\n",
       "      <td>1</td>\n",
       "      <td>['How to Revive a Burned Forest? Rebuild the T...</td>\n",
       "    </tr>\n",
       "    <tr>\n",
       "      <th>315</th>\n",
       "      <td>2024-04-05</td>\n",
       "      <td>169.080002</td>\n",
       "      <td>170.860001</td>\n",
       "      <td>160.509995</td>\n",
       "      <td>164.899994</td>\n",
       "      <td>164.899994</td>\n",
       "      <td>141250700</td>\n",
       "      <td>-0.036292</td>\n",
       "      <td>-1</td>\n",
       "      <td>['China’s Young People Are Giving Up on Saving...</td>\n",
       "    </tr>\n",
       "    <tr>\n",
       "      <th>316</th>\n",
       "      <td>2024-04-08</td>\n",
       "      <td>169.339996</td>\n",
       "      <td>174.500000</td>\n",
       "      <td>167.789993</td>\n",
       "      <td>172.979996</td>\n",
       "      <td>172.979996</td>\n",
       "      <td>104423300</td>\n",
       "      <td>0.048999</td>\n",
       "      <td>1</td>\n",
       "      <td>['Maryland Passes 2 Major Privacy Bills, Despi...</td>\n",
       "    </tr>\n",
       "  </tbody>\n",
       "</table>\n",
       "<p>317 rows × 10 columns</p>\n",
       "</div>"
      ],
      "text/plain": [
       "          Date        Open        High         Low       Close   Adj Close  \\\n",
       "0   2023-01-03  118.470001  118.800003  104.639999  108.099998  108.099998   \n",
       "1   2023-01-04  109.110001  114.589996  107.519997  113.639999  113.639999   \n",
       "2   2023-01-05  110.510002  111.750000  107.160004  110.339996  110.339996   \n",
       "3   2023-01-06  103.000000  114.389999  101.809998  113.059998  113.059998   \n",
       "4   2023-01-09  118.959999  123.519997  117.110001  119.769997  119.769997   \n",
       "..         ...         ...         ...         ...         ...         ...   \n",
       "312 2024-04-02  164.750000  167.690002  163.429993  166.630005  166.630005   \n",
       "313 2024-04-03  164.020004  168.820007  163.279999  168.380005  168.380005   \n",
       "314 2024-04-04  170.070007  177.190002  168.009995  171.110001  171.110001   \n",
       "315 2024-04-05  169.080002  170.860001  160.509995  164.899994  164.899994   \n",
       "316 2024-04-08  169.339996  174.500000  167.789993  172.979996  172.979996   \n",
       "\n",
       "        Volume  Price_Change  Label  \\\n",
       "0    231402800           NaN      0   \n",
       "1    180389000      0.051249      1   \n",
       "2    157986300     -0.029039     -1   \n",
       "3    220911100      0.024651      1   \n",
       "4    190284000      0.059349      1   \n",
       "..         ...           ...    ...   \n",
       "312  116650600     -0.049024     -1   \n",
       "313   82950100      0.010502      1   \n",
       "314  123162000      0.016213      1   \n",
       "315  141250700     -0.036292     -1   \n",
       "316  104423300      0.048999      1   \n",
       "\n",
       "                                             headlines  \n",
       "0    ['Wave of Job-Switching Has Employers on a Tra...  \n",
       "1    ['Father Deliberately Drove Car Off Cliff, Aut...  \n",
       "2    ['Amazon Expands Corporate Layoffs to 18,000 J...  \n",
       "3    ['Even a Soft Landing for the Economy May Be U...  \n",
       "4    ['Phoenix Police Investigate Their Detention o...  \n",
       "..                                                 ...  \n",
       "312  ['Poor Nations Are Writing a New Handbook for ...  \n",
       "313  ['Biden and Corporate America? It’s ‘Complicat...  \n",
       "314  ['How to Revive a Burned Forest? Rebuild the T...  \n",
       "315  ['China’s Young People Are Giving Up on Saving...  \n",
       "316  ['Maryland Passes 2 Major Privacy Bills, Despi...  \n",
       "\n",
       "[317 rows x 10 columns]"
      ]
     },
     "execution_count": 23,
     "metadata": {},
     "output_type": "execute_result"
    }
   ],
   "source": [
    "tsla_stock_news"
   ]
  },
  {
   "cell_type": "code",
   "execution_count": 24,
   "metadata": {
    "execution": {
     "iopub.execute_input": "2024-06-20T07:15:19.838223Z",
     "iopub.status.busy": "2024-06-20T07:15:19.837287Z",
     "iopub.status.idle": "2024-06-20T07:15:20.295653Z",
     "shell.execute_reply": "2024-06-20T07:15:20.294452Z",
     "shell.execute_reply.started": "2024-06-20T07:15:19.838188Z"
    },
    "trusted": true
   },
   "outputs": [],
   "source": [
    "from nltk.stem import PorterStemmer\n",
    "import nltk\n",
    "stemmer = PorterStemmer()"
   ]
  },
  {
   "cell_type": "code",
   "execution_count": 25,
   "metadata": {
    "execution": {
     "iopub.execute_input": "2024-06-20T07:15:38.168111Z",
     "iopub.status.busy": "2024-06-20T07:15:38.167373Z",
     "iopub.status.idle": "2024-06-20T07:15:43.601949Z",
     "shell.execute_reply": "2024-06-20T07:15:43.600953Z",
     "shell.execute_reply.started": "2024-06-20T07:15:38.168070Z"
    },
    "trusted": true
   },
   "outputs": [],
   "source": [
    "import spacy\n",
    "nlp = spacy.load(\"en_core_web_sm\")"
   ]
  },
  {
   "cell_type": "code",
   "execution_count": 26,
   "metadata": {
    "execution": {
     "iopub.execute_input": "2024-06-20T07:15:43.604058Z",
     "iopub.status.busy": "2024-06-20T07:15:43.603529Z",
     "iopub.status.idle": "2024-06-20T07:15:43.649290Z",
     "shell.execute_reply": "2024-06-20T07:15:43.647957Z",
     "shell.execute_reply.started": "2024-06-20T07:15:43.604028Z"
    },
    "trusted": true
   },
   "outputs": [],
   "source": [
    "from textblob import TextBlob"
   ]
  },
  {
   "cell_type": "code",
   "execution_count": 27,
   "metadata": {
    "execution": {
     "iopub.execute_input": "2024-06-20T07:15:47.128215Z",
     "iopub.status.busy": "2024-06-20T07:15:47.127396Z",
     "iopub.status.idle": "2024-06-20T07:15:47.134481Z",
     "shell.execute_reply": "2024-06-20T07:15:47.133354Z",
     "shell.execute_reply.started": "2024-06-20T07:15:47.128181Z"
    },
    "trusted": true
   },
   "outputs": [],
   "source": [
    "def preprocess(text):\n",
    "    doc = nlp(text)\n",
    "    no_stop_words = [token.text for token in doc if not token.is_stop and not token.is_punct]\n",
    "    token = \" \".join(no_stop_words)\n",
    "    token = [token.lemma_ for token in nlp(token)]\n",
    "    token = \" \".join(token)\n",
    "    token = [stemmer.stem(token.text) for token in nlp(token)]\n",
    "    token = \" \".join(token)\n",
    "    return token"
   ]
  },
  {
   "cell_type": "code",
   "execution_count": 28,
   "metadata": {
    "execution": {
     "iopub.execute_input": "2024-06-20T07:15:47.136572Z",
     "iopub.status.busy": "2024-06-20T07:15:47.136208Z",
     "iopub.status.idle": "2024-06-20T07:16:09.750957Z",
     "shell.execute_reply": "2024-06-20T07:16:09.750054Z",
     "shell.execute_reply.started": "2024-06-20T07:15:47.136519Z"
    },
    "trusted": true
   },
   "outputs": [],
   "source": [
    "nvda_stock_news['headlines'] = nvda_stock_news['headlines'].apply(preprocess)"
   ]
  },
  {
   "cell_type": "code",
   "execution_count": 29,
   "metadata": {
    "execution": {
     "iopub.execute_input": "2024-06-20T07:16:09.752875Z",
     "iopub.status.busy": "2024-06-20T07:16:09.752547Z",
     "iopub.status.idle": "2024-06-20T07:16:30.988065Z",
     "shell.execute_reply": "2024-06-20T07:16:30.987079Z",
     "shell.execute_reply.started": "2024-06-20T07:16:09.752849Z"
    },
    "trusted": true
   },
   "outputs": [],
   "source": [
    "appl_stock_news['headlines'] = appl_stock_news['headlines'].apply(preprocess)"
   ]
  },
  {
   "cell_type": "code",
   "execution_count": 30,
   "metadata": {
    "execution": {
     "iopub.execute_input": "2024-06-20T07:16:30.989725Z",
     "iopub.status.busy": "2024-06-20T07:16:30.989361Z",
     "iopub.status.idle": "2024-06-20T07:16:52.239830Z",
     "shell.execute_reply": "2024-06-20T07:16:52.238871Z",
     "shell.execute_reply.started": "2024-06-20T07:16:30.989695Z"
    },
    "trusted": true
   },
   "outputs": [],
   "source": [
    "tsla_stock_news['headlines'] = tsla_stock_news['headlines'].apply(preprocess)"
   ]
  },
  {
   "cell_type": "code",
   "execution_count": 31,
   "metadata": {
    "execution": {
     "iopub.execute_input": "2024-06-20T07:16:52.242272Z",
     "iopub.status.busy": "2024-06-20T07:16:52.241941Z",
     "iopub.status.idle": "2024-06-20T07:16:52.247038Z",
     "shell.execute_reply": "2024-06-20T07:16:52.246111Z",
     "shell.execute_reply.started": "2024-06-20T07:16:52.242245Z"
    },
    "trusted": true
   },
   "outputs": [],
   "source": [
    "def get_subjectivity(text):\n",
    "    return TextBlob(text).sentiment.subjectivity"
   ]
  },
  {
   "cell_type": "code",
   "execution_count": 32,
   "metadata": {
    "execution": {
     "iopub.execute_input": "2024-06-20T07:17:15.023332Z",
     "iopub.status.busy": "2024-06-20T07:17:15.022944Z",
     "iopub.status.idle": "2024-06-20T07:17:15.028063Z",
     "shell.execute_reply": "2024-06-20T07:17:15.026986Z",
     "shell.execute_reply.started": "2024-06-20T07:17:15.023300Z"
    },
    "trusted": true
   },
   "outputs": [],
   "source": [
    "def get_polarity(text):\n",
    "    return TextBlob(text).sentiment.polarity"
   ]
  },
  {
   "cell_type": "code",
   "execution_count": 33,
   "metadata": {
    "execution": {
     "iopub.execute_input": "2024-06-20T07:17:16.068258Z",
     "iopub.status.busy": "2024-06-20T07:17:16.067882Z",
     "iopub.status.idle": "2024-06-20T07:17:16.342944Z",
     "shell.execute_reply": "2024-06-20T07:17:16.341873Z",
     "shell.execute_reply.started": "2024-06-20T07:17:16.068228Z"
    },
    "trusted": true
   },
   "outputs": [],
   "source": [
    "appl_stock_news['subjectivity'] = appl_stock_news['headlines'].apply(get_subjectivity)"
   ]
  },
  {
   "cell_type": "code",
   "execution_count": 34,
   "metadata": {
    "execution": {
     "iopub.execute_input": "2024-06-20T07:17:16.677879Z",
     "iopub.status.busy": "2024-06-20T07:17:16.677468Z",
     "iopub.status.idle": "2024-06-20T07:17:16.910610Z",
     "shell.execute_reply": "2024-06-20T07:17:16.909775Z",
     "shell.execute_reply.started": "2024-06-20T07:17:16.677848Z"
    },
    "trusted": true
   },
   "outputs": [],
   "source": [
    "nvda_stock_news['subjectivity'] = nvda_stock_news['headlines'].apply(get_subjectivity)"
   ]
  },
  {
   "cell_type": "code",
   "execution_count": 35,
   "metadata": {
    "execution": {
     "iopub.execute_input": "2024-06-20T07:17:17.188345Z",
     "iopub.status.busy": "2024-06-20T07:17:17.187277Z",
     "iopub.status.idle": "2024-06-20T07:17:17.421973Z",
     "shell.execute_reply": "2024-06-20T07:17:17.420974Z",
     "shell.execute_reply.started": "2024-06-20T07:17:17.188308Z"
    },
    "trusted": true
   },
   "outputs": [],
   "source": [
    "tsla_stock_news['subjectivity'] = tsla_stock_news['headlines'].apply(get_subjectivity)"
   ]
  },
  {
   "cell_type": "code",
   "execution_count": 36,
   "metadata": {
    "execution": {
     "iopub.execute_input": "2024-06-20T07:17:17.708355Z",
     "iopub.status.busy": "2024-06-20T07:17:17.707990Z",
     "iopub.status.idle": "2024-06-20T07:17:17.942650Z",
     "shell.execute_reply": "2024-06-20T07:17:17.941798Z",
     "shell.execute_reply.started": "2024-06-20T07:17:17.708329Z"
    },
    "trusted": true
   },
   "outputs": [],
   "source": [
    "appl_stock_news['polarity'] = appl_stock_news['headlines'].apply(get_polarity)"
   ]
  },
  {
   "cell_type": "code",
   "execution_count": 37,
   "metadata": {
    "execution": {
     "iopub.execute_input": "2024-06-20T07:17:18.178041Z",
     "iopub.status.busy": "2024-06-20T07:17:18.177647Z",
     "iopub.status.idle": "2024-06-20T07:17:18.412578Z",
     "shell.execute_reply": "2024-06-20T07:17:18.411490Z",
     "shell.execute_reply.started": "2024-06-20T07:17:18.178011Z"
    },
    "trusted": true
   },
   "outputs": [],
   "source": [
    "nvda_stock_news['polarity'] = nvda_stock_news['headlines'].apply(get_polarity)"
   ]
  },
  {
   "cell_type": "code",
   "execution_count": 38,
   "metadata": {
    "execution": {
     "iopub.execute_input": "2024-06-20T07:17:18.748165Z",
     "iopub.status.busy": "2024-06-20T07:17:18.747256Z",
     "iopub.status.idle": "2024-06-20T07:17:18.977256Z",
     "shell.execute_reply": "2024-06-20T07:17:18.976158Z",
     "shell.execute_reply.started": "2024-06-20T07:17:18.748132Z"
    },
    "trusted": true
   },
   "outputs": [],
   "source": [
    "tsla_stock_news['polarity'] = tsla_stock_news['headlines'].apply(get_polarity)"
   ]
  },
  {
   "cell_type": "code",
   "execution_count": 39,
   "metadata": {
    "execution": {
     "iopub.execute_input": "2024-06-20T07:17:21.117914Z",
     "iopub.status.busy": "2024-06-20T07:17:21.117486Z",
     "iopub.status.idle": "2024-06-20T07:17:21.122824Z",
     "shell.execute_reply": "2024-06-20T07:17:21.121752Z",
     "shell.execute_reply.started": "2024-06-20T07:17:21.117884Z"
    },
    "trusted": true
   },
   "outputs": [],
   "source": [
    "def SIA(text):\n",
    "    sia = SentimentIntensityAnalyzer()\n",
    "    sentiment = sia.polarity_scores(text)\n",
    "    return sentiment"
   ]
  },
  {
   "cell_type": "code",
   "execution_count": 40,
   "metadata": {
    "execution": {
     "iopub.execute_input": "2024-06-20T07:17:22.608571Z",
     "iopub.status.busy": "2024-06-20T07:17:22.607749Z",
     "iopub.status.idle": "2024-06-20T07:17:26.236235Z",
     "shell.execute_reply": "2024-06-20T07:17:26.235284Z",
     "shell.execute_reply.started": "2024-06-20T07:17:22.608484Z"
    },
    "trusted": true
   },
   "outputs": [],
   "source": [
    "compounded = []\n",
    "negative =[]\n",
    "positive = []\n",
    "neutral = []\n",
    "\n",
    "for i in range(len(appl_stock_news['headlines'])):\n",
    "    scores =SIA(appl_stock_news['headlines'][i])\n",
    "    compounded.append(scores['compound'])\n",
    "    negative.append(scores['neg'])\n",
    "    neutral.append(scores['neu'])\n",
    "    positive.append(scores['pos'])"
   ]
  },
  {
   "cell_type": "code",
   "execution_count": 41,
   "metadata": {
    "execution": {
     "iopub.execute_input": "2024-06-20T07:17:26.239211Z",
     "iopub.status.busy": "2024-06-20T07:17:26.238192Z",
     "iopub.status.idle": "2024-06-20T07:17:26.245905Z",
     "shell.execute_reply": "2024-06-20T07:17:26.244746Z",
     "shell.execute_reply.started": "2024-06-20T07:17:26.239179Z"
    },
    "trusted": true
   },
   "outputs": [
    {
     "data": {
      "text/plain": [
       "317"
      ]
     },
     "execution_count": 41,
     "metadata": {},
     "output_type": "execute_result"
    }
   ],
   "source": [
    "len(appl_stock_news['headlines'])"
   ]
  },
  {
   "cell_type": "code",
   "execution_count": 42,
   "metadata": {
    "execution": {
     "iopub.execute_input": "2024-06-20T07:17:26.247475Z",
     "iopub.status.busy": "2024-06-20T07:17:26.247101Z",
     "iopub.status.idle": "2024-06-20T07:17:30.017000Z",
     "shell.execute_reply": "2024-06-20T07:17:30.015891Z",
     "shell.execute_reply.started": "2024-06-20T07:17:26.247442Z"
    },
    "trusted": true
   },
   "outputs": [],
   "source": [
    "compound = []\n",
    "neg =[]\n",
    "pos = []\n",
    "neu = []\n",
    "\n",
    "for i in range(len(nvda_stock_news['headlines'])):\n",
    "    scores = SIA(nvda_stock_news['headlines'][i])\n",
    "    compound.append(scores['compound'])\n",
    "    neg.append(scores['neg'])\n",
    "    neu.append(scores['neu'])\n",
    "    pos.append(scores['pos'])"
   ]
  },
  {
   "cell_type": "code",
   "execution_count": 43,
   "metadata": {
    "execution": {
     "iopub.execute_input": "2024-06-20T07:17:30.019383Z",
     "iopub.status.busy": "2024-06-20T07:17:30.019051Z",
     "iopub.status.idle": "2024-06-20T07:17:33.659082Z",
     "shell.execute_reply": "2024-06-20T07:17:33.658048Z",
     "shell.execute_reply.started": "2024-06-20T07:17:30.019354Z"
    },
    "trusted": true
   },
   "outputs": [],
   "source": [
    "compounds = []\n",
    "negs =[]\n",
    "poss = []\n",
    "neus = []\n",
    "\n",
    "for i in range(len(nvda_stock_news['headlines'])):\n",
    "    scores = SIA(tsla_stock_news['headlines'][i])\n",
    "    compounds.append(scores['compound'])\n",
    "    negs.append(scores['neg'])\n",
    "    neus.append(scores['neu'])\n",
    "    poss.append(scores['pos'])"
   ]
  },
  {
   "cell_type": "code",
   "execution_count": 45,
   "metadata": {
    "execution": {
     "iopub.execute_input": "2024-06-20T07:17:33.684692Z",
     "iopub.status.busy": "2024-06-20T07:17:33.684253Z",
     "iopub.status.idle": "2024-06-20T07:17:33.693701Z",
     "shell.execute_reply": "2024-06-20T07:17:33.692586Z",
     "shell.execute_reply.started": "2024-06-20T07:17:33.684656Z"
    },
    "trusted": true
   },
   "outputs": [
    {
     "data": {
      "text/plain": [
       "317"
      ]
     },
     "execution_count": 45,
     "metadata": {},
     "output_type": "execute_result"
    }
   ],
   "source": [
    "len(compound)"
   ]
  },
  {
   "cell_type": "code",
   "execution_count": 46,
   "metadata": {
    "execution": {
     "iopub.execute_input": "2024-06-20T07:17:38.797814Z",
     "iopub.status.busy": "2024-06-20T07:17:38.797431Z",
     "iopub.status.idle": "2024-06-20T07:17:38.805109Z",
     "shell.execute_reply": "2024-06-20T07:17:38.803796Z",
     "shell.execute_reply.started": "2024-06-20T07:17:38.797786Z"
    },
    "trusted": true
   },
   "outputs": [],
   "source": [
    "nvda_stock_news['compound'] = compound\n",
    "nvda_stock_news['negative'] = neg\n",
    "nvda_stock_news['positive'] = pos\n",
    "nvda_stock_news['neutral'] = neu"
   ]
  },
  {
   "cell_type": "code",
   "execution_count": 47,
   "metadata": {
    "execution": {
     "iopub.execute_input": "2024-06-20T07:17:39.517920Z",
     "iopub.status.busy": "2024-06-20T07:17:39.517511Z",
     "iopub.status.idle": "2024-06-20T07:17:39.525144Z",
     "shell.execute_reply": "2024-06-20T07:17:39.523787Z",
     "shell.execute_reply.started": "2024-06-20T07:17:39.517892Z"
    },
    "trusted": true
   },
   "outputs": [],
   "source": [
    "appl_stock_news['compound'] = compounded\n",
    "appl_stock_news['negative'] = negative\n",
    "appl_stock_news['positive'] = positive\n",
    "appl_stock_news['neutral'] = neutral"
   ]
  },
  {
   "cell_type": "code",
   "execution_count": 48,
   "metadata": {
    "execution": {
     "iopub.execute_input": "2024-06-20T07:17:40.168296Z",
     "iopub.status.busy": "2024-06-20T07:17:40.167404Z",
     "iopub.status.idle": "2024-06-20T07:17:40.174842Z",
     "shell.execute_reply": "2024-06-20T07:17:40.173768Z",
     "shell.execute_reply.started": "2024-06-20T07:17:40.168263Z"
    },
    "trusted": true
   },
   "outputs": [],
   "source": [
    "tsla_stock_news['compound'] = compounds\n",
    "tsla_stock_news['negative'] = negs\n",
    "tsla_stock_news['positive'] = poss\n",
    "tsla_stock_news['neutral'] = neus"
   ]
  },
  {
   "cell_type": "code",
   "execution_count": 51,
   "metadata": {
    "execution": {
     "iopub.execute_input": "2024-06-20T07:17:41.963409Z",
     "iopub.status.busy": "2024-06-20T07:17:41.962489Z",
     "iopub.status.idle": "2024-06-20T07:17:41.967848Z",
     "shell.execute_reply": "2024-06-20T07:17:41.966583Z",
     "shell.execute_reply.started": "2024-06-20T07:17:41.963374Z"
    },
    "trusted": true
   },
   "outputs": [],
   "source": [
    "from imblearn.over_sampling import SMOTE"
   ]
  },
  {
   "cell_type": "code",
   "execution_count": 52,
   "metadata": {
    "execution": {
     "iopub.execute_input": "2024-06-20T07:17:44.048142Z",
     "iopub.status.busy": "2024-06-20T07:17:44.047756Z",
     "iopub.status.idle": "2024-06-20T07:17:44.053320Z",
     "shell.execute_reply": "2024-06-20T07:17:44.052092Z",
     "shell.execute_reply.started": "2024-06-20T07:17:44.048110Z"
    },
    "trusted": true
   },
   "outputs": [],
   "source": [
    "smote = SMOTE(sampling_strategy='minority')"
   ]
  },
  {
   "cell_type": "code",
   "execution_count": null,
   "metadata": {
    "execution": {
     "iopub.execute_input": "2024-06-20T07:17:44.055278Z",
     "iopub.status.busy": "2024-06-20T07:17:44.054965Z",
     "iopub.status.idle": "2024-06-20T07:17:44.085683Z",
     "shell.execute_reply": "2024-06-20T07:17:44.084613Z",
     "shell.execute_reply.started": "2024-06-20T07:17:44.055251Z"
    },
    "trusted": true
   },
   "outputs": [],
   "source": [
    "appl_stock_news.fillna(0)"
   ]
  },
  {
   "cell_type": "code",
   "execution_count": null,
   "metadata": {
    "execution": {
     "iopub.execute_input": "2024-06-20T07:17:44.387778Z",
     "iopub.status.busy": "2024-06-20T07:17:44.387374Z",
     "iopub.status.idle": "2024-06-20T07:17:44.414786Z",
     "shell.execute_reply": "2024-06-20T07:17:44.413452Z",
     "shell.execute_reply.started": "2024-06-20T07:17:44.387746Z"
    },
    "trusted": true
   },
   "outputs": [],
   "source": [
    "tsla_stock_news.fillna(0)"
   ]
  },
  {
   "cell_type": "code",
   "execution_count": null,
   "metadata": {
    "execution": {
     "iopub.execute_input": "2024-06-20T07:17:45.837715Z",
     "iopub.status.busy": "2024-06-20T07:17:45.837288Z",
     "iopub.status.idle": "2024-06-20T07:17:45.862733Z",
     "shell.execute_reply": "2024-06-20T07:17:45.861621Z",
     "shell.execute_reply.started": "2024-06-20T07:17:45.837680Z"
    },
    "trusted": true
   },
   "outputs": [],
   "source": [
    "tsla_stock_news.fillna(0)"
   ]
  },
  {
   "cell_type": "code",
   "execution_count": 56,
   "metadata": {
    "execution": {
     "iopub.execute_input": "2024-06-20T07:17:46.478154Z",
     "iopub.status.busy": "2024-06-20T07:17:46.477783Z",
     "iopub.status.idle": "2024-06-20T07:17:46.483150Z",
     "shell.execute_reply": "2024-06-20T07:17:46.482025Z",
     "shell.execute_reply.started": "2024-06-20T07:17:46.478128Z"
    },
    "trusted": true
   },
   "outputs": [],
   "source": [
    "from sklearn.model_selection import train_test_split"
   ]
  },
  {
   "cell_type": "code",
   "execution_count": 58,
   "metadata": {
    "execution": {
     "iopub.execute_input": "2024-06-20T07:17:47.363156Z",
     "iopub.status.busy": "2024-06-20T07:17:47.362763Z",
     "iopub.status.idle": "2024-06-20T07:17:47.372707Z",
     "shell.execute_reply": "2024-06-20T07:17:47.371586Z",
     "shell.execute_reply.started": "2024-06-20T07:17:47.363124Z"
    },
    "trusted": true
   },
   "outputs": [],
   "source": [
    "A_X = appl_stock_news.drop(['Date', 'Open', 'High', 'Low', 'Close', 'Adj Close', 'Volume','Price_Change', 'negative', 'positive', 'neutral'], axis=1)\n",
    "# Selecting the label column\n",
    "A_y = appl_stock_news['Label']\n",
    "\n",
    "# Splitting the data into training and testing sets\n",
    "A_X_train, A_X_test = train_test_split(A_X , test_size=0.2)"
   ]
  },
  {
   "cell_type": "code",
   "execution_count": 59,
   "metadata": {
    "execution": {
     "iopub.execute_input": "2024-06-20T07:17:49.848340Z",
     "iopub.status.busy": "2024-06-20T07:17:49.847948Z",
     "iopub.status.idle": "2024-06-20T07:17:49.857441Z",
     "shell.execute_reply": "2024-06-20T07:17:49.856407Z",
     "shell.execute_reply.started": "2024-06-20T07:17:49.848308Z"
    },
    "trusted": true
   },
   "outputs": [],
   "source": [
    "T_X = tsla_stock_news.drop(['Date', 'Open', 'High', 'Low', 'Close', 'Adj Close', 'Volume','Price_Change', 'negative', 'positive', 'neutral'], axis=1)\n",
    "# Selecting the label column\n",
    "# T_y = tsla_stock_news['Label']\n",
    "\n",
    "# Splitting the data into training and testing sets\n",
    "T_X_train, T_X_test = train_test_split(T_X, test_size=0.2)"
   ]
  },
  {
   "cell_type": "code",
   "execution_count": 60,
   "metadata": {
    "execution": {
     "iopub.execute_input": "2024-06-20T07:17:49.860345Z",
     "iopub.status.busy": "2024-06-20T07:17:49.859498Z",
     "iopub.status.idle": "2024-06-20T07:17:49.872428Z",
     "shell.execute_reply": "2024-06-20T07:17:49.871265Z",
     "shell.execute_reply.started": "2024-06-20T07:17:49.860316Z"
    },
    "trusted": true
   },
   "outputs": [],
   "source": [
    "N_X = nvda_stock_news.drop(['Date', 'Open', 'High', 'Low', 'Close', 'Adj Close', 'Volume','Price_Change', 'negative', 'positive', 'neutral'], axis=1)\n",
    "# Selecting the label column\n",
    "# N_y = nvda_stock_news['Label']\n",
    "\n",
    "# Splitting the data into training and testing sets\n",
    "N_X_train, N_X_test= train_test_split(N_X, test_size=0.2)"
   ]
  },
  {
   "cell_type": "code",
   "execution_count": 61,
   "metadata": {
    "execution": {
     "iopub.execute_input": "2024-06-20T07:17:52.872841Z",
     "iopub.status.busy": "2024-06-20T07:17:52.872432Z",
     "iopub.status.idle": "2024-06-20T07:17:52.880655Z",
     "shell.execute_reply": "2024-06-20T07:17:52.879656Z",
     "shell.execute_reply.started": "2024-06-20T07:17:52.872811Z"
    },
    "trusted": true
   },
   "outputs": [],
   "source": [
    "X_Train = pd.concat([A_X_train, T_X_train, N_X_train], axis=0)"
   ]
  },
  {
   "cell_type": "code",
   "execution_count": 62,
   "metadata": {
    "execution": {
     "iopub.execute_input": "2024-06-20T07:17:53.278187Z",
     "iopub.status.busy": "2024-06-20T07:17:53.277778Z",
     "iopub.status.idle": "2024-06-20T07:17:53.285337Z",
     "shell.execute_reply": "2024-06-20T07:17:53.284306Z",
     "shell.execute_reply.started": "2024-06-20T07:17:53.278157Z"
    },
    "trusted": true
   },
   "outputs": [],
   "source": [
    "X_Test = pd.concat([A_X_test, T_X_test, N_X_test], axis=0)"
   ]
  },
  {
   "cell_type": "code",
   "execution_count": 63,
   "metadata": {
    "execution": {
     "iopub.execute_input": "2024-06-20T07:17:53.873369Z",
     "iopub.status.busy": "2024-06-20T07:17:53.872640Z",
     "iopub.status.idle": "2024-06-20T07:17:53.878893Z",
     "shell.execute_reply": "2024-06-20T07:17:53.877712Z",
     "shell.execute_reply.started": "2024-06-20T07:17:53.873338Z"
    },
    "trusted": true
   },
   "outputs": [],
   "source": [
    "X_Train.drop(['published_date'], axis=1, inplace=True)"
   ]
  },
  {
   "cell_type": "code",
   "execution_count": 64,
   "metadata": {
    "execution": {
     "iopub.execute_input": "2024-06-20T07:17:57.988683Z",
     "iopub.status.busy": "2024-06-20T07:17:57.988273Z",
     "iopub.status.idle": "2024-06-20T07:17:58.003965Z",
     "shell.execute_reply": "2024-06-20T07:17:58.002902Z",
     "shell.execute_reply.started": "2024-06-20T07:17:57.988652Z"
    },
    "trusted": true
   },
   "outputs": [
    {
     "data": {
      "text/html": [
       "<div>\n",
       "<style scoped>\n",
       "    .dataframe tbody tr th:only-of-type {\n",
       "        vertical-align: middle;\n",
       "    }\n",
       "\n",
       "    .dataframe tbody tr th {\n",
       "        vertical-align: top;\n",
       "    }\n",
       "\n",
       "    .dataframe thead th {\n",
       "        text-align: right;\n",
       "    }\n",
       "</style>\n",
       "<table border=\"1\" class=\"dataframe\">\n",
       "  <thead>\n",
       "    <tr style=\"text-align: right;\">\n",
       "      <th></th>\n",
       "      <th>Label</th>\n",
       "      <th>headlines</th>\n",
       "      <th>subjectivity</th>\n",
       "      <th>polarity</th>\n",
       "      <th>compound</th>\n",
       "    </tr>\n",
       "  </thead>\n",
       "  <tbody>\n",
       "    <tr>\n",
       "      <th>56</th>\n",
       "      <td>0</td>\n",
       "      <td>younger brother catch middl ftx investig u.s. ...</td>\n",
       "      <td>0.393333</td>\n",
       "      <td>-0.190000</td>\n",
       "      <td>-0.7650</td>\n",
       "    </tr>\n",
       "    <tr>\n",
       "      <th>316</th>\n",
       "      <td>0</td>\n",
       "      <td>maryland pass 2 major privaci bill despit tech...</td>\n",
       "      <td>0.250000</td>\n",
       "      <td>0.031250</td>\n",
       "      <td>-0.9393</td>\n",
       "    </tr>\n",
       "    <tr>\n",
       "      <th>139</th>\n",
       "      <td>0</td>\n",
       "      <td>senat committe press leon black epstein tax ad...</td>\n",
       "      <td>0.303535</td>\n",
       "      <td>-0.011995</td>\n",
       "      <td>-0.8957</td>\n",
       "    </tr>\n",
       "    <tr>\n",
       "      <th>71</th>\n",
       "      <td>0</td>\n",
       "      <td>know dominion vote machin compani su fox defam...</td>\n",
       "      <td>0.500000</td>\n",
       "      <td>0.233333</td>\n",
       "      <td>-0.2023</td>\n",
       "    </tr>\n",
       "    <tr>\n",
       "      <th>294</th>\n",
       "      <td>0</td>\n",
       "      <td>openai say elon musk tri merg tesla window chi...</td>\n",
       "      <td>0.556566</td>\n",
       "      <td>0.108081</td>\n",
       "      <td>-0.9423</td>\n",
       "    </tr>\n",
       "    <tr>\n",
       "      <th>...</th>\n",
       "      <td>...</td>\n",
       "      <td>...</td>\n",
       "      <td>...</td>\n",
       "      <td>...</td>\n",
       "      <td>...</td>\n",
       "    </tr>\n",
       "    <tr>\n",
       "      <th>26</th>\n",
       "      <td>0</td>\n",
       "      <td>tv viewership declin biden state union speech ...</td>\n",
       "      <td>0.550000</td>\n",
       "      <td>0.124074</td>\n",
       "      <td>0.6486</td>\n",
       "    </tr>\n",
       "    <tr>\n",
       "      <th>306</th>\n",
       "      <td>1</td>\n",
       "      <td>a.i. boom make million unlik industri player a...</td>\n",
       "      <td>0.443636</td>\n",
       "      <td>0.066591</td>\n",
       "      <td>-0.7351</td>\n",
       "    </tr>\n",
       "    <tr>\n",
       "      <th>72</th>\n",
       "      <td>1</td>\n",
       "      <td>zero covid china economi start recov smaller v...</td>\n",
       "      <td>0.380303</td>\n",
       "      <td>0.098485</td>\n",
       "      <td>-0.0772</td>\n",
       "    </tr>\n",
       "    <tr>\n",
       "      <th>267</th>\n",
       "      <td>0</td>\n",
       "      <td>china market stumbl japan rise record fanat up...</td>\n",
       "      <td>0.521429</td>\n",
       "      <td>-0.007143</td>\n",
       "      <td>-0.6597</td>\n",
       "    </tr>\n",
       "    <tr>\n",
       "      <th>242</th>\n",
       "      <td>0</td>\n",
       "      <td>monsanto pay $ 857 million pcb case juri find ...</td>\n",
       "      <td>0.098214</td>\n",
       "      <td>-0.044643</td>\n",
       "      <td>-0.9705</td>\n",
       "    </tr>\n",
       "  </tbody>\n",
       "</table>\n",
       "<p>759 rows × 5 columns</p>\n",
       "</div>"
      ],
      "text/plain": [
       "     Label                                          headlines  subjectivity  \\\n",
       "56       0  younger brother catch middl ftx investig u.s. ...      0.393333   \n",
       "316      0  maryland pass 2 major privaci bill despit tech...      0.250000   \n",
       "139      0  senat committe press leon black epstein tax ad...      0.303535   \n",
       "71       0  know dominion vote machin compani su fox defam...      0.500000   \n",
       "294      0  openai say elon musk tri merg tesla window chi...      0.556566   \n",
       "..     ...                                                ...           ...   \n",
       "26       0  tv viewership declin biden state union speech ...      0.550000   \n",
       "306      1  a.i. boom make million unlik industri player a...      0.443636   \n",
       "72       1  zero covid china economi start recov smaller v...      0.380303   \n",
       "267      0  china market stumbl japan rise record fanat up...      0.521429   \n",
       "242      0  monsanto pay $ 857 million pcb case juri find ...      0.098214   \n",
       "\n",
       "     polarity  compound  \n",
       "56  -0.190000   -0.7650  \n",
       "316  0.031250   -0.9393  \n",
       "139 -0.011995   -0.8957  \n",
       "71   0.233333   -0.2023  \n",
       "294  0.108081   -0.9423  \n",
       "..        ...       ...  \n",
       "26   0.124074    0.6486  \n",
       "306  0.066591   -0.7351  \n",
       "72   0.098485   -0.0772  \n",
       "267 -0.007143   -0.6597  \n",
       "242 -0.044643   -0.9705  \n",
       "\n",
       "[759 rows x 5 columns]"
      ]
     },
     "execution_count": 64,
     "metadata": {},
     "output_type": "execute_result"
    }
   ],
   "source": [
    "X_Train"
   ]
  },
  {
   "cell_type": "code",
   "execution_count": 65,
   "metadata": {
    "execution": {
     "iopub.execute_input": "2024-06-20T07:17:58.968042Z",
     "iopub.status.busy": "2024-06-20T07:17:58.967230Z",
     "iopub.status.idle": "2024-06-20T07:17:58.972429Z",
     "shell.execute_reply": "2024-06-20T07:17:58.971414Z",
     "shell.execute_reply.started": "2024-06-20T07:17:58.968006Z"
    },
    "trusted": true
   },
   "outputs": [],
   "source": [
    "from sklearn.feature_extraction.text import CountVectorizer\n",
    "from imblearn.over_sampling import SMOTE\n",
    "from scipy.sparse import hstack"
   ]
  },
  {
   "cell_type": "code",
   "execution_count": 66,
   "metadata": {
    "execution": {
     "iopub.execute_input": "2024-06-20T07:18:03.229093Z",
     "iopub.status.busy": "2024-06-20T07:18:03.228686Z",
     "iopub.status.idle": "2024-06-20T07:18:03.233929Z",
     "shell.execute_reply": "2024-06-20T07:18:03.232739Z",
     "shell.execute_reply.started": "2024-06-20T07:18:03.229062Z"
    },
    "trusted": true
   },
   "outputs": [],
   "source": [
    "text_column = 'headlines'"
   ]
  },
  {
   "cell_type": "code",
   "execution_count": 67,
   "metadata": {
    "execution": {
     "iopub.execute_input": "2024-06-20T07:18:03.507795Z",
     "iopub.status.busy": "2024-06-20T07:18:03.507382Z",
     "iopub.status.idle": "2024-06-20T07:18:03.586431Z",
     "shell.execute_reply": "2024-06-20T07:18:03.585069Z",
     "shell.execute_reply.started": "2024-06-20T07:18:03.507762Z"
    },
    "trusted": true
   },
   "outputs": [],
   "source": [
    "count_vectorizer = CountVectorizer()\n",
    "text_features_train = count_vectorizer.fit_transform(X_Train['headlines'])"
   ]
  },
  {
   "cell_type": "code",
   "execution_count": 68,
   "metadata": {
    "execution": {
     "iopub.execute_input": "2024-06-20T07:18:03.987956Z",
     "iopub.status.busy": "2024-06-20T07:18:03.987176Z",
     "iopub.status.idle": "2024-06-20T07:18:04.007806Z",
     "shell.execute_reply": "2024-06-20T07:18:04.006784Z",
     "shell.execute_reply.started": "2024-06-20T07:18:03.987912Z"
    },
    "trusted": true
   },
   "outputs": [],
   "source": [
    "text_features_test = count_vectorizer.transform(X_Test['headlines'])"
   ]
  },
  {
   "cell_type": "code",
   "execution_count": 69,
   "metadata": {
    "execution": {
     "iopub.execute_input": "2024-06-20T07:18:08.127763Z",
     "iopub.status.busy": "2024-06-20T07:18:08.127324Z",
     "iopub.status.idle": "2024-06-20T07:18:08.159894Z",
     "shell.execute_reply": "2024-06-20T07:18:08.158707Z",
     "shell.execute_reply.started": "2024-06-20T07:18:08.127729Z"
    },
    "trusted": true
   },
   "outputs": [],
   "source": [
    "X_train_text = text_features_train.toarray()\n",
    "X_test_text = text_features_test.toarray()"
   ]
  },
  {
   "cell_type": "code",
   "execution_count": 70,
   "metadata": {
    "execution": {
     "iopub.execute_input": "2024-06-20T07:18:08.658398Z",
     "iopub.status.busy": "2024-06-20T07:18:08.657328Z",
     "iopub.status.idle": "2024-06-20T07:18:08.665465Z",
     "shell.execute_reply": "2024-06-20T07:18:08.664460Z",
     "shell.execute_reply.started": "2024-06-20T07:18:08.658359Z"
    },
    "trusted": true
   },
   "outputs": [],
   "source": [
    "X_other_train = np.array(X_Train.drop(['headlines', 'Label'], axis=1))\n",
    "X_other_test = np.array(X_Test.drop(['headlines', 'Label', 'published_date'], axis=1))"
   ]
  },
  {
   "cell_type": "code",
   "execution_count": 71,
   "metadata": {
    "execution": {
     "iopub.execute_input": "2024-06-20T07:18:09.327919Z",
     "iopub.status.busy": "2024-06-20T07:18:09.327523Z",
     "iopub.status.idle": "2024-06-20T07:18:09.343802Z",
     "shell.execute_reply": "2024-06-20T07:18:09.342588Z",
     "shell.execute_reply.started": "2024-06-20T07:18:09.327889Z"
    },
    "trusted": true
   },
   "outputs": [
    {
     "data": {
      "text/html": [
       "<div>\n",
       "<style scoped>\n",
       "    .dataframe tbody tr th:only-of-type {\n",
       "        vertical-align: middle;\n",
       "    }\n",
       "\n",
       "    .dataframe tbody tr th {\n",
       "        vertical-align: top;\n",
       "    }\n",
       "\n",
       "    .dataframe thead th {\n",
       "        text-align: right;\n",
       "    }\n",
       "</style>\n",
       "<table border=\"1\" class=\"dataframe\">\n",
       "  <thead>\n",
       "    <tr style=\"text-align: right;\">\n",
       "      <th></th>\n",
       "      <th>Label</th>\n",
       "      <th>headlines</th>\n",
       "      <th>subjectivity</th>\n",
       "      <th>polarity</th>\n",
       "      <th>compound</th>\n",
       "    </tr>\n",
       "  </thead>\n",
       "  <tbody>\n",
       "    <tr>\n",
       "      <th>56</th>\n",
       "      <td>0</td>\n",
       "      <td>younger brother catch middl ftx investig u.s. ...</td>\n",
       "      <td>0.393333</td>\n",
       "      <td>-0.190000</td>\n",
       "      <td>-0.7650</td>\n",
       "    </tr>\n",
       "    <tr>\n",
       "      <th>316</th>\n",
       "      <td>0</td>\n",
       "      <td>maryland pass 2 major privaci bill despit tech...</td>\n",
       "      <td>0.250000</td>\n",
       "      <td>0.031250</td>\n",
       "      <td>-0.9393</td>\n",
       "    </tr>\n",
       "    <tr>\n",
       "      <th>139</th>\n",
       "      <td>0</td>\n",
       "      <td>senat committe press leon black epstein tax ad...</td>\n",
       "      <td>0.303535</td>\n",
       "      <td>-0.011995</td>\n",
       "      <td>-0.8957</td>\n",
       "    </tr>\n",
       "    <tr>\n",
       "      <th>71</th>\n",
       "      <td>0</td>\n",
       "      <td>know dominion vote machin compani su fox defam...</td>\n",
       "      <td>0.500000</td>\n",
       "      <td>0.233333</td>\n",
       "      <td>-0.2023</td>\n",
       "    </tr>\n",
       "    <tr>\n",
       "      <th>294</th>\n",
       "      <td>0</td>\n",
       "      <td>openai say elon musk tri merg tesla window chi...</td>\n",
       "      <td>0.556566</td>\n",
       "      <td>0.108081</td>\n",
       "      <td>-0.9423</td>\n",
       "    </tr>\n",
       "    <tr>\n",
       "      <th>...</th>\n",
       "      <td>...</td>\n",
       "      <td>...</td>\n",
       "      <td>...</td>\n",
       "      <td>...</td>\n",
       "      <td>...</td>\n",
       "    </tr>\n",
       "    <tr>\n",
       "      <th>26</th>\n",
       "      <td>0</td>\n",
       "      <td>tv viewership declin biden state union speech ...</td>\n",
       "      <td>0.550000</td>\n",
       "      <td>0.124074</td>\n",
       "      <td>0.6486</td>\n",
       "    </tr>\n",
       "    <tr>\n",
       "      <th>306</th>\n",
       "      <td>1</td>\n",
       "      <td>a.i. boom make million unlik industri player a...</td>\n",
       "      <td>0.443636</td>\n",
       "      <td>0.066591</td>\n",
       "      <td>-0.7351</td>\n",
       "    </tr>\n",
       "    <tr>\n",
       "      <th>72</th>\n",
       "      <td>1</td>\n",
       "      <td>zero covid china economi start recov smaller v...</td>\n",
       "      <td>0.380303</td>\n",
       "      <td>0.098485</td>\n",
       "      <td>-0.0772</td>\n",
       "    </tr>\n",
       "    <tr>\n",
       "      <th>267</th>\n",
       "      <td>0</td>\n",
       "      <td>china market stumbl japan rise record fanat up...</td>\n",
       "      <td>0.521429</td>\n",
       "      <td>-0.007143</td>\n",
       "      <td>-0.6597</td>\n",
       "    </tr>\n",
       "    <tr>\n",
       "      <th>242</th>\n",
       "      <td>0</td>\n",
       "      <td>monsanto pay $ 857 million pcb case juri find ...</td>\n",
       "      <td>0.098214</td>\n",
       "      <td>-0.044643</td>\n",
       "      <td>-0.9705</td>\n",
       "    </tr>\n",
       "  </tbody>\n",
       "</table>\n",
       "<p>759 rows × 5 columns</p>\n",
       "</div>"
      ],
      "text/plain": [
       "     Label                                          headlines  subjectivity  \\\n",
       "56       0  younger brother catch middl ftx investig u.s. ...      0.393333   \n",
       "316      0  maryland pass 2 major privaci bill despit tech...      0.250000   \n",
       "139      0  senat committe press leon black epstein tax ad...      0.303535   \n",
       "71       0  know dominion vote machin compani su fox defam...      0.500000   \n",
       "294      0  openai say elon musk tri merg tesla window chi...      0.556566   \n",
       "..     ...                                                ...           ...   \n",
       "26       0  tv viewership declin biden state union speech ...      0.550000   \n",
       "306      1  a.i. boom make million unlik industri player a...      0.443636   \n",
       "72       1  zero covid china economi start recov smaller v...      0.380303   \n",
       "267      0  china market stumbl japan rise record fanat up...      0.521429   \n",
       "242      0  monsanto pay $ 857 million pcb case juri find ...      0.098214   \n",
       "\n",
       "     polarity  compound  \n",
       "56  -0.190000   -0.7650  \n",
       "316  0.031250   -0.9393  \n",
       "139 -0.011995   -0.8957  \n",
       "71   0.233333   -0.2023  \n",
       "294  0.108081   -0.9423  \n",
       "..        ...       ...  \n",
       "26   0.124074    0.6486  \n",
       "306  0.066591   -0.7351  \n",
       "72   0.098485   -0.0772  \n",
       "267 -0.007143   -0.6597  \n",
       "242 -0.044643   -0.9705  \n",
       "\n",
       "[759 rows x 5 columns]"
      ]
     },
     "execution_count": 71,
     "metadata": {},
     "output_type": "execute_result"
    }
   ],
   "source": [
    "X_Train"
   ]
  },
  {
   "cell_type": "code",
   "execution_count": 72,
   "metadata": {
    "execution": {
     "iopub.execute_input": "2024-06-20T07:18:10.928042Z",
     "iopub.status.busy": "2024-06-20T07:18:10.927666Z",
     "iopub.status.idle": "2024-06-20T07:18:10.950311Z",
     "shell.execute_reply": "2024-06-20T07:18:10.949357Z",
     "shell.execute_reply.started": "2024-06-20T07:18:10.928013Z"
    },
    "trusted": true
   },
   "outputs": [],
   "source": [
    "X_net = np.concatenate([X_train_text, X_other_train], axis=1)\n",
    "Y_net = np.concatenate([X_test_text, X_other_test], axis=1)"
   ]
  },
  {
   "cell_type": "code",
   "execution_count": 73,
   "metadata": {
    "execution": {
     "iopub.execute_input": "2024-06-20T07:18:13.858185Z",
     "iopub.status.busy": "2024-06-20T07:18:13.857367Z",
     "iopub.status.idle": "2024-06-20T07:18:13.863217Z",
     "shell.execute_reply": "2024-06-20T07:18:13.861937Z",
     "shell.execute_reply.started": "2024-06-20T07:18:13.858148Z"
    },
    "trusted": true
   },
   "outputs": [],
   "source": [
    "y_train = X_Train['Label']\n",
    "y_test = X_Test['Label']"
   ]
  },
  {
   "cell_type": "code",
   "execution_count": 75,
   "metadata": {
    "execution": {
     "iopub.execute_input": "2024-06-20T07:19:00.502185Z",
     "iopub.status.busy": "2024-06-20T07:19:00.501783Z",
     "iopub.status.idle": "2024-06-20T07:19:00.661968Z",
     "shell.execute_reply": "2024-06-20T07:19:00.660769Z",
     "shell.execute_reply.started": "2024-06-20T07:19:00.502153Z"
    },
    "trusted": true
   },
   "outputs": [],
   "source": [
    "X_sm, Y_sm = smote.fit_resample(X_net, y_train)"
   ]
  },
  {
   "cell_type": "code",
   "execution_count": 76,
   "metadata": {
    "execution": {
     "iopub.execute_input": "2024-06-20T07:19:05.316142Z",
     "iopub.status.busy": "2024-06-20T07:19:05.315747Z",
     "iopub.status.idle": "2024-06-20T07:19:05.406346Z",
     "shell.execute_reply": "2024-06-20T07:19:05.405441Z",
     "shell.execute_reply.started": "2024-06-20T07:19:05.316111Z"
    },
    "trusted": true
   },
   "outputs": [],
   "source": [
    "X_sm, Y_sm = smote.fit_resample(X_sm, Y_sm)"
   ]
  },
  {
   "cell_type": "code",
   "execution_count": 77,
   "metadata": {
    "execution": {
     "iopub.execute_input": "2024-06-20T07:19:07.706062Z",
     "iopub.status.busy": "2024-06-20T07:19:07.705713Z",
     "iopub.status.idle": "2024-06-20T07:19:07.718855Z",
     "shell.execute_reply": "2024-06-20T07:19:07.717698Z",
     "shell.execute_reply.started": "2024-06-20T07:19:07.706035Z"
    },
    "trusted": true
   },
   "outputs": [
    {
     "data": {
      "text/plain": [
       "Label\n",
       " 0    313\n",
       "-1    313\n",
       " 1    313\n",
       "Name: count, dtype: int64"
      ]
     },
     "execution_count": 77,
     "metadata": {},
     "output_type": "execute_result"
    }
   ],
   "source": [
    "Y_sm.value_counts()"
   ]
  },
  {
   "cell_type": "code",
   "execution_count": 78,
   "metadata": {
    "execution": {
     "iopub.execute_input": "2024-06-20T07:19:10.046339Z",
     "iopub.status.busy": "2024-06-20T07:19:10.045562Z",
     "iopub.status.idle": "2024-06-20T07:19:10.050955Z",
     "shell.execute_reply": "2024-06-20T07:19:10.049877Z",
     "shell.execute_reply.started": "2024-06-20T07:19:10.046301Z"
    },
    "trusted": true
   },
   "outputs": [],
   "source": [
    "model = RandomForestClassifier()"
   ]
  },
  {
   "cell_type": "code",
   "execution_count": 79,
   "metadata": {
    "execution": {
     "iopub.execute_input": "2024-06-20T07:19:10.567380Z",
     "iopub.status.busy": "2024-06-20T07:19:10.566995Z",
     "iopub.status.idle": "2024-06-20T07:19:13.466719Z",
     "shell.execute_reply": "2024-06-20T07:19:13.465603Z",
     "shell.execute_reply.started": "2024-06-20T07:19:10.567348Z"
    },
    "trusted": true
   },
   "outputs": [
    {
     "data": {
      "text/html": [
       "<style>#sk-container-id-1 {color: black;background-color: white;}#sk-container-id-1 pre{padding: 0;}#sk-container-id-1 div.sk-toggleable {background-color: white;}#sk-container-id-1 label.sk-toggleable__label {cursor: pointer;display: block;width: 100%;margin-bottom: 0;padding: 0.3em;box-sizing: border-box;text-align: center;}#sk-container-id-1 label.sk-toggleable__label-arrow:before {content: \"▸\";float: left;margin-right: 0.25em;color: #696969;}#sk-container-id-1 label.sk-toggleable__label-arrow:hover:before {color: black;}#sk-container-id-1 div.sk-estimator:hover label.sk-toggleable__label-arrow:before {color: black;}#sk-container-id-1 div.sk-toggleable__content {max-height: 0;max-width: 0;overflow: hidden;text-align: left;background-color: #f0f8ff;}#sk-container-id-1 div.sk-toggleable__content pre {margin: 0.2em;color: black;border-radius: 0.25em;background-color: #f0f8ff;}#sk-container-id-1 input.sk-toggleable__control:checked~div.sk-toggleable__content {max-height: 200px;max-width: 100%;overflow: auto;}#sk-container-id-1 input.sk-toggleable__control:checked~label.sk-toggleable__label-arrow:before {content: \"▾\";}#sk-container-id-1 div.sk-estimator input.sk-toggleable__control:checked~label.sk-toggleable__label {background-color: #d4ebff;}#sk-container-id-1 div.sk-label input.sk-toggleable__control:checked~label.sk-toggleable__label {background-color: #d4ebff;}#sk-container-id-1 input.sk-hidden--visually {border: 0;clip: rect(1px 1px 1px 1px);clip: rect(1px, 1px, 1px, 1px);height: 1px;margin: -1px;overflow: hidden;padding: 0;position: absolute;width: 1px;}#sk-container-id-1 div.sk-estimator {font-family: monospace;background-color: #f0f8ff;border: 1px dotted black;border-radius: 0.25em;box-sizing: border-box;margin-bottom: 0.5em;}#sk-container-id-1 div.sk-estimator:hover {background-color: #d4ebff;}#sk-container-id-1 div.sk-parallel-item::after {content: \"\";width: 100%;border-bottom: 1px solid gray;flex-grow: 1;}#sk-container-id-1 div.sk-label:hover label.sk-toggleable__label {background-color: #d4ebff;}#sk-container-id-1 div.sk-serial::before {content: \"\";position: absolute;border-left: 1px solid gray;box-sizing: border-box;top: 0;bottom: 0;left: 50%;z-index: 0;}#sk-container-id-1 div.sk-serial {display: flex;flex-direction: column;align-items: center;background-color: white;padding-right: 0.2em;padding-left: 0.2em;position: relative;}#sk-container-id-1 div.sk-item {position: relative;z-index: 1;}#sk-container-id-1 div.sk-parallel {display: flex;align-items: stretch;justify-content: center;background-color: white;position: relative;}#sk-container-id-1 div.sk-item::before, #sk-container-id-1 div.sk-parallel-item::before {content: \"\";position: absolute;border-left: 1px solid gray;box-sizing: border-box;top: 0;bottom: 0;left: 50%;z-index: -1;}#sk-container-id-1 div.sk-parallel-item {display: flex;flex-direction: column;z-index: 1;position: relative;background-color: white;}#sk-container-id-1 div.sk-parallel-item:first-child::after {align-self: flex-end;width: 50%;}#sk-container-id-1 div.sk-parallel-item:last-child::after {align-self: flex-start;width: 50%;}#sk-container-id-1 div.sk-parallel-item:only-child::after {width: 0;}#sk-container-id-1 div.sk-dashed-wrapped {border: 1px dashed gray;margin: 0 0.4em 0.5em 0.4em;box-sizing: border-box;padding-bottom: 0.4em;background-color: white;}#sk-container-id-1 div.sk-label label {font-family: monospace;font-weight: bold;display: inline-block;line-height: 1.2em;}#sk-container-id-1 div.sk-label-container {text-align: center;}#sk-container-id-1 div.sk-container {/* jupyter's `normalize.less` sets `[hidden] { display: none; }` but bootstrap.min.css set `[hidden] { display: none !important; }` so we also need the `!important` here to be able to override the default hidden behavior on the sphinx rendered scikit-learn.org. See: https://github.com/scikit-learn/scikit-learn/issues/21755 */display: inline-block !important;position: relative;}#sk-container-id-1 div.sk-text-repr-fallback {display: none;}</style><div id=\"sk-container-id-1\" class=\"sk-top-container\"><div class=\"sk-text-repr-fallback\"><pre>RandomForestClassifier()</pre><b>In a Jupyter environment, please rerun this cell to show the HTML representation or trust the notebook. <br />On GitHub, the HTML representation is unable to render, please try loading this page with nbviewer.org.</b></div><div class=\"sk-container\" hidden><div class=\"sk-item\"><div class=\"sk-estimator sk-toggleable\"><input class=\"sk-toggleable__control sk-hidden--visually\" id=\"sk-estimator-id-1\" type=\"checkbox\" checked><label for=\"sk-estimator-id-1\" class=\"sk-toggleable__label sk-toggleable__label-arrow\">RandomForestClassifier</label><div class=\"sk-toggleable__content\"><pre>RandomForestClassifier()</pre></div></div></div></div></div>"
      ],
      "text/plain": [
       "RandomForestClassifier()"
      ]
     },
     "execution_count": 79,
     "metadata": {},
     "output_type": "execute_result"
    }
   ],
   "source": [
    "model.fit(X_sm, Y_sm)"
   ]
  },
  {
   "cell_type": "code",
   "execution_count": 80,
   "metadata": {
    "execution": {
     "iopub.execute_input": "2024-06-20T07:19:13.468914Z",
     "iopub.status.busy": "2024-06-20T07:19:13.468574Z",
     "iopub.status.idle": "2024-06-20T07:19:13.489618Z",
     "shell.execute_reply": "2024-06-20T07:19:13.488409Z",
     "shell.execute_reply.started": "2024-06-20T07:19:13.468884Z"
    },
    "trusted": true
   },
   "outputs": [],
   "source": [
    "predictions = model.predict(Y_net)"
   ]
  },
  {
   "cell_type": "code",
   "execution_count": 81,
   "metadata": {
    "execution": {
     "iopub.execute_input": "2024-06-20T07:19:13.491414Z",
     "iopub.status.busy": "2024-06-20T07:19:13.491083Z",
     "iopub.status.idle": "2024-06-20T07:19:13.509790Z",
     "shell.execute_reply": "2024-06-20T07:19:13.508587Z",
     "shell.execute_reply.started": "2024-06-20T07:19:13.491387Z"
    },
    "trusted": true
   },
   "outputs": [
    {
     "name": "stdout",
     "output_type": "stream",
     "text": [
      "Accuracy: 0.4375\n",
      "Classification Report:\n",
      "               precision    recall  f1-score   support\n",
      "\n",
      "          -1       0.50      0.38      0.43        52\n",
      "           0       0.44      0.47      0.45        83\n",
      "           1       0.40      0.44      0.42        57\n",
      "\n",
      "    accuracy                           0.44       192\n",
      "   macro avg       0.45      0.43      0.43       192\n",
      "weighted avg       0.44      0.44      0.44       192\n",
      "\n"
     ]
    }
   ],
   "source": [
    "print(\"Accuracy:\", accuracy_score(y_test, predictions))\n",
    "print(\"Classification Report:\\n\", classification_report(y_test, predictions))"
   ]
  },
  {
   "cell_type": "code",
   "execution_count": 82,
   "metadata": {
    "execution": {
     "iopub.execute_input": "2024-06-20T07:19:13.512066Z",
     "iopub.status.busy": "2024-06-20T07:19:13.511732Z",
     "iopub.status.idle": "2024-06-20T07:19:25.480452Z",
     "shell.execute_reply": "2024-06-20T07:19:25.479590Z",
     "shell.execute_reply.started": "2024-06-20T07:19:13.512037Z"
    },
    "trusted": true
   },
   "outputs": [
    {
     "name": "stderr",
     "output_type": "stream",
     "text": [
      "2024-06-20 07:19:15.497190: E external/local_xla/xla/stream_executor/cuda/cuda_dnn.cc:9261] Unable to register cuDNN factory: Attempting to register factory for plugin cuDNN when one has already been registered\n",
      "2024-06-20 07:19:15.497318: E external/local_xla/xla/stream_executor/cuda/cuda_fft.cc:607] Unable to register cuFFT factory: Attempting to register factory for plugin cuFFT when one has already been registered\n",
      "2024-06-20 07:19:15.638368: E external/local_xla/xla/stream_executor/cuda/cuda_blas.cc:1515] Unable to register cuBLAS factory: Attempting to register factory for plugin cuBLAS when one has already been registered\n"
     ]
    }
   ],
   "source": [
    "from sklearn.linear_model import LogisticRegression\n",
    "from sklearn.svm import SVC"
   ]
  },
  {
   "cell_type": "code",
   "execution_count": 83,
   "metadata": {
    "execution": {
     "iopub.execute_input": "2024-06-20T07:19:25.482633Z",
     "iopub.status.busy": "2024-06-20T07:19:25.482016Z",
     "iopub.status.idle": "2024-06-20T07:19:28.133752Z",
     "shell.execute_reply": "2024-06-20T07:19:28.132756Z",
     "shell.execute_reply.started": "2024-06-20T07:19:25.482594Z"
    },
    "trusted": true
   },
   "outputs": [
    {
     "name": "stdout",
     "output_type": "stream",
     "text": [
      "Accuracy: 0.4114583333333333\n",
      "Classification Report:\n",
      "               precision    recall  f1-score   support\n",
      "\n",
      "          -1       0.47      0.44      0.46        52\n",
      "           0       0.38      0.35      0.36        83\n",
      "           1       0.40      0.47      0.44        57\n",
      "\n",
      "    accuracy                           0.41       192\n",
      "   macro avg       0.42      0.42      0.42       192\n",
      "weighted avg       0.41      0.41      0.41       192\n",
      "\n"
     ]
    },
    {
     "name": "stderr",
     "output_type": "stream",
     "text": [
      "/opt/conda/lib/python3.10/site-packages/sklearn/linear_model/_logistic.py:458: ConvergenceWarning: lbfgs failed to converge (status=1):\n",
      "STOP: TOTAL NO. of ITERATIONS REACHED LIMIT.\n",
      "\n",
      "Increase the number of iterations (max_iter) or scale the data as shown in:\n",
      "    https://scikit-learn.org/stable/modules/preprocessing.html\n",
      "Please also refer to the documentation for alternative solver options:\n",
      "    https://scikit-learn.org/stable/modules/linear_model.html#logistic-regression\n",
      "  n_iter_i = _check_optimize_result(\n"
     ]
    }
   ],
   "source": [
    "model1 = LogisticRegression()\n",
    "model1.fit(X_sm, Y_sm)\n",
    "predictions1 = model1.predict(Y_net)\n",
    "print(\"Accuracy:\", accuracy_score(y_test, predictions1))\n",
    "print(\"Classification Report:\\n\", classification_report(y_test, predictions1))"
   ]
  },
  {
   "cell_type": "code",
   "execution_count": 84,
   "metadata": {
    "execution": {
     "iopub.execute_input": "2024-06-20T07:19:28.137249Z",
     "iopub.status.busy": "2024-06-20T07:19:28.135332Z",
     "iopub.status.idle": "2024-06-20T07:19:42.148351Z",
     "shell.execute_reply": "2024-06-20T07:19:42.147198Z",
     "shell.execute_reply.started": "2024-06-20T07:19:28.137209Z"
    },
    "trusted": true
   },
   "outputs": [
    {
     "name": "stdout",
     "output_type": "stream",
     "text": [
      "Accuracy: 0.4270833333333333\n",
      "Classification Report:\n",
      "               precision    recall  f1-score   support\n",
      "\n",
      "          -1       0.54      0.42      0.47        52\n",
      "           0       0.41      0.42      0.41        83\n",
      "           1       0.38      0.44      0.41        57\n",
      "\n",
      "    accuracy                           0.43       192\n",
      "   macro avg       0.44      0.43      0.43       192\n",
      "weighted avg       0.44      0.43      0.43       192\n",
      "\n"
     ]
    }
   ],
   "source": [
    "model2 = SVC(probability=True)\n",
    "model2.fit(X_sm, Y_sm)\n",
    "predictions2 = model2.predict(Y_net)\n",
    "print(\"Accuracy:\", accuracy_score(y_test, predictions2))\n",
    "print(\"Classification Report:\\n\", classification_report(y_test, predictions2))"
   ]
  },
  {
   "cell_type": "code",
   "execution_count": 85,
   "metadata": {
    "execution": {
     "iopub.execute_input": "2024-06-20T07:19:42.150641Z",
     "iopub.status.busy": "2024-06-20T07:19:42.150281Z",
     "iopub.status.idle": "2024-06-20T07:19:42.173601Z",
     "shell.execute_reply": "2024-06-20T07:19:42.172595Z",
     "shell.execute_reply.started": "2024-06-20T07:19:42.150613Z"
    },
    "trusted": true
   },
   "outputs": [
    {
     "data": {
      "text/html": [
       "<div>\n",
       "<style scoped>\n",
       "    .dataframe tbody tr th:only-of-type {\n",
       "        vertical-align: middle;\n",
       "    }\n",
       "\n",
       "    .dataframe tbody tr th {\n",
       "        vertical-align: top;\n",
       "    }\n",
       "\n",
       "    .dataframe thead th {\n",
       "        text-align: right;\n",
       "    }\n",
       "</style>\n",
       "<table border=\"1\" class=\"dataframe\">\n",
       "  <thead>\n",
       "    <tr style=\"text-align: right;\">\n",
       "      <th></th>\n",
       "      <th>Date</th>\n",
       "      <th>Open</th>\n",
       "      <th>High</th>\n",
       "      <th>Low</th>\n",
       "      <th>Close</th>\n",
       "      <th>Adj Close</th>\n",
       "      <th>Volume</th>\n",
       "      <th>Price_Change</th>\n",
       "      <th>Label</th>\n",
       "      <th>headlines</th>\n",
       "      <th>subjectivity</th>\n",
       "      <th>polarity</th>\n",
       "      <th>compound</th>\n",
       "      <th>negative</th>\n",
       "      <th>positive</th>\n",
       "      <th>neutral</th>\n",
       "    </tr>\n",
       "  </thead>\n",
       "  <tbody>\n",
       "    <tr>\n",
       "      <th>0</th>\n",
       "      <td>2023-01-03</td>\n",
       "      <td>118.470001</td>\n",
       "      <td>118.800003</td>\n",
       "      <td>104.639999</td>\n",
       "      <td>108.099998</td>\n",
       "      <td>108.099998</td>\n",
       "      <td>231402800</td>\n",
       "      <td>NaN</td>\n",
       "      <td>0</td>\n",
       "      <td>wave job switch employ train treadmil japan su...</td>\n",
       "      <td>0.332727</td>\n",
       "      <td>-0.033737</td>\n",
       "      <td>-0.5574</td>\n",
       "      <td>0.087</td>\n",
       "      <td>0.056</td>\n",
       "      <td>0.857</td>\n",
       "    </tr>\n",
       "    <tr>\n",
       "      <th>1</th>\n",
       "      <td>2023-01-04</td>\n",
       "      <td>109.110001</td>\n",
       "      <td>114.589996</td>\n",
       "      <td>107.519997</td>\n",
       "      <td>113.639999</td>\n",
       "      <td>113.639999</td>\n",
       "      <td>180389000</td>\n",
       "      <td>0.051249</td>\n",
       "      <td>1</td>\n",
       "      <td>father deliber drive car cliff author dramat r...</td>\n",
       "      <td>0.464848</td>\n",
       "      <td>0.065455</td>\n",
       "      <td>-0.9169</td>\n",
       "      <td>0.188</td>\n",
       "      <td>0.063</td>\n",
       "      <td>0.748</td>\n",
       "    </tr>\n",
       "    <tr>\n",
       "      <th>2</th>\n",
       "      <td>2023-01-05</td>\n",
       "      <td>110.510002</td>\n",
       "      <td>111.750000</td>\n",
       "      <td>107.160004</td>\n",
       "      <td>110.339996</td>\n",
       "      <td>110.339996</td>\n",
       "      <td>157986300</td>\n",
       "      <td>-0.029039</td>\n",
       "      <td>-1</td>\n",
       "      <td>amazon expand corpor layoff 18,000 job breach ...</td>\n",
       "      <td>0.227273</td>\n",
       "      <td>0.068182</td>\n",
       "      <td>0.5423</td>\n",
       "      <td>0.046</td>\n",
       "      <td>0.090</td>\n",
       "      <td>0.864</td>\n",
       "    </tr>\n",
       "    <tr>\n",
       "      <th>3</th>\n",
       "      <td>2023-01-06</td>\n",
       "      <td>103.000000</td>\n",
       "      <td>114.389999</td>\n",
       "      <td>101.809998</td>\n",
       "      <td>113.059998</td>\n",
       "      <td>113.059998</td>\n",
       "      <td>220911100</td>\n",
       "      <td>0.024651</td>\n",
       "      <td>1</td>\n",
       "      <td>soft land economi uneven strand southwest stuc...</td>\n",
       "      <td>0.334242</td>\n",
       "      <td>0.073939</td>\n",
       "      <td>0.7096</td>\n",
       "      <td>0.122</td>\n",
       "      <td>0.171</td>\n",
       "      <td>0.706</td>\n",
       "    </tr>\n",
       "    <tr>\n",
       "      <th>4</th>\n",
       "      <td>2023-01-09</td>\n",
       "      <td>118.959999</td>\n",
       "      <td>123.519997</td>\n",
       "      <td>117.110001</td>\n",
       "      <td>119.769997</td>\n",
       "      <td>119.769997</td>\n",
       "      <td>190284000</td>\n",
       "      <td>0.059349</td>\n",
       "      <td>1</td>\n",
       "      <td>phoenix polic investig detent wall street jour...</td>\n",
       "      <td>0.594048</td>\n",
       "      <td>-0.529762</td>\n",
       "      <td>-0.8658</td>\n",
       "      <td>0.233</td>\n",
       "      <td>0.000</td>\n",
       "      <td>0.767</td>\n",
       "    </tr>\n",
       "    <tr>\n",
       "      <th>...</th>\n",
       "      <td>...</td>\n",
       "      <td>...</td>\n",
       "      <td>...</td>\n",
       "      <td>...</td>\n",
       "      <td>...</td>\n",
       "      <td>...</td>\n",
       "      <td>...</td>\n",
       "      <td>...</td>\n",
       "      <td>...</td>\n",
       "      <td>...</td>\n",
       "      <td>...</td>\n",
       "      <td>...</td>\n",
       "      <td>...</td>\n",
       "      <td>...</td>\n",
       "      <td>...</td>\n",
       "      <td>...</td>\n",
       "    </tr>\n",
       "    <tr>\n",
       "      <th>312</th>\n",
       "      <td>2024-04-02</td>\n",
       "      <td>164.750000</td>\n",
       "      <td>167.690002</td>\n",
       "      <td>163.429993</td>\n",
       "      <td>166.630005</td>\n",
       "      <td>166.630005</td>\n",
       "      <td>116650600</td>\n",
       "      <td>-0.049024</td>\n",
       "      <td>-1</td>\n",
       "      <td>poor nation write new handbook get rich regul ...</td>\n",
       "      <td>0.676136</td>\n",
       "      <td>0.227841</td>\n",
       "      <td>0.1779</td>\n",
       "      <td>0.106</td>\n",
       "      <td>0.120</td>\n",
       "      <td>0.774</td>\n",
       "    </tr>\n",
       "    <tr>\n",
       "      <th>313</th>\n",
       "      <td>2024-04-03</td>\n",
       "      <td>164.020004</td>\n",
       "      <td>168.820007</td>\n",
       "      <td>163.279999</td>\n",
       "      <td>168.380005</td>\n",
       "      <td>168.380005</td>\n",
       "      <td>82950100</td>\n",
       "      <td>0.010502</td>\n",
       "      <td>1</td>\n",
       "      <td>biden corpor america complic switch iphon andr...</td>\n",
       "      <td>0.475000</td>\n",
       "      <td>0.200000</td>\n",
       "      <td>0.6249</td>\n",
       "      <td>0.031</td>\n",
       "      <td>0.118</td>\n",
       "      <td>0.851</td>\n",
       "    </tr>\n",
       "    <tr>\n",
       "      <th>314</th>\n",
       "      <td>2024-04-04</td>\n",
       "      <td>170.070007</td>\n",
       "      <td>177.190002</td>\n",
       "      <td>168.009995</td>\n",
       "      <td>171.110001</td>\n",
       "      <td>171.110001</td>\n",
       "      <td>123162000</td>\n",
       "      <td>0.016213</td>\n",
       "      <td>1</td>\n",
       "      <td>reviv burn forest rebuild tree suppli chain wa...</td>\n",
       "      <td>0.200000</td>\n",
       "      <td>-0.150000</td>\n",
       "      <td>-0.3612</td>\n",
       "      <td>0.126</td>\n",
       "      <td>0.081</td>\n",
       "      <td>0.793</td>\n",
       "    </tr>\n",
       "    <tr>\n",
       "      <th>315</th>\n",
       "      <td>2024-04-05</td>\n",
       "      <td>169.080002</td>\n",
       "      <td>170.860001</td>\n",
       "      <td>160.509995</td>\n",
       "      <td>164.899994</td>\n",
       "      <td>164.899994</td>\n",
       "      <td>141250700</td>\n",
       "      <td>-0.036292</td>\n",
       "      <td>-1</td>\n",
       "      <td>china young peopl give save retir pay baltimor...</td>\n",
       "      <td>0.450505</td>\n",
       "      <td>0.048485</td>\n",
       "      <td>0.2263</td>\n",
       "      <td>0.090</td>\n",
       "      <td>0.117</td>\n",
       "      <td>0.794</td>\n",
       "    </tr>\n",
       "    <tr>\n",
       "      <th>316</th>\n",
       "      <td>2024-04-08</td>\n",
       "      <td>169.339996</td>\n",
       "      <td>174.500000</td>\n",
       "      <td>167.789993</td>\n",
       "      <td>172.979996</td>\n",
       "      <td>172.979996</td>\n",
       "      <td>104423300</td>\n",
       "      <td>0.048999</td>\n",
       "      <td>1</td>\n",
       "      <td>maryland pass 2 major privaci bill despit tech...</td>\n",
       "      <td>0.250000</td>\n",
       "      <td>0.031250</td>\n",
       "      <td>-0.9393</td>\n",
       "      <td>0.206</td>\n",
       "      <td>0.019</td>\n",
       "      <td>0.775</td>\n",
       "    </tr>\n",
       "  </tbody>\n",
       "</table>\n",
       "<p>317 rows × 16 columns</p>\n",
       "</div>"
      ],
      "text/plain": [
       "          Date        Open        High         Low       Close   Adj Close  \\\n",
       "0   2023-01-03  118.470001  118.800003  104.639999  108.099998  108.099998   \n",
       "1   2023-01-04  109.110001  114.589996  107.519997  113.639999  113.639999   \n",
       "2   2023-01-05  110.510002  111.750000  107.160004  110.339996  110.339996   \n",
       "3   2023-01-06  103.000000  114.389999  101.809998  113.059998  113.059998   \n",
       "4   2023-01-09  118.959999  123.519997  117.110001  119.769997  119.769997   \n",
       "..         ...         ...         ...         ...         ...         ...   \n",
       "312 2024-04-02  164.750000  167.690002  163.429993  166.630005  166.630005   \n",
       "313 2024-04-03  164.020004  168.820007  163.279999  168.380005  168.380005   \n",
       "314 2024-04-04  170.070007  177.190002  168.009995  171.110001  171.110001   \n",
       "315 2024-04-05  169.080002  170.860001  160.509995  164.899994  164.899994   \n",
       "316 2024-04-08  169.339996  174.500000  167.789993  172.979996  172.979996   \n",
       "\n",
       "        Volume  Price_Change  Label  \\\n",
       "0    231402800           NaN      0   \n",
       "1    180389000      0.051249      1   \n",
       "2    157986300     -0.029039     -1   \n",
       "3    220911100      0.024651      1   \n",
       "4    190284000      0.059349      1   \n",
       "..         ...           ...    ...   \n",
       "312  116650600     -0.049024     -1   \n",
       "313   82950100      0.010502      1   \n",
       "314  123162000      0.016213      1   \n",
       "315  141250700     -0.036292     -1   \n",
       "316  104423300      0.048999      1   \n",
       "\n",
       "                                             headlines  subjectivity  \\\n",
       "0    wave job switch employ train treadmil japan su...      0.332727   \n",
       "1    father deliber drive car cliff author dramat r...      0.464848   \n",
       "2    amazon expand corpor layoff 18,000 job breach ...      0.227273   \n",
       "3    soft land economi uneven strand southwest stuc...      0.334242   \n",
       "4    phoenix polic investig detent wall street jour...      0.594048   \n",
       "..                                                 ...           ...   \n",
       "312  poor nation write new handbook get rich regul ...      0.676136   \n",
       "313  biden corpor america complic switch iphon andr...      0.475000   \n",
       "314  reviv burn forest rebuild tree suppli chain wa...      0.200000   \n",
       "315  china young peopl give save retir pay baltimor...      0.450505   \n",
       "316  maryland pass 2 major privaci bill despit tech...      0.250000   \n",
       "\n",
       "     polarity  compound  negative  positive  neutral  \n",
       "0   -0.033737   -0.5574     0.087     0.056    0.857  \n",
       "1    0.065455   -0.9169     0.188     0.063    0.748  \n",
       "2    0.068182    0.5423     0.046     0.090    0.864  \n",
       "3    0.073939    0.7096     0.122     0.171    0.706  \n",
       "4   -0.529762   -0.8658     0.233     0.000    0.767  \n",
       "..        ...       ...       ...       ...      ...  \n",
       "312  0.227841    0.1779     0.106     0.120    0.774  \n",
       "313  0.200000    0.6249     0.031     0.118    0.851  \n",
       "314 -0.150000   -0.3612     0.126     0.081    0.793  \n",
       "315  0.048485    0.2263     0.090     0.117    0.794  \n",
       "316  0.031250   -0.9393     0.206     0.019    0.775  \n",
       "\n",
       "[317 rows x 16 columns]"
      ]
     },
     "execution_count": 85,
     "metadata": {},
     "output_type": "execute_result"
    }
   ],
   "source": [
    "tsla_stock_news"
   ]
  },
  {
   "cell_type": "code",
   "execution_count": 86,
   "metadata": {
    "collapsed": true,
    "execution": {
     "iopub.execute_input": "2024-06-20T07:19:42.175115Z",
     "iopub.status.busy": "2024-06-20T07:19:42.174797Z",
     "iopub.status.idle": "2024-06-20T07:19:57.723187Z",
     "shell.execute_reply": "2024-06-20T07:19:57.721970Z",
     "shell.execute_reply.started": "2024-06-20T07:19:42.175089Z"
    },
    "jupyter": {
     "outputs_hidden": true
    },
    "trusted": true
   },
   "outputs": [
    {
     "name": "stdout",
     "output_type": "stream",
     "text": [
      "Collecting backtesting\n",
      "  Downloading Backtesting-0.3.3.tar.gz (175 kB)\n",
      "\u001b[2K     \u001b[90m━━━━━━━━━━━━━━━━━━━━━━━━━━━━━━━━━━━━━━━\u001b[0m \u001b[32m175.5/175.5 kB\u001b[0m \u001b[31m3.4 MB/s\u001b[0m eta \u001b[36m0:00:00\u001b[0m00:01\u001b[0m\n",
      "\u001b[?25h  Preparing metadata (setup.py) ... \u001b[?25ldone\n",
      "\u001b[?25hRequirement already satisfied: numpy>=1.17.0 in /opt/conda/lib/python3.10/site-packages (from backtesting) (1.26.4)\n",
      "Requirement already satisfied: pandas!=0.25.0,>=0.25.0 in /opt/conda/lib/python3.10/site-packages (from backtesting) (2.2.2)\n",
      "Requirement already satisfied: bokeh>=1.4.0 in /opt/conda/lib/python3.10/site-packages (from backtesting) (3.4.1)\n",
      "Requirement already satisfied: Jinja2>=2.9 in /opt/conda/lib/python3.10/site-packages (from bokeh>=1.4.0->backtesting) (3.1.2)\n",
      "Requirement already satisfied: contourpy>=1.2 in /opt/conda/lib/python3.10/site-packages (from bokeh>=1.4.0->backtesting) (1.2.0)\n",
      "Requirement already satisfied: packaging>=16.8 in /opt/conda/lib/python3.10/site-packages (from bokeh>=1.4.0->backtesting) (21.3)\n",
      "Requirement already satisfied: pillow>=7.1.0 in /opt/conda/lib/python3.10/site-packages (from bokeh>=1.4.0->backtesting) (9.5.0)\n",
      "Requirement already satisfied: PyYAML>=3.10 in /opt/conda/lib/python3.10/site-packages (from bokeh>=1.4.0->backtesting) (6.0.1)\n",
      "Requirement already satisfied: tornado>=6.2 in /opt/conda/lib/python3.10/site-packages (from bokeh>=1.4.0->backtesting) (6.3.3)\n",
      "Requirement already satisfied: xyzservices>=2021.09.1 in /opt/conda/lib/python3.10/site-packages (from bokeh>=1.4.0->backtesting) (2024.4.0)\n",
      "Requirement already satisfied: python-dateutil>=2.8.2 in /opt/conda/lib/python3.10/site-packages (from pandas!=0.25.0,>=0.25.0->backtesting) (2.9.0.post0)\n",
      "Requirement already satisfied: pytz>=2020.1 in /opt/conda/lib/python3.10/site-packages (from pandas!=0.25.0,>=0.25.0->backtesting) (2023.3.post1)\n",
      "Requirement already satisfied: tzdata>=2022.7 in /opt/conda/lib/python3.10/site-packages (from pandas!=0.25.0,>=0.25.0->backtesting) (2023.4)\n",
      "Requirement already satisfied: MarkupSafe>=2.0 in /opt/conda/lib/python3.10/site-packages (from Jinja2>=2.9->bokeh>=1.4.0->backtesting) (2.1.3)\n",
      "Requirement already satisfied: pyparsing!=3.0.5,>=2.0.2 in /opt/conda/lib/python3.10/site-packages (from packaging>=16.8->bokeh>=1.4.0->backtesting) (3.1.1)\n",
      "Requirement already satisfied: six>=1.5 in /opt/conda/lib/python3.10/site-packages (from python-dateutil>=2.8.2->pandas!=0.25.0,>=0.25.0->backtesting) (1.16.0)\n",
      "Building wheels for collected packages: backtesting\n",
      "  Building wheel for backtesting (setup.py) ... \u001b[?25ldone\n",
      "\u001b[?25h  Created wheel for backtesting: filename=Backtesting-0.3.3-py3-none-any.whl size=173916 sha256=2df4178c6692b5c38ae31870cdce9da5475ba6df4bfcd7d90d30799922276665\n",
      "  Stored in directory: /root/.cache/pip/wheels/e2/30/7f/19cbe31987c6ebdb47f1f510343249066711609e3da2d57176\n",
      "Successfully built backtesting\n",
      "Installing collected packages: backtesting\n",
      "Successfully installed backtesting-0.3.3\n"
     ]
    }
   ],
   "source": [
    "!pip install backtesting"
   ]
  },
  {
   "cell_type": "code",
   "execution_count": 87,
   "metadata": {
    "execution": {
     "iopub.execute_input": "2024-06-20T07:19:57.726170Z",
     "iopub.status.busy": "2024-06-20T07:19:57.725779Z",
     "iopub.status.idle": "2024-06-20T07:19:58.748229Z",
     "shell.execute_reply": "2024-06-20T07:19:58.747228Z",
     "shell.execute_reply.started": "2024-06-20T07:19:57.726136Z"
    },
    "trusted": true
   },
   "outputs": [
    {
     "name": "stderr",
     "output_type": "stream",
     "text": [
      "/opt/conda/lib/python3.10/site-packages/backtesting/_plotting.py:50: UserWarning: Jupyter Notebook detected. Setting Bokeh output to notebook. This may not work in Jupyter clients without JavaScript support (e.g. PyCharm, Spyder IDE). Reset with `backtesting.set_bokeh_output(notebook=False)`.\n",
      "  warnings.warn('Jupyter Notebook detected. '\n"
     ]
    },
    {
     "data": {
      "text/html": [
       "    <style>\n",
       "        .bk-notebook-logo {\n",
       "            display: block;\n",
       "            width: 20px;\n",
       "            height: 20px;\n",
       "            background-image: url(data:image/png;base64,iVBORw0KGgoAAAANSUhEUgAAABQAAAAUCAYAAACNiR0NAAAABHNCSVQICAgIfAhkiAAAAAlwSFlzAAALEgAACxIB0t1+/AAAABx0RVh0U29mdHdhcmUAQWRvYmUgRmlyZXdvcmtzIENTNui8sowAAAOkSURBVDiNjZRtaJVlGMd/1/08zzln5zjP1LWcU9N0NkN8m2CYjpgQYQXqSs0I84OLIC0hkEKoPtiH3gmKoiJDU7QpLgoLjLIQCpEsNJ1vqUOdO7ppbuec5+V+rj4ctwzd8IIbbi6u+8f1539dt3A78eXC7QizUF7gyV1fD1Yqg4JWz84yffhm0qkFqBogB9rM8tZdtwVsPUhWhGcFJngGeWrPzHm5oaMmkfEg1usvLFyc8jLRqDOMru7AyC8saQr7GG7f5fvDeH7Ej8CM66nIF+8yngt6HWaKh7k49Soy9nXurCi1o3qUbS3zWfrYeQDTB/Qj6kX6Ybhw4B+bOYoLKCC9H3Nu/leUTZ1JdRWkkn2ldcCamzrcf47KKXdAJllSlxAOkRgyHsGC/zRday5Qld9DyoM4/q/rUoy/CXh3jzOu3bHUVZeU+DEn8FInkPBFlu3+nW3Nw0mk6vCDiWg8CeJaxEwuHS3+z5RgY+YBR6V1Z1nxSOfoaPa4LASWxxdNp+VWTk7+4vzaou8v8PN+xo+KY2xsw6une2frhw05CTYOmQvsEhjhWjn0bmXPjpE1+kplmmkP3suftwTubK9Vq22qKmrBhpY4jvd5afdRA3wGjFAgcnTK2s4hY0/GPNIb0nErGMCRxWOOX64Z8RAC4oCXdklmEvcL8o0BfkNK4lUg9HTl+oPlQxdNo3Mg4Nv175e/1LDGzZen30MEjRUtmXSfiTVu1kK8W4txyV6BMKlbgk3lMwYCiusNy9fVfvvwMxv8Ynl6vxoByANLTWplvuj/nF9m2+PDtt1eiHPBr1oIfhCChQMBw6Aw0UulqTKZdfVvfG7VcfIqLG9bcldL/+pdWTLxLUy8Qq38heUIjh4XlzZxzQm19lLFlr8vdQ97rjZVOLf8nclzckbcD4wxXMidpX30sFd37Fv/GtwwhzhxGVAprjbg0gCAEeIgwCZyTV2Z1REEW8O4py0wsjeloKoMr6iCY6dP92H6Vw/oTyICIthibxjm/DfN9lVz8IqtqKYLUXfoKVMVQVVJOElGjrnnUt9T9wbgp8AyYKaGlqingHZU/uG2NTZSVqwHQTWkx9hxjkpWDaCg6Ckj5qebgBVbT3V3NNXMSiWSDdGV3hrtzla7J+duwPOToIg42ChPQOQjspnSlp1V+Gjdged7+8UN5CRAV7a5EdFNwCjEaBR27b3W890TE7g24NAP/mMDXRWrGoFPQI9ls/MWO2dWFAar/xcOIImbbpA3zgAAAABJRU5ErkJggg==);\n",
       "        }\n",
       "    </style>\n",
       "    <div>\n",
       "        <a href=\"https://bokeh.org\" target=\"_blank\" class=\"bk-notebook-logo\"></a>\n",
       "        <span id=\"e05859fd-d0b9-4837-a2d9-c1be89e8f700\">Loading BokehJS ...</span>\n",
       "    </div>\n"
      ]
     },
     "metadata": {},
     "output_type": "display_data"
    },
    {
     "data": {
      "application/javascript": "'use strict';\n(function(root) {\n  function now() {\n    return new Date();\n  }\n\n  const force = true;\n\n  if (typeof root._bokeh_onload_callbacks === \"undefined\" || force === true) {\n    root._bokeh_onload_callbacks = [];\n    root._bokeh_is_loading = undefined;\n  }\n\nconst JS_MIME_TYPE = 'application/javascript';\n  const HTML_MIME_TYPE = 'text/html';\n  const EXEC_MIME_TYPE = 'application/vnd.bokehjs_exec.v0+json';\n  const CLASS_NAME = 'output_bokeh rendered_html';\n\n  /**\n   * Render data to the DOM node\n   */\n  function render(props, node) {\n    const script = document.createElement(\"script\");\n    node.appendChild(script);\n  }\n\n  /**\n   * Handle when an output is cleared or removed\n   */\n  function handleClearOutput(event, handle) {\n    function drop(id) {\n      const view = Bokeh.index.get_by_id(id)\n      if (view != null) {\n        view.model.document.clear()\n        Bokeh.index.delete(view)\n      }\n    }\n\n    const cell = handle.cell;\n\n    const id = cell.output_area._bokeh_element_id;\n    const server_id = cell.output_area._bokeh_server_id;\n\n    // Clean up Bokeh references\n    if (id != null) {\n      drop(id)\n    }\n\n    if (server_id !== undefined) {\n      // Clean up Bokeh references\n      const cmd_clean = \"from bokeh.io.state import curstate; print(curstate().uuid_to_server['\" + server_id + \"'].get_sessions()[0].document.roots[0]._id)\";\n      cell.notebook.kernel.execute(cmd_clean, {\n        iopub: {\n          output: function(msg) {\n            const id = msg.content.text.trim()\n            drop(id)\n          }\n        }\n      });\n      // Destroy server and session\n      const cmd_destroy = \"import bokeh.io.notebook as ion; ion.destroy_server('\" + server_id + \"')\";\n      cell.notebook.kernel.execute(cmd_destroy);\n    }\n  }\n\n  /**\n   * Handle when a new output is added\n   */\n  function handleAddOutput(event, handle) {\n    const output_area = handle.output_area;\n    const output = handle.output;\n\n    // limit handleAddOutput to display_data with EXEC_MIME_TYPE content only\n    if ((output.output_type != \"display_data\") || (!Object.prototype.hasOwnProperty.call(output.data, EXEC_MIME_TYPE))) {\n      return\n    }\n\n    const toinsert = output_area.element.find(\".\" + CLASS_NAME.split(' ')[0]);\n\n    if (output.metadata[EXEC_MIME_TYPE][\"id\"] !== undefined) {\n      toinsert[toinsert.length - 1].firstChild.textContent = output.data[JS_MIME_TYPE];\n      // store reference to embed id on output_area\n      output_area._bokeh_element_id = output.metadata[EXEC_MIME_TYPE][\"id\"];\n    }\n    if (output.metadata[EXEC_MIME_TYPE][\"server_id\"] !== undefined) {\n      const bk_div = document.createElement(\"div\");\n      bk_div.innerHTML = output.data[HTML_MIME_TYPE];\n      const script_attrs = bk_div.children[0].attributes;\n      for (let i = 0; i < script_attrs.length; i++) {\n        toinsert[toinsert.length - 1].firstChild.setAttribute(script_attrs[i].name, script_attrs[i].value);\n        toinsert[toinsert.length - 1].firstChild.textContent = bk_div.children[0].textContent\n      }\n      // store reference to server id on output_area\n      output_area._bokeh_server_id = output.metadata[EXEC_MIME_TYPE][\"server_id\"];\n    }\n  }\n\n  function register_renderer(events, OutputArea) {\n\n    function append_mime(data, metadata, element) {\n      // create a DOM node to render to\n      const toinsert = this.create_output_subarea(\n        metadata,\n        CLASS_NAME,\n        EXEC_MIME_TYPE\n      );\n      this.keyboard_manager.register_events(toinsert);\n      // Render to node\n      const props = {data: data, metadata: metadata[EXEC_MIME_TYPE]};\n      render(props, toinsert[toinsert.length - 1]);\n      element.append(toinsert);\n      return toinsert\n    }\n\n    /* Handle when an output is cleared or removed */\n    events.on('clear_output.CodeCell', handleClearOutput);\n    events.on('delete.Cell', handleClearOutput);\n\n    /* Handle when a new output is added */\n    events.on('output_added.OutputArea', handleAddOutput);\n\n    /**\n     * Register the mime type and append_mime function with output_area\n     */\n    OutputArea.prototype.register_mime_type(EXEC_MIME_TYPE, append_mime, {\n      /* Is output safe? */\n      safe: true,\n      /* Index of renderer in `output_area.display_order` */\n      index: 0\n    });\n  }\n\n  // register the mime type if in Jupyter Notebook environment and previously unregistered\n  if (root.Jupyter !== undefined) {\n    const events = require('base/js/events');\n    const OutputArea = require('notebook/js/outputarea').OutputArea;\n\n    if (OutputArea.prototype.mime_types().indexOf(EXEC_MIME_TYPE) == -1) {\n      register_renderer(events, OutputArea);\n    }\n  }\n  if (typeof (root._bokeh_timeout) === \"undefined\" || force === true) {\n    root._bokeh_timeout = Date.now() + 5000;\n    root._bokeh_failed_load = false;\n  }\n\n  const NB_LOAD_WARNING = {'data': {'text/html':\n     \"<div style='background-color: #fdd'>\\n\"+\n     \"<p>\\n\"+\n     \"BokehJS does not appear to have successfully loaded. If loading BokehJS from CDN, this \\n\"+\n     \"may be due to a slow or bad network connection. Possible fixes:\\n\"+\n     \"</p>\\n\"+\n     \"<ul>\\n\"+\n     \"<li>re-rerun `output_notebook()` to attempt to load from CDN again, or</li>\\n\"+\n     \"<li>use INLINE resources instead, as so:</li>\\n\"+\n     \"</ul>\\n\"+\n     \"<code>\\n\"+\n     \"from bokeh.resources import INLINE\\n\"+\n     \"output_notebook(resources=INLINE)\\n\"+\n     \"</code>\\n\"+\n     \"</div>\"}};\n\n  function display_loaded(error = null) {\n    const el = document.getElementById(\"e05859fd-d0b9-4837-a2d9-c1be89e8f700\");\n    if (el != null) {\n      const html = (() => {\n        if (typeof root.Bokeh === \"undefined\") {\n          if (error == null) {\n            return \"BokehJS is loading ...\";\n          } else {\n            return \"BokehJS failed to load.\";\n          }\n        } else {\n          const prefix = `BokehJS ${root.Bokeh.version}`;\n          if (error == null) {\n            return `${prefix} successfully loaded.`;\n          } else {\n            return `${prefix} <b>encountered errors</b> while loading and may not function as expected.`;\n          }\n        }\n      })();\n      el.innerHTML = html;\n\n      if (error != null) {\n        const wrapper = document.createElement(\"div\");\n        wrapper.style.overflow = \"auto\";\n        wrapper.style.height = \"5em\";\n        wrapper.style.resize = \"vertical\";\n        const content = document.createElement(\"div\");\n        content.style.fontFamily = \"monospace\";\n        content.style.whiteSpace = \"pre-wrap\";\n        content.style.backgroundColor = \"rgb(255, 221, 221)\";\n        content.textContent = error.stack ?? error.toString();\n        wrapper.append(content);\n        el.append(wrapper);\n      }\n    } else if (Date.now() < root._bokeh_timeout) {\n      setTimeout(() => display_loaded(error), 100);\n    }\n  }\n\n  function run_callbacks() {\n    try {\n      root._bokeh_onload_callbacks.forEach(function(callback) {\n        if (callback != null)\n          callback();\n      });\n    } finally {\n      delete root._bokeh_onload_callbacks\n    }\n    console.debug(\"Bokeh: all callbacks have finished\");\n  }\n\n  function load_libs(css_urls, js_urls, callback) {\n    if (css_urls == null) css_urls = [];\n    if (js_urls == null) js_urls = [];\n\n    root._bokeh_onload_callbacks.push(callback);\n    if (root._bokeh_is_loading > 0) {\n      console.debug(\"Bokeh: BokehJS is being loaded, scheduling callback at\", now());\n      return null;\n    }\n    if (js_urls == null || js_urls.length === 0) {\n      run_callbacks();\n      return null;\n    }\n    console.debug(\"Bokeh: BokehJS not loaded, scheduling load and callback at\", now());\n    root._bokeh_is_loading = css_urls.length + js_urls.length;\n\n    function on_load() {\n      root._bokeh_is_loading--;\n      if (root._bokeh_is_loading === 0) {\n        console.debug(\"Bokeh: all BokehJS libraries/stylesheets loaded\");\n        run_callbacks()\n      }\n    }\n\n    function on_error(url) {\n      console.error(\"failed to load \" + url);\n    }\n\n    for (let i = 0; i < css_urls.length; i++) {\n      const url = css_urls[i];\n      const element = document.createElement(\"link\");\n      element.onload = on_load;\n      element.onerror = on_error.bind(null, url);\n      element.rel = \"stylesheet\";\n      element.type = \"text/css\";\n      element.href = url;\n      console.debug(\"Bokeh: injecting link tag for BokehJS stylesheet: \", url);\n      document.body.appendChild(element);\n    }\n\n    for (let i = 0; i < js_urls.length; i++) {\n      const url = js_urls[i];\n      const element = document.createElement('script');\n      element.onload = on_load;\n      element.onerror = on_error.bind(null, url);\n      element.async = false;\n      element.src = url;\n      console.debug(\"Bokeh: injecting script tag for BokehJS library: \", url);\n      document.head.appendChild(element);\n    }\n  };\n\n  function inject_raw_css(css) {\n    const element = document.createElement(\"style\");\n    element.appendChild(document.createTextNode(css));\n    document.body.appendChild(element);\n  }\n\n  const js_urls = [\"https://cdn.bokeh.org/bokeh/release/bokeh-3.4.1.min.js\", \"https://cdn.bokeh.org/bokeh/release/bokeh-gl-3.4.1.min.js\", \"https://cdn.bokeh.org/bokeh/release/bokeh-widgets-3.4.1.min.js\", \"https://cdn.bokeh.org/bokeh/release/bokeh-tables-3.4.1.min.js\", \"https://cdn.bokeh.org/bokeh/release/bokeh-mathjax-3.4.1.min.js\"];\n  const css_urls = [];\n\n  const inline_js = [    function(Bokeh) {\n      Bokeh.set_log_level(\"info\");\n    },\nfunction(Bokeh) {\n    }\n  ];\n\n  function run_inline_js() {\n    if (root.Bokeh !== undefined || force === true) {\n      try {\n            for (let i = 0; i < inline_js.length; i++) {\n      inline_js[i].call(root, root.Bokeh);\n    }\n\n      } catch (error) {display_loaded(error);throw error;\n      }if (force === true) {\n        display_loaded();\n      }} else if (Date.now() < root._bokeh_timeout) {\n      setTimeout(run_inline_js, 100);\n    } else if (!root._bokeh_failed_load) {\n      console.log(\"Bokeh: BokehJS failed to load within specified timeout.\");\n      root._bokeh_failed_load = true;\n    } else if (force !== true) {\n      const cell = $(document.getElementById(\"e05859fd-d0b9-4837-a2d9-c1be89e8f700\")).parents('.cell').data().cell;\n      cell.output_area.append_execute_result(NB_LOAD_WARNING)\n    }\n  }\n\n  if (root._bokeh_is_loading === 0) {\n    console.debug(\"Bokeh: BokehJS loaded, going straight to plotting\");\n    run_inline_js();\n  } else {\n    load_libs(css_urls, js_urls, function() {\n      console.debug(\"Bokeh: BokehJS plotting callback run at\", now());\n      run_inline_js();\n    });\n  }\n}(window));",
      "application/vnd.bokehjs_load.v0+json": ""
     },
     "metadata": {},
     "output_type": "display_data"
    }
   ],
   "source": [
    "\n",
    "from backtesting.lib import crossover"
   ]
  },
  {
   "cell_type": "code",
   "execution_count": 202,
   "metadata": {
    "execution": {
     "iopub.execute_input": "2024-06-20T07:54:15.189389Z",
     "iopub.status.busy": "2024-06-20T07:54:15.188394Z",
     "iopub.status.idle": "2024-06-20T07:54:15.194190Z",
     "shell.execute_reply": "2024-06-20T07:54:15.193050Z",
     "shell.execute_reply.started": "2024-06-20T07:54:15.189354Z"
    },
    "trusted": true
   },
   "outputs": [],
   "source": [
    "from backtesting import Backtest, Strategy\n",
    "from backtesting.lib import SignalStrategy, TrailingStrategy"
   ]
  },
  {
   "cell_type": "code",
   "execution_count": 123,
   "metadata": {
    "execution": {
     "iopub.execute_input": "2024-06-20T07:34:01.286255Z",
     "iopub.status.busy": "2024-06-20T07:34:01.285836Z",
     "iopub.status.idle": "2024-06-20T07:34:01.292064Z",
     "shell.execute_reply": "2024-06-20T07:34:01.290603Z",
     "shell.execute_reply.started": "2024-06-20T07:34:01.286224Z"
    },
    "trusted": true
   },
   "outputs": [],
   "source": [
    "def SMA(values, n):\n",
    "    \"\"\"\n",
    "    Return simple moving average of `values`, at\n",
    "    each step taking into account `n` previous values.\n",
    "    \"\"\"\n",
    "    return pd.Series(values).rolling(n).mean()"
   ]
  },
  {
   "cell_type": "code",
   "execution_count": 124,
   "metadata": {
    "execution": {
     "iopub.execute_input": "2024-06-20T07:34:02.815841Z",
     "iopub.status.busy": "2024-06-20T07:34:02.815395Z",
     "iopub.status.idle": "2024-06-20T07:34:02.822430Z",
     "shell.execute_reply": "2024-06-20T07:34:02.820495Z",
     "shell.execute_reply.started": "2024-06-20T07:34:02.815806Z"
    },
    "trusted": true
   },
   "outputs": [],
   "source": [
    "def sentiment_based_trade(compound_score, sentiment_threshold):\n",
    "    if compound_score > sentiment_threshold:\n",
    "        return 'long'\n",
    "    elif compound_score < -sentiment_threshold:\n",
    "        return 'short'\n",
    "    else:\n",
    "        return None"
   ]
  },
  {
   "cell_type": "code",
   "execution_count": 281,
   "metadata": {
    "execution": {
     "iopub.execute_input": "2024-06-20T08:11:37.397424Z",
     "iopub.status.busy": "2024-06-20T08:11:37.396399Z",
     "iopub.status.idle": "2024-06-20T08:11:37.409756Z",
     "shell.execute_reply": "2024-06-20T08:11:37.408472Z",
     "shell.execute_reply.started": "2024-06-20T08:11:37.397385Z"
    },
    "trusted": true
   },
   "outputs": [],
   "source": [
    "class CombinedStrategy(Strategy):\n",
    "    n1 = 4  # SMA period 1\n",
    "    n2 = 8  # SMA period 2\n",
    "    sentiment_threshold = 0.5  # Threshold for sentiment\n",
    "    \n",
    "    def init(self):\n",
    "        # Initialize SMAs\n",
    "        self.sma1 = self.I(SMA, self.data.Close, self.n1)\n",
    "        self.sma2 = self.I(SMA, self.data.Close, self.n2)\n",
    "        \n",
    "        # Load historical news data\n",
    "        self.news_data = self.data.df[['subjectivity', 'polarity', 'compound']]  # Use sentiment scores\n",
    "        \n",
    "        # Initialize position status\n",
    "        self.position_status = ''\n",
    "\n",
    "    def next(self):\n",
    "        # Check if there's news data available for the current date\n",
    "        current_date = self.data.index[-1]\n",
    "        if current_date in self.news_data.index:\n",
    "            # Get sentiment scores for the current date\n",
    "            subjectivity = self.news_data.loc[current_date, 'subjectivity']\n",
    "            polarity = self.news_data.loc[current_date, 'polarity']\n",
    "            compound = self.news_data.loc[current_date, 'compound']\n",
    "            \n",
    "            # Determine sentiment-based trade signal\n",
    "            sentiment_signal = self.sentiment_based_trade(subjectivity, polarity, compound)\n",
    "        else:\n",
    "            sentiment_signal = None\n",
    "\n",
    "        # Combine SMA crossover and sentiment signals\n",
    "        if crossover(self.sma1, self.sma2) and sentiment_signal == 'long' and self.position_status != 'long':\n",
    "            self.position.close()\n",
    "            self.buy()\n",
    "            self.position_status = 'long'\n",
    "\n",
    "        elif crossover(self.sma2, self.sma1) and sentiment_signal == 'short' and self.position_status != 'short':\n",
    "            self.position.close()\n",
    "            self.sell()\n",
    "            self.position_status = 'short'\n",
    "\n",
    "        elif sentiment_signal is None:\n",
    "            self.position.close()\n",
    "            self.position_status = ''\n",
    "\n",
    "    def sentiment_based_trade(self, subjectivity, polarity, compound):\n",
    "        if subjectivity > 0.5 and compound > 0.1:  # Adjust thresholds as needed\n",
    "            return 'long'\n",
    "        elif subjectivity < 0.5 and compound < -0.1:  # Adjust thresholds as needed\n",
    "            return 'short'\n",
    "        else:\n",
    "            return None"
   ]
  },
  {
   "cell_type": "code",
   "execution_count": 282,
   "metadata": {
    "execution": {
     "iopub.execute_input": "2024-06-20T08:11:37.411716Z",
     "iopub.status.busy": "2024-06-20T08:11:37.411363Z",
     "iopub.status.idle": "2024-06-20T08:11:37.435004Z",
     "shell.execute_reply": "2024-06-20T08:11:37.433919Z",
     "shell.execute_reply.started": "2024-06-20T08:11:37.411687Z"
    },
    "trusted": true
   },
   "outputs": [],
   "source": [
    "ohlc_data = tsla_stock_news[['Date', 'Open', 'High', 'Low', 'Close', 'Adj Close', 'Volume', 'Price_Change', 'subjectivity', 'polarity', 'compound']]"
   ]
  },
  {
   "cell_type": "code",
   "execution_count": 283,
   "metadata": {
    "execution": {
     "iopub.execute_input": "2024-06-20T08:11:38.418983Z",
     "iopub.status.busy": "2024-06-20T08:11:38.418590Z",
     "iopub.status.idle": "2024-06-20T08:11:38.431018Z",
     "shell.execute_reply": "2024-06-20T08:11:38.429922Z",
     "shell.execute_reply.started": "2024-06-20T08:11:38.418950Z"
    },
    "trusted": true
   },
   "outputs": [
    {
     "name": "stdout",
     "output_type": "stream",
     "text": [
      "<class 'pandas.core.frame.DataFrame'>\n",
      "RangeIndex: 317 entries, 0 to 316\n",
      "Data columns (total 11 columns):\n",
      " #   Column        Non-Null Count  Dtype         \n",
      "---  ------        --------------  -----         \n",
      " 0   Date          317 non-null    datetime64[ns]\n",
      " 1   Open          317 non-null    float64       \n",
      " 2   High          317 non-null    float64       \n",
      " 3   Low           317 non-null    float64       \n",
      " 4   Close         317 non-null    float64       \n",
      " 5   Adj Close     317 non-null    float64       \n",
      " 6   Volume        317 non-null    int64         \n",
      " 7   Price_Change  316 non-null    float64       \n",
      " 8   subjectivity  317 non-null    float64       \n",
      " 9   polarity      317 non-null    float64       \n",
      " 10  compound      317 non-null    float64       \n",
      "dtypes: datetime64[ns](1), float64(9), int64(1)\n",
      "memory usage: 27.4 KB\n"
     ]
    }
   ],
   "source": [
    "ohlc_data.info()"
   ]
  },
  {
   "cell_type": "code",
   "execution_count": 284,
   "metadata": {
    "execution": {
     "iopub.execute_input": "2024-06-20T08:11:39.129448Z",
     "iopub.status.busy": "2024-06-20T08:11:39.128674Z",
     "iopub.status.idle": "2024-06-20T08:11:39.138762Z",
     "shell.execute_reply": "2024-06-20T08:11:39.137769Z",
     "shell.execute_reply.started": "2024-06-20T08:11:39.129411Z"
    },
    "trusted": true
   },
   "outputs": [
    {
     "name": "stderr",
     "output_type": "stream",
     "text": [
      "/tmp/ipykernel_33/628730445.py:1: SettingWithCopyWarning: \n",
      "A value is trying to be set on a copy of a slice from a DataFrame.\n",
      "Try using .loc[row_indexer,col_indexer] = value instead\n",
      "\n",
      "See the caveats in the documentation: https://pandas.pydata.org/pandas-docs/stable/user_guide/indexing.html#returning-a-view-versus-a-copy\n",
      "  ohlc_data['Date'] = pd.to_datetime(ohlc_data['Date'], errors='coerce')\n"
     ]
    }
   ],
   "source": [
    "ohlc_data['Date'] = pd.to_datetime(ohlc_data['Date'], errors='coerce')"
   ]
  },
  {
   "cell_type": "code",
   "execution_count": 285,
   "metadata": {
    "execution": {
     "iopub.execute_input": "2024-06-20T08:11:39.653580Z",
     "iopub.status.busy": "2024-06-20T08:11:39.653164Z",
     "iopub.status.idle": "2024-06-20T08:11:39.661398Z",
     "shell.execute_reply": "2024-06-20T08:11:39.660247Z",
     "shell.execute_reply.started": "2024-06-20T08:11:39.653525Z"
    },
    "trusted": true
   },
   "outputs": [],
   "source": [
    "ohlc_data = ohlc_data.dropna(subset=['Date'])"
   ]
  },
  {
   "cell_type": "code",
   "execution_count": 286,
   "metadata": {
    "execution": {
     "iopub.execute_input": "2024-06-20T08:11:40.923498Z",
     "iopub.status.busy": "2024-06-20T08:11:40.923117Z",
     "iopub.status.idle": "2024-06-20T08:11:40.929819Z",
     "shell.execute_reply": "2024-06-20T08:11:40.928628Z",
     "shell.execute_reply.started": "2024-06-20T08:11:40.923465Z"
    },
    "trusted": true
   },
   "outputs": [],
   "source": [
    "ohlc_data.set_index('Date', inplace=True)"
   ]
  },
  {
   "cell_type": "code",
   "execution_count": 287,
   "metadata": {
    "execution": {
     "iopub.execute_input": "2024-06-20T08:11:41.874068Z",
     "iopub.status.busy": "2024-06-20T08:11:41.873675Z",
     "iopub.status.idle": "2024-06-20T08:11:41.881266Z",
     "shell.execute_reply": "2024-06-20T08:11:41.880238Z",
     "shell.execute_reply.started": "2024-06-20T08:11:41.874036Z"
    },
    "trusted": true
   },
   "outputs": [],
   "source": [
    "bt = Backtest(ohlc_data, CombinedStrategy, cash=100000)"
   ]
  },
  {
   "cell_type": "code",
   "execution_count": 288,
   "metadata": {
    "execution": {
     "iopub.execute_input": "2024-06-20T08:11:42.483386Z",
     "iopub.status.busy": "2024-06-20T08:11:42.482350Z",
     "iopub.status.idle": "2024-06-20T08:11:42.501300Z",
     "shell.execute_reply": "2024-06-20T08:11:42.500168Z",
     "shell.execute_reply.started": "2024-06-20T08:11:42.483347Z"
    },
    "trusted": true
   },
   "outputs": [
    {
     "data": {
      "text/html": [
       "<div>\n",
       "<style scoped>\n",
       "    .dataframe tbody tr th:only-of-type {\n",
       "        vertical-align: middle;\n",
       "    }\n",
       "\n",
       "    .dataframe tbody tr th {\n",
       "        vertical-align: top;\n",
       "    }\n",
       "\n",
       "    .dataframe thead th {\n",
       "        text-align: right;\n",
       "    }\n",
       "</style>\n",
       "<table border=\"1\" class=\"dataframe\">\n",
       "  <thead>\n",
       "    <tr style=\"text-align: right;\">\n",
       "      <th></th>\n",
       "      <th>Open</th>\n",
       "      <th>High</th>\n",
       "      <th>Low</th>\n",
       "      <th>Close</th>\n",
       "      <th>Adj Close</th>\n",
       "      <th>Volume</th>\n",
       "      <th>Price_Change</th>\n",
       "      <th>subjectivity</th>\n",
       "      <th>polarity</th>\n",
       "      <th>compound</th>\n",
       "    </tr>\n",
       "    <tr>\n",
       "      <th>Date</th>\n",
       "      <th></th>\n",
       "      <th></th>\n",
       "      <th></th>\n",
       "      <th></th>\n",
       "      <th></th>\n",
       "      <th></th>\n",
       "      <th></th>\n",
       "      <th></th>\n",
       "      <th></th>\n",
       "      <th></th>\n",
       "    </tr>\n",
       "  </thead>\n",
       "  <tbody>\n",
       "    <tr>\n",
       "      <th>2023-01-03</th>\n",
       "      <td>118.470001</td>\n",
       "      <td>118.800003</td>\n",
       "      <td>104.639999</td>\n",
       "      <td>108.099998</td>\n",
       "      <td>108.099998</td>\n",
       "      <td>231402800</td>\n",
       "      <td>NaN</td>\n",
       "      <td>0.332727</td>\n",
       "      <td>-0.033737</td>\n",
       "      <td>-0.5574</td>\n",
       "    </tr>\n",
       "    <tr>\n",
       "      <th>2023-01-04</th>\n",
       "      <td>109.110001</td>\n",
       "      <td>114.589996</td>\n",
       "      <td>107.519997</td>\n",
       "      <td>113.639999</td>\n",
       "      <td>113.639999</td>\n",
       "      <td>180389000</td>\n",
       "      <td>0.051249</td>\n",
       "      <td>0.464848</td>\n",
       "      <td>0.065455</td>\n",
       "      <td>-0.9169</td>\n",
       "    </tr>\n",
       "    <tr>\n",
       "      <th>2023-01-05</th>\n",
       "      <td>110.510002</td>\n",
       "      <td>111.750000</td>\n",
       "      <td>107.160004</td>\n",
       "      <td>110.339996</td>\n",
       "      <td>110.339996</td>\n",
       "      <td>157986300</td>\n",
       "      <td>-0.029039</td>\n",
       "      <td>0.227273</td>\n",
       "      <td>0.068182</td>\n",
       "      <td>0.5423</td>\n",
       "    </tr>\n",
       "    <tr>\n",
       "      <th>2023-01-06</th>\n",
       "      <td>103.000000</td>\n",
       "      <td>114.389999</td>\n",
       "      <td>101.809998</td>\n",
       "      <td>113.059998</td>\n",
       "      <td>113.059998</td>\n",
       "      <td>220911100</td>\n",
       "      <td>0.024651</td>\n",
       "      <td>0.334242</td>\n",
       "      <td>0.073939</td>\n",
       "      <td>0.7096</td>\n",
       "    </tr>\n",
       "    <tr>\n",
       "      <th>2023-01-09</th>\n",
       "      <td>118.959999</td>\n",
       "      <td>123.519997</td>\n",
       "      <td>117.110001</td>\n",
       "      <td>119.769997</td>\n",
       "      <td>119.769997</td>\n",
       "      <td>190284000</td>\n",
       "      <td>0.059349</td>\n",
       "      <td>0.594048</td>\n",
       "      <td>-0.529762</td>\n",
       "      <td>-0.8658</td>\n",
       "    </tr>\n",
       "    <tr>\n",
       "      <th>...</th>\n",
       "      <td>...</td>\n",
       "      <td>...</td>\n",
       "      <td>...</td>\n",
       "      <td>...</td>\n",
       "      <td>...</td>\n",
       "      <td>...</td>\n",
       "      <td>...</td>\n",
       "      <td>...</td>\n",
       "      <td>...</td>\n",
       "      <td>...</td>\n",
       "    </tr>\n",
       "    <tr>\n",
       "      <th>2024-04-02</th>\n",
       "      <td>164.750000</td>\n",
       "      <td>167.690002</td>\n",
       "      <td>163.429993</td>\n",
       "      <td>166.630005</td>\n",
       "      <td>166.630005</td>\n",
       "      <td>116650600</td>\n",
       "      <td>-0.049024</td>\n",
       "      <td>0.676136</td>\n",
       "      <td>0.227841</td>\n",
       "      <td>0.1779</td>\n",
       "    </tr>\n",
       "    <tr>\n",
       "      <th>2024-04-03</th>\n",
       "      <td>164.020004</td>\n",
       "      <td>168.820007</td>\n",
       "      <td>163.279999</td>\n",
       "      <td>168.380005</td>\n",
       "      <td>168.380005</td>\n",
       "      <td>82950100</td>\n",
       "      <td>0.010502</td>\n",
       "      <td>0.475000</td>\n",
       "      <td>0.200000</td>\n",
       "      <td>0.6249</td>\n",
       "    </tr>\n",
       "    <tr>\n",
       "      <th>2024-04-04</th>\n",
       "      <td>170.070007</td>\n",
       "      <td>177.190002</td>\n",
       "      <td>168.009995</td>\n",
       "      <td>171.110001</td>\n",
       "      <td>171.110001</td>\n",
       "      <td>123162000</td>\n",
       "      <td>0.016213</td>\n",
       "      <td>0.200000</td>\n",
       "      <td>-0.150000</td>\n",
       "      <td>-0.3612</td>\n",
       "    </tr>\n",
       "    <tr>\n",
       "      <th>2024-04-05</th>\n",
       "      <td>169.080002</td>\n",
       "      <td>170.860001</td>\n",
       "      <td>160.509995</td>\n",
       "      <td>164.899994</td>\n",
       "      <td>164.899994</td>\n",
       "      <td>141250700</td>\n",
       "      <td>-0.036292</td>\n",
       "      <td>0.450505</td>\n",
       "      <td>0.048485</td>\n",
       "      <td>0.2263</td>\n",
       "    </tr>\n",
       "    <tr>\n",
       "      <th>2024-04-08</th>\n",
       "      <td>169.339996</td>\n",
       "      <td>174.500000</td>\n",
       "      <td>167.789993</td>\n",
       "      <td>172.979996</td>\n",
       "      <td>172.979996</td>\n",
       "      <td>104423300</td>\n",
       "      <td>0.048999</td>\n",
       "      <td>0.250000</td>\n",
       "      <td>0.031250</td>\n",
       "      <td>-0.9393</td>\n",
       "    </tr>\n",
       "  </tbody>\n",
       "</table>\n",
       "<p>317 rows × 10 columns</p>\n",
       "</div>"
      ],
      "text/plain": [
       "                  Open        High         Low       Close   Adj Close  \\\n",
       "Date                                                                     \n",
       "2023-01-03  118.470001  118.800003  104.639999  108.099998  108.099998   \n",
       "2023-01-04  109.110001  114.589996  107.519997  113.639999  113.639999   \n",
       "2023-01-05  110.510002  111.750000  107.160004  110.339996  110.339996   \n",
       "2023-01-06  103.000000  114.389999  101.809998  113.059998  113.059998   \n",
       "2023-01-09  118.959999  123.519997  117.110001  119.769997  119.769997   \n",
       "...                ...         ...         ...         ...         ...   \n",
       "2024-04-02  164.750000  167.690002  163.429993  166.630005  166.630005   \n",
       "2024-04-03  164.020004  168.820007  163.279999  168.380005  168.380005   \n",
       "2024-04-04  170.070007  177.190002  168.009995  171.110001  171.110001   \n",
       "2024-04-05  169.080002  170.860001  160.509995  164.899994  164.899994   \n",
       "2024-04-08  169.339996  174.500000  167.789993  172.979996  172.979996   \n",
       "\n",
       "               Volume  Price_Change  subjectivity  polarity  compound  \n",
       "Date                                                                   \n",
       "2023-01-03  231402800           NaN      0.332727 -0.033737   -0.5574  \n",
       "2023-01-04  180389000      0.051249      0.464848  0.065455   -0.9169  \n",
       "2023-01-05  157986300     -0.029039      0.227273  0.068182    0.5423  \n",
       "2023-01-06  220911100      0.024651      0.334242  0.073939    0.7096  \n",
       "2023-01-09  190284000      0.059349      0.594048 -0.529762   -0.8658  \n",
       "...               ...           ...           ...       ...       ...  \n",
       "2024-04-02  116650600     -0.049024      0.676136  0.227841    0.1779  \n",
       "2024-04-03   82950100      0.010502      0.475000  0.200000    0.6249  \n",
       "2024-04-04  123162000      0.016213      0.200000 -0.150000   -0.3612  \n",
       "2024-04-05  141250700     -0.036292      0.450505  0.048485    0.2263  \n",
       "2024-04-08  104423300      0.048999      0.250000  0.031250   -0.9393  \n",
       "\n",
       "[317 rows x 10 columns]"
      ]
     },
     "execution_count": 288,
     "metadata": {},
     "output_type": "execute_result"
    }
   ],
   "source": [
    "ohlc_data"
   ]
  },
  {
   "cell_type": "code",
   "execution_count": 289,
   "metadata": {
    "execution": {
     "iopub.execute_input": "2024-06-20T08:11:43.064114Z",
     "iopub.status.busy": "2024-06-20T08:11:43.063378Z",
     "iopub.status.idle": "2024-06-20T08:11:43.164150Z",
     "shell.execute_reply": "2024-06-20T08:11:43.163190Z",
     "shell.execute_reply.started": "2024-06-20T08:11:43.064077Z"
    },
    "trusted": true
   },
   "outputs": [
    {
     "data": {
      "text/plain": [
       "Start                     2023-01-03 00:00:00\n",
       "End                       2024-04-08 00:00:00\n",
       "Duration                    461 days 00:00:00\n",
       "Exposure Time [%]                    9.148265\n",
       "Equity Final [$]                108960.737335\n",
       "Equity Peak [$]                  109667.84314\n",
       "Return [%]                           8.960737\n",
       "Buy & Hold Return [%]                 60.0185\n",
       "Return (Ann.) [%]                    7.060166\n",
       "Volatility (Ann.) [%]                11.12097\n",
       "Sharpe Ratio                         0.634852\n",
       "Sortino Ratio                         1.30894\n",
       "Calmar Ratio                         0.983464\n",
       "Max. Drawdown [%]                   -7.178873\n",
       "Avg. Drawdown [%]                   -3.823988\n",
       "Max. Drawdown Duration      196 days 00:00:00\n",
       "Avg. Drawdown Duration      106 days 00:00:00\n",
       "# Trades                                    9\n",
       "Win Rate [%]                        55.555556\n",
       "Best Trade [%]                       9.638075\n",
       "Worst Trade [%]                     -6.002002\n",
       "Avg. Trade [%]                        0.95791\n",
       "Max. Trade Duration           6 days 00:00:00\n",
       "Avg. Trade Duration           3 days 00:00:00\n",
       "Profit Factor                         1.84234\n",
       "Expectancy [%]                        1.05086\n",
       "SQN                                  0.645883\n",
       "_strategy                    CombinedStrategy\n",
       "_equity_curve                             ...\n",
       "_trades                      Size  EntryBa...\n",
       "dtype: object"
      ]
     },
     "execution_count": 289,
     "metadata": {},
     "output_type": "execute_result"
    }
   ],
   "source": [
    "bt.run()"
   ]
  },
  {
   "cell_type": "code",
   "execution_count": 290,
   "metadata": {
    "execution": {
     "iopub.execute_input": "2024-06-20T08:12:01.639420Z",
     "iopub.status.busy": "2024-06-20T08:12:01.638714Z",
     "iopub.status.idle": "2024-06-20T08:12:02.160097Z",
     "shell.execute_reply": "2024-06-20T08:12:02.159113Z",
     "shell.execute_reply.started": "2024-06-20T08:12:01.639385Z"
    },
    "trusted": true
   },
   "outputs": [
    {
     "name": "stderr",
     "output_type": "stream",
     "text": [
      "BokehDeprecationWarning: Passing lists of formats for DatetimeTickFormatter scales was deprecated in Bokeh 3.0. Configure a single string format for each scale\n",
      "/opt/conda/lib/python3.10/site-packages/backtesting/_plotting.py:250: UserWarning: DatetimeFormatter scales now only accept a single format. Using the first provided: '%d %b'\n",
      "  formatter=DatetimeTickFormatter(days=['%d %b', '%a %d'],\n",
      "BokehDeprecationWarning: Passing lists of formats for DatetimeTickFormatter scales was deprecated in Bokeh 3.0. Configure a single string format for each scale\n",
      "/opt/conda/lib/python3.10/site-packages/backtesting/_plotting.py:250: UserWarning: DatetimeFormatter scales now only accept a single format. Using the first provided: '%m/%Y'\n",
      "  formatter=DatetimeTickFormatter(days=['%d %b', '%a %d'],\n",
      "/opt/conda/lib/python3.10/site-packages/backtesting/_plotting.py:455: FutureWarning: 'M' is deprecated and will be removed in a future version, please use 'ME' instead.\n",
      "  df2 = (df.assign(_width=1).set_index('datetime')\n",
      "/opt/conda/lib/python3.10/site-packages/backtesting/_plotting.py:659: UserWarning: found multiple competing values for 'toolbar.active_drag' property; using the latest value\n",
      "  fig = gridplot(\n",
      "/opt/conda/lib/python3.10/site-packages/backtesting/_plotting.py:659: UserWarning: found multiple competing values for 'toolbar.active_scroll' property; using the latest value\n",
      "  fig = gridplot(\n"
     ]
    },
    {
     "data": {
      "text/html": [
       "\n",
       "  <div id=\"b1cf8408-4638-4b61-b18e-24d0fe8af371\" data-root-id=\"p3100\" style=\"display: contents;\"></div>\n"
      ]
     },
     "metadata": {},
     "output_type": "display_data"
    },
    {
     "data": {
      "application/javascript": "(function(root) {\n  function embed_document(root) {\n  const docs_json = {\"ae3d5efc-1ec3-4526-beaa-519676980725\":{\"version\":\"3.4.1\",\"title\":\"Bokeh Application\",\"roots\":[{\"type\":\"object\",\"name\":\"GridPlot\",\"id\":\"p3100\",\"attributes\":{\"rows\":null,\"cols\":null,\"sizing_mode\":\"stretch_width\",\"toolbar\":{\"type\":\"object\",\"name\":\"Toolbar\",\"id\":\"p3099\",\"attributes\":{\"logo\":null,\"tools\":[{\"type\":\"object\",\"name\":\"ToolProxy\",\"id\":\"p3091\",\"attributes\":{\"tools\":[{\"type\":\"object\",\"name\":\"PanTool\",\"id\":\"p2842\",\"attributes\":{\"dimensions\":\"width\"}},{\"type\":\"object\",\"name\":\"PanTool\",\"id\":\"p2939\",\"attributes\":{\"dimensions\":\"width\"}},{\"type\":\"object\",\"name\":\"PanTool\",\"id\":\"p2798\",\"attributes\":{\"dimensions\":\"width\"}},{\"type\":\"object\",\"name\":\"PanTool\",\"id\":\"p2994\",\"attributes\":{\"dimensions\":\"width\"}}]}},{\"type\":\"object\",\"name\":\"ToolProxy\",\"id\":\"p3092\",\"attributes\":{\"tools\":[{\"type\":\"object\",\"name\":\"WheelZoomTool\",\"id\":\"p2843\",\"attributes\":{\"dimensions\":\"width\",\"renderers\":\"auto\",\"maintain_focus\":false}},{\"type\":\"object\",\"name\":\"WheelZoomTool\",\"id\":\"p2940\",\"attributes\":{\"dimensions\":\"width\",\"renderers\":\"auto\",\"maintain_focus\":false}},{\"type\":\"object\",\"name\":\"WheelZoomTool\",\"id\":\"p2799\",\"attributes\":{\"dimensions\":\"width\",\"renderers\":\"auto\",\"maintain_focus\":false}},{\"type\":\"object\",\"name\":\"WheelZoomTool\",\"id\":\"p2995\",\"attributes\":{\"dimensions\":\"width\",\"renderers\":\"auto\",\"maintain_focus\":false}}]}},{\"type\":\"object\",\"name\":\"ToolProxy\",\"id\":\"p3093\",\"attributes\":{\"tools\":[{\"type\":\"object\",\"name\":\"BoxZoomTool\",\"id\":\"p2844\",\"attributes\":{\"overlay\":{\"type\":\"object\",\"name\":\"BoxAnnotation\",\"id\":\"p2845\",\"attributes\":{\"syncable\":false,\"level\":\"overlay\",\"visible\":false,\"left\":{\"type\":\"number\",\"value\":\"nan\"},\"right\":{\"type\":\"number\",\"value\":\"nan\"},\"top\":{\"type\":\"number\",\"value\":\"nan\"},\"bottom\":{\"type\":\"number\",\"value\":\"nan\"},\"left_units\":\"canvas\",\"right_units\":\"canvas\",\"top_units\":\"canvas\",\"bottom_units\":\"canvas\",\"line_color\":\"black\",\"line_alpha\":1.0,\"line_width\":2,\"line_dash\":[4,4],\"fill_color\":\"lightgrey\",\"fill_alpha\":0.5}}}},{\"type\":\"object\",\"name\":\"BoxZoomTool\",\"id\":\"p2941\",\"attributes\":{\"overlay\":{\"type\":\"object\",\"name\":\"BoxAnnotation\",\"id\":\"p2942\",\"attributes\":{\"syncable\":false,\"level\":\"overlay\",\"visible\":false,\"left\":{\"type\":\"number\",\"value\":\"nan\"},\"right\":{\"type\":\"number\",\"value\":\"nan\"},\"top\":{\"type\":\"number\",\"value\":\"nan\"},\"bottom\":{\"type\":\"number\",\"value\":\"nan\"},\"left_units\":\"canvas\",\"right_units\":\"canvas\",\"top_units\":\"canvas\",\"bottom_units\":\"canvas\",\"line_color\":\"black\",\"line_alpha\":1.0,\"line_width\":2,\"line_dash\":[4,4],\"fill_color\":\"lightgrey\",\"fill_alpha\":0.5}}}},{\"type\":\"object\",\"name\":\"BoxZoomTool\",\"id\":\"p2800\",\"attributes\":{\"overlay\":{\"type\":\"object\",\"name\":\"BoxAnnotation\",\"id\":\"p2801\",\"attributes\":{\"syncable\":false,\"level\":\"overlay\",\"visible\":false,\"left\":{\"type\":\"number\",\"value\":\"nan\"},\"right\":{\"type\":\"number\",\"value\":\"nan\"},\"top\":{\"type\":\"number\",\"value\":\"nan\"},\"bottom\":{\"type\":\"number\",\"value\":\"nan\"},\"left_units\":\"canvas\",\"right_units\":\"canvas\",\"top_units\":\"canvas\",\"bottom_units\":\"canvas\",\"line_color\":\"black\",\"line_alpha\":1.0,\"line_width\":2,\"line_dash\":[4,4],\"fill_color\":\"lightgrey\",\"fill_alpha\":0.5}}}},{\"type\":\"object\",\"name\":\"BoxZoomTool\",\"id\":\"p2996\",\"attributes\":{\"overlay\":{\"type\":\"object\",\"name\":\"BoxAnnotation\",\"id\":\"p2997\",\"attributes\":{\"syncable\":false,\"level\":\"overlay\",\"visible\":false,\"left\":{\"type\":\"number\",\"value\":\"nan\"},\"right\":{\"type\":\"number\",\"value\":\"nan\"},\"top\":{\"type\":\"number\",\"value\":\"nan\"},\"bottom\":{\"type\":\"number\",\"value\":\"nan\"},\"left_units\":\"canvas\",\"right_units\":\"canvas\",\"top_units\":\"canvas\",\"bottom_units\":\"canvas\",\"line_color\":\"black\",\"line_alpha\":1.0,\"line_width\":2,\"line_dash\":[4,4],\"fill_color\":\"lightgrey\",\"fill_alpha\":0.5}}}}]}},{\"type\":\"object\",\"name\":\"ToolProxy\",\"id\":\"p3094\",\"attributes\":{\"tools\":[{\"type\":\"object\",\"name\":\"UndoTool\",\"id\":\"p2850\"},{\"type\":\"object\",\"name\":\"UndoTool\",\"id\":\"p2947\"},{\"type\":\"object\",\"name\":\"UndoTool\",\"id\":\"p2806\"},{\"type\":\"object\",\"name\":\"UndoTool\",\"id\":\"p3002\"}]}},{\"type\":\"object\",\"name\":\"ToolProxy\",\"id\":\"p3095\",\"attributes\":{\"tools\":[{\"type\":\"object\",\"name\":\"RedoTool\",\"id\":\"p2851\"},{\"type\":\"object\",\"name\":\"RedoTool\",\"id\":\"p2948\"},{\"type\":\"object\",\"name\":\"RedoTool\",\"id\":\"p2807\"},{\"type\":\"object\",\"name\":\"RedoTool\",\"id\":\"p3003\"}]}},{\"type\":\"object\",\"name\":\"ToolProxy\",\"id\":\"p3096\",\"attributes\":{\"tools\":[{\"type\":\"object\",\"name\":\"ResetTool\",\"id\":\"p2852\"},{\"type\":\"object\",\"name\":\"ResetTool\",\"id\":\"p2949\"},{\"type\":\"object\",\"name\":\"ResetTool\",\"id\":\"p2808\"},{\"type\":\"object\",\"name\":\"ResetTool\",\"id\":\"p3004\"}]}},{\"type\":\"object\",\"name\":\"SaveTool\",\"id\":\"p3097\"},{\"type\":\"object\",\"name\":\"HoverTool\",\"id\":\"p2875\",\"attributes\":{\"renderers\":[{\"type\":\"object\",\"name\":\"GlyphRenderer\",\"id\":\"p2872\",\"attributes\":{\"data_source\":{\"type\":\"object\",\"name\":\"ColumnDataSource\",\"id\":\"p2810\",\"attributes\":{\"selected\":{\"type\":\"object\",\"name\":\"Selection\",\"id\":\"p2811\",\"attributes\":{\"indices\":[],\"line_indices\":[]}},\"selection_policy\":{\"type\":\"object\",\"name\":\"UnionRenderers\",\"id\":\"p2812\"},\"data\":{\"type\":\"map\",\"entries\":[[\"index\",{\"type\":\"ndarray\",\"array\":{\"type\":\"bytes\",\"data\":\"AAAAAAEAAAACAAAAAwAAAAQAAAAFAAAABgAAAAcAAAAIAAAACQAAAAoAAAALAAAADAAAAA0AAAAOAAAADwAAABAAAAARAAAAEgAAABMAAAAUAAAAFQAAABYAAAAXAAAAGAAAABkAAAAaAAAAGwAAABwAAAAdAAAAHgAAAB8AAAAgAAAAIQAAACIAAAAjAAAAJAAAACUAAAAmAAAAJwAAACgAAAApAAAAKgAAACsAAAAsAAAALQAAAC4AAAAvAAAAMAAAADEAAAAyAAAAMwAAADQAAAA1AAAANgAAADcAAAA4AAAAOQAAADoAAAA7AAAAPAAAAD0AAAA+AAAAPwAAAEAAAABBAAAAQgAAAEMAAABEAAAARQAAAEYAAABHAAAASAAAAEkAAABKAAAASwAAAEwAAABNAAAATgAAAE8AAABQAAAAUQAAAFIAAABTAAAAVAAAAFUAAABWAAAAVwAAAFgAAABZAAAAWgAAAFsAAABcAAAAXQAAAF4AAABfAAAAYAAAAGEAAABiAAAAYwAAAGQAAABlAAAAZgAAAGcAAABoAAAAaQAAAGoAAABrAAAAbAAAAG0AAABuAAAAbwAAAHAAAABxAAAAcgAAAHMAAAB0AAAAdQAAAHYAAAB3AAAAeAAAAHkAAAB6AAAAewAAAHwAAAB9AAAAfgAAAH8AAACAAAAAgQAAAIIAAACDAAAAhAAAAIUAAACGAAAAhwAAAIgAAACJAAAAigAAAIsAAACMAAAAjQAAAI4AAACPAAAAkAAAAJEAAACSAAAAkwAAAJQAAACVAAAAlgAAAJcAAACYAAAAmQAAAJoAAACbAAAAnAAAAJ0AAACeAAAAnwAAAKAAAAChAAAAogAAAKMAAACkAAAApQAAAKYAAACnAAAAqAAAAKkAAACqAAAAqwAAAKwAAACtAAAArgAAAK8AAACwAAAAsQAAALIAAACzAAAAtAAAALUAAAC2AAAAtwAAALgAAAC5AAAAugAAALsAAAC8AAAAvQAAAL4AAAC/AAAAwAAAAMEAAADCAAAAwwAAAMQAAADFAAAAxgAAAMcAAADIAAAAyQAAAMoAAADLAAAAzAAAAM0AAADOAAAAzwAAANAAAADRAAAA0gAAANMAAADUAAAA1QAAANYAAADXAAAA2AAAANkAAADaAAAA2wAAANwAAADdAAAA3gAAAN8AAADgAAAA4QAAAOIAAADjAAAA5AAAAOUAAADmAAAA5wAAAOgAAADpAAAA6gAAAOsAAADsAAAA7QAAAO4AAADvAAAA8AAAAPEAAADyAAAA8wAAAPQAAAD1AAAA9gAAAPcAAAD4AAAA+QAAAPoAAAD7AAAA/AAAAP0AAAD+AAAA/wAAAAABAAABAQAAAgEAAAMBAAAEAQAABQEAAAYBAAAHAQAACAEAAAkBAAAKAQAACwEAAAwBAAANAQAADgEAAA8BAAAQAQAAEQEAABIBAAATAQAAFAEAABUBAAAWAQAAFwEAABgBAAAZAQAAGgEAABsBAAAcAQAAHQEAAB4BAAAfAQAAIAEAACEBAAAiAQAAIwEAACQBAAAlAQAAJgEAACcBAAAoAQAAKQEAACoBAAArAQAALAEAAC0BAAAuAQAALwEAADABAAAxAQAAMgEAADMBAAA0AQAANQEAADYBAAA3AQAAOAEAADkBAAA6AQAAOwEAADwBAAA=\"},\"shape\":[317],\"dtype\":\"int32\",\"order\":\"little\"}],[\"Open\",{\"type\":\"ndarray\",\"array\":{\"type\":\"bytes\",\"data\":\"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\"},\"shape\":[317],\"dtype\":\"float64\",\"order\":\"little\"}],[\"High\",{\"type\":\"ndarray\",\"array\":{\"type\":\"bytes\",\"data\":\"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\"},\"shape\":[317],\"dtype\":\"float64\",\"order\":\"little\"}],[\"Low\",{\"type\":\"ndarray\",\"array\":{\"type\":\"bytes\",\"data\":\"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\"},\"shape\":[317],\"dtype\":\"float64\",\"order\":\"little\"}],[\"Close\",{\"type\":\"ndarray\",\"array\":{\"type\":\"bytes\",\"data\":\"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\"},\"shape\":[317],\"dtype\":\"float64\",\"order\":\"little\"}],[\"Volume\",{\"type\":\"ndarray\",\"array\":{\"type\":\"bytes\",\"data\":\"MO3KDYiEwAr8rWoJ/NUqDeCAVwuEBf4J8Lr0CkTaGAp0esUKyGkdCyzYqQu8ciYKdM5GCGBaGwxcjnUJXOR8C3z+/g2IM0YSUO7CDbwiuwvcbL4MbP/1DPAj3g1EARkLvEoWC0DcxAroONcMtEw0DGzERwoU2uYMQPDJCkQ2rw0EZL0MqN26ChQSbwvARrkIhDp6CMwYmQlEziAJQGJZCRx70QqUzTAJBKeiB2g41AjIxg0JeFsiCoTjaQvcRgAKDPaQCFC3swigZjgHLG3wB7DTugcokSQJ0I/2CGw5mAhQye4GkAw0B4hZ4QXg5l4HqFCSBhRiJQqsEBsKOK+JB4Ti+gfs62EHaBt5CBSG5gasuvQIiDi7BqyJvwW4H/QGuNR8BVyHfgewKJMMOA5dB8hUWAjEj0UHhCYkCSAZkgdYcU0H2G9/BnQWpQeA5yIHlD2rBQRrZwY4yrAGiH9NBbyfJAfsOzEGjG9kCbQ2SwagxNsFQJN6B6wlhwaIkBsIeC7eByTmWgnsrzMILCHGBbzcqAkMnq0HlK37CMzB0gjoaMgJvEICCXCxwQjQuBEL5OnNCTz26Qts+fUIrMmtCYzGKgrABIwJtNH8CcAG3wlsxJ8M/FLyCaR1hgpIcLoKCDfVCbDohQnIOdMHUBGxBgxDIgeUANcHRB8sB9BtxQZ4SR4HMGN7BSTXswUcYrcG3I8jB8CX1wcMnrMGyCt8CBy0cAr0bZkJVPQiCDSKuAZIprYFlEsuBvCHpAY4nwoFMAP1BESgEAZMydAFaFLqBSw4nwaYpMIFjDwOBujQhgaoleQF5HHgBeDJQQWUYLQGQAQyB0RaGAisqBYIDMTIB2BSBgZ4e/IF6MVaBmT4agZwZ/0HMGVFBwQZfQZ0UeIHoIy3Bziq+AYEid8G1CUOB3w4aQqcMRsIZAGoBmiFawbQ3vMHhG0NBsBlLgaobE0H+OUfBwTdmQe4oDwGgEwUBtBOJAhULfoGWGimB2AyYQcULBQGAGW7B6A5Ggd4ugcHbOcKBgCVTwe8bi4GhHqlBsiFFQbQxEwFFKiTBZiadQfcyC0KcKc1CAg/+wg8EAwHDK9hBph63AawxacFyAgiCEyUCQcEaUAHEGuCB2gVHAf4Zv4GBMH3BuBaWgYkb3gIUM/OB3APXwhQVe0IUDj2CKCoJwjA4H4IZOfuBoD3SQeIyAcHULvhAzh4rQYMsdoIVA8SCLCM4wf89TgH2G80BpxFOQhoQ4kHnNxiBgRaIwYsDNYFLJiuBdwmuAgQD5YJYO8WCPRf8Ab4rlwGKNR0B1hGiAYI4Y4FcN8tBcD5WAa8s8UGhET/BXjlPAbokjcHtP8dBgiZgQUIihMFpJzDBdQjdgXAgE8GKCNTB3gt4AbwKSYGyAh5BrjbFQb0zwcHTK1aBqx5WgeAac4LYO1lBmyMcwdcMo4GmAgnBuRqeQWMLJYGgCsBCCDjTwdg5KUGkP/yBIwBCQVoMbEFTNgrBTgP1wQ4vzMH4F+gBgg+OwagiDAGrBeHBSwIswQcIKkGGMx5Bvjr8gU41h4FALzkBLTJAQgA4SEHBL5uBmhdFgbkzhUFjPgWBdR9NQVUb1kGxJOHB3ysxwWAOHMGaBGbBCxm/wSQm1wE7Fh/BHijbASYFb8G4DrgBBDroAT0idwEaPLzBtS38QSQTVcHjFBrCIRfOQY=\"},\"shape\":[317],\"dtype\":\"int32\",\"order\":\"little\"}],[\"datetime\",{\"type\":\"ndarray\",\"array\":{\"type\":\"bytes\",\"data\":\"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\"},\"shape\":[317],\"dtype\":\"float64\",\"order\":\"little\"}],[\"inc\",{\"type\":\"ndarray\",\"array\":[\"0\",\"1\",\"0\",\"1\",\"1\",\"0\",\"1\",\"1\",\"1\",\"1\",\"0\",\"0\",\"1\",\"1\",\"1\",\"1\",\"1\",\"1\",\"0\",\"1\",\"1\",\"1\",\"1\",\"1\",\"1\",\"1\",\"0\",\"0\",\"1\",\"1\",\"1\",\"0\",\"1\",\"0\",\"1\",\"0\",\"1\",\"1\",\"0\",\"0\",\"1\",\"1\",\"0\",\"0\",\"0\",\"0\",\"0\",\"1\",\"1\",\"0\",\"1\",\"0\",\"1\",\"1\",\"0\",\"0\",\"0\",\"0\",\"0\",\"1\",\"0\",\"1\",\"0\",\"0\",\"0\",\"1\",\"1\",\"1\",\"0\",\"1\",\"1\",\"1\",\"0\",\"1\",\"0\",\"1\",\"0\",\"1\",\"0\",\"1\",\"1\",\"0\",\"0\",\"1\",\"0\",\"1\",\"0\",\"1\",\"0\",\"1\",\"0\",\"0\",\"1\",\"1\",\"1\",\"1\",\"1\",\"0\",\"1\",\"0\",\"1\",\"1\",\"1\",\"1\",\"1\",\"0\",\"1\",\"0\",\"1\",\"0\",\"1\",\"1\",\"0\",\"1\",\"1\",\"1\",\"0\",\"1\",\"0\",\"0\",\"1\",\"1\",\"0\",\"1\",\"1\",\"1\",\"0\",\"0\",\"0\",\"1\",\"0\",\"1\",\"1\",\"1\",\"1\",\"0\",\"0\",\"0\",\"1\",\"0\",\"1\",\"0\",\"1\",\"0\",\"0\",\"0\",\"1\",\"0\",\"1\",\"1\",\"0\",\"0\",\"1\",\"1\",\"0\",\"0\",\"0\",\"1\",\"1\",\"0\",\"1\",\"0\",\"1\",\"0\",\"1\",\"1\",\"1\",\"0\",\"1\",\"0\",\"1\",\"0\",\"1\",\"0\",\"1\",\"1\",\"0\",\"0\",\"1\",\"0\",\"0\",\"0\",\"1\",\"1\",\"0\",\"1\",\"1\",\"1\",\"0\",\"1\",\"1\",\"1\",\"1\",\"1\",\"0\",\"0\",\"0\",\"1\",\"1\",\"0\",\"0\",\"0\",\"1\",\"1\",\"0\",\"0\",\"0\",\"0\",\"1\",\"1\",\"1\",\"0\",\"0\",\"1\",\"0\",\"0\",\"1\",\"1\",\"1\",\"1\",\"0\",\"1\",\"1\",\"1\",\"0\",\"1\",\"0\",\"1\",\"0\",\"0\",\"1\",\"0\",\"1\",\"0\",\"1\",\"1\",\"0\",\"0\",\"1\",\"1\",\"1\",\"0\",\"1\",\"0\",\"1\",\"0\",\"1\",\"1\",\"0\",\"0\",\"0\",\"0\",\"0\",\"1\",\"1\",\"0\",\"0\",\"0\",\"0\",\"1\",\"1\",\"0\",\"1\",\"0\",\"0\",\"0\",\"0\",\"0\",\"1\",\"0\",\"1\",\"1\",\"1\",\"0\",\"1\",\"0\",\"1\",\"1\",\"0\",\"1\",\"1\",\"1\",\"0\",\"0\",\"1\",\"1\",\"0\",\"1\",\"0\",\"1\",\"0\",\"1\",\"0\",\"0\",\"0\",\"1\",\"0\",\"1\",\"0\",\"0\",\"0\",\"1\",\"1\",\"0\",\"1\",\"0\",\"1\",\"1\",\"0\",\"0\",\"0\",\"0\",\"1\",\"1\",\"1\",\"0\",\"1\"],\"shape\":[317],\"dtype\":\"object\",\"order\":\"little\"}],[\"equity\",{\"type\":\"ndarray\",\"array\":{\"type\":\"bytes\",\"data\":\"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\"},\"shape\":[317],\"dtype\":\"float64\",\"order\":\"little\"}],[\"SMA(C,4)_0_1\",{\"type\":\"ndarray\",\"array\":{\"type\":\"bytes\",\"data\":\"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\"},\"shape\":[317],\"dtype\":\"float64\",\"order\":\"little\"}],[\"SMA(C,8)_1_1\",{\"type\":\"ndarray\",\"array\":{\"type\":\"bytes\",\"data\":\"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\"},\"shape\":[317],\"dtype\":\"float64\",\"order\":\"little\"}],[\"ohlc_low\",{\"type\":\"ndarray\",\"array\":{\"type\":\"bytes\",\"data\":\"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\"},\"shape\":[317],\"dtype\":\"float64\",\"order\":\"little\"}],[\"ohlc_high\",{\"type\":\"ndarray\",\"array\":{\"type\":\"bytes\",\"data\":\"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\"},\"shape\":[317],\"dtype\":\"float64\",\"order\":\"little\"}]]}}},\"view\":{\"type\":\"object\",\"name\":\"CDSView\",\"id\":\"p2873\",\"attributes\":{\"filter\":{\"type\":\"object\",\"name\":\"AllIndices\",\"id\":\"p2874\"}}},\"glyph\":{\"type\":\"object\",\"name\":\"Line\",\"id\":\"p2869\",\"attributes\":{\"x\":{\"type\":\"field\",\"field\":\"index\"},\"y\":{\"type\":\"field\",\"field\":\"equity\"},\"line_color\":\"#1f77b4\",\"line_width\":1.5}},\"nonselection_glyph\":{\"type\":\"object\",\"name\":\"Line\",\"id\":\"p2870\",\"attributes\":{\"x\":{\"type\":\"field\",\"field\":\"index\"},\"y\":{\"type\":\"field\",\"field\":\"equity\"},\"line_color\":\"#1f77b4\",\"line_alpha\":0.1,\"line_width\":1.5}},\"muted_glyph\":{\"type\":\"object\",\"name\":\"Line\",\"id\":\"p2871\",\"attributes\":{\"x\":{\"type\":\"field\",\"field\":\"index\"},\"y\":{\"type\":\"field\",\"field\":\"equity\"},\"line_color\":\"#1f77b4\",\"line_alpha\":0.2,\"line_width\":1.5}}}}],\"tooltips\":[[\"Date\",\"@datetime{%c}\"],[\"Equity\",\"@equity{+0,0.[000]%}\"]],\"formatters\":{\"type\":\"map\",\"entries\":[[\"@datetime\",\"datetime\"]]},\"mode\":\"vline\",\"point_policy\":\"follow_mouse\"}},{\"type\":\"object\",\"name\":\"HoverTool\",\"id\":\"p2970\",\"attributes\":{\"renderers\":[{\"type\":\"object\",\"name\":\"GlyphRenderer\",\"id\":\"p2958\",\"attributes\":{\"data_source\":{\"type\":\"object\",\"name\":\"ColumnDataSource\",\"id\":\"p2813\",\"attributes\":{\"selected\":{\"type\":\"object\",\"name\":\"Selection\",\"id\":\"p2814\",\"attributes\":{\"indices\":[],\"line_indices\":[]}},\"selection_policy\":{\"type\":\"object\",\"name\":\"UnionRenderers\",\"id\":\"p2815\"},\"data\":{\"type\":\"map\",\"entries\":[[\"index\",{\"type\":\"ndarray\",\"array\":{\"type\":\"bytes\",\"data\":\"KwAAAEQAAABOAAAAXgAAAH8AAADIAAAA7QAAAPoAAAAjAQAA\"},\"shape\":[9],\"dtype\":\"int32\",\"order\":\"little\"}],[\"datetime\",{\"type\":\"ndarray\",\"array\":{\"type\":\"bytes\",\"data\":\"AABA4pVreEIAAEAxLHd4QgAAwMGte3hCAABAgMKCeEIAAMBf2pJ4QgAAwLVTtHhCAABALLXFeEIAAACFd8x4QgAAQPh033hC\"},\"shape\":[9],\"dtype\":\"float64\",\"order\":\"little\"}],[\"exit_price\",{\"type\":\"ndarray\",\"array\":{\"type\":\"bytes\",\"data\":\"AAAAACnsZ0ABAAAgrtdnQAAAAKBHCWRAAAAAQArHZUAAAABA4WZxQAAAAGBmPmxAAAAAoJnRbUAAAABgj0JvQP///9+jEGlA\"},\"shape\":[9],\"dtype\":\"float64\",\"order\":\"little\"}],[\"size\",{\"type\":\"ndarray\",\"array\":{\"type\":\"bytes\",\"data\":\"Cf7//8H9//+2/f//qv3//2ABAAB4/v//ugEAAGj+///h/f//\"},\"shape\":[9],\"dtype\":\"int32\",\"order\":\"little\"}],[\"returns_positive\",{\"type\":\"ndarray\",\"array\":[\"1\",\"0\",\"1\",\"0\",\"1\",\"1\",\"0\",\"1\",\"0\"],\"shape\":[9],\"dtype\":\"object\",\"order\":\"little\"}],[\"returns_long\",{\"type\":\"ndarray\",\"array\":{\"type\":\"bytes\",\"data\":\"AAAAAAAA+H8AAAAAAAD4fwAAAAAAAPh/AAAAAAAA+H8A241/X718PwAAAAAAAPh/oCWErvCskb8AAAAAAAD4fwAAAAAAAPh/\"},\"shape\":[9],\"dtype\":\"float64\",\"order\":\"little\"}],[\"returns_short\",{\"type\":\"ndarray\",\"array\":{\"type\":\"bytes\",\"data\":\"YDTfWOB2oj8gpS/G8bquv5BGD6ELHqI/gDiSgN6pob8AAAAAAAD4f8ggtZxorLg/AAAAAAAA+H9Q/k0EumOgPwAQkxnFWUC/\"},\"shape\":[9],\"dtype\":\"float64\",\"order\":\"little\"}],[\"marker_size\",{\"type\":\"ndarray\",\"array\":{\"type\":\"bytes\",\"data\":\"vBK1K1G7LkDhfAzOx+AyQGpXonYlajNAAAAAAAAANEAAAAAAAAAgQOdjcD4G5yNAyOB8DM7HKEB3JWpXonYlQFK7ErUrUTFA\"},\"shape\":[9],\"dtype\":\"float64\",\"order\":\"little\"}],[\"position_lines_xs\",[[42,43],[66,68],[74,78],[93,94],[124,127],[197,200],[236,237],[247,250],[289,291]]],[\"position_lines_ys\",[[198.5399932861328,191.3800048828125],[179.94000244140625,190.7400054931641],[166.1699981689453,160.2899932861328],[168.41000366210938,174.22000122070312],[276.489990234375,278.42999267578125],[250.0500030517578,225.9499969482422],[242.7400054931641,238.5500030517578],[258.3500061035156,250.0800018310547],[200.4199981689453,200.5200042724609]]]]}}},\"view\":{\"type\":\"object\",\"name\":\"CDSView\",\"id\":\"p2959\",\"attributes\":{\"filter\":{\"type\":\"object\",\"name\":\"AllIndices\",\"id\":\"p2960\"}}},\"glyph\":{\"type\":\"object\",\"name\":\"Scatter\",\"id\":\"p2955\",\"attributes\":{\"x\":{\"type\":\"field\",\"field\":\"index\"},\"y\":{\"type\":\"field\",\"field\":\"returns_long\"},\"size\":{\"type\":\"field\",\"field\":\"marker_size\"},\"fill_color\":{\"type\":\"field\",\"field\":\"returns_positive\",\"transform\":{\"type\":\"object\",\"name\":\"CategoricalColorMapper\",\"id\":\"p2817\",\"attributes\":{\"palette\":[\"tomato\",\"lime\"],\"factors\":[\"0\",\"1\"]}}},\"marker\":{\"type\":\"value\",\"value\":\"triangle\"}}},\"nonselection_glyph\":{\"type\":\"object\",\"name\":\"Scatter\",\"id\":\"p2956\",\"attributes\":{\"x\":{\"type\":\"field\",\"field\":\"index\"},\"y\":{\"type\":\"field\",\"field\":\"returns_long\"},\"size\":{\"type\":\"field\",\"field\":\"marker_size\"},\"line_alpha\":{\"type\":\"value\",\"value\":0.1},\"fill_color\":{\"type\":\"field\",\"field\":\"returns_positive\",\"transform\":{\"id\":\"p2817\"}},\"fill_alpha\":{\"type\":\"value\",\"value\":0.1},\"hatch_alpha\":{\"type\":\"value\",\"value\":0.1},\"marker\":{\"type\":\"value\",\"value\":\"triangle\"}}},\"muted_glyph\":{\"type\":\"object\",\"name\":\"Scatter\",\"id\":\"p2957\",\"attributes\":{\"x\":{\"type\":\"field\",\"field\":\"index\"},\"y\":{\"type\":\"field\",\"field\":\"returns_long\"},\"size\":{\"type\":\"field\",\"field\":\"marker_size\"},\"line_alpha\":{\"type\":\"value\",\"value\":0.2},\"fill_color\":{\"type\":\"field\",\"field\":\"returns_positive\",\"transform\":{\"id\":\"p2817\"}},\"fill_alpha\":{\"type\":\"value\",\"value\":0.2},\"hatch_alpha\":{\"type\":\"value\",\"value\":0.2},\"marker\":{\"type\":\"value\",\"value\":\"triangle\"}}}}}],\"tooltips\":[[\"Date\",\"@datetime{%c}\"],[\"Size\",\"@size{0,0}\"],[\"P/L\",\"@returns_long{+0.[000]%}\"]],\"formatters\":{\"type\":\"map\",\"entries\":[[\"@datetime\",\"datetime\"]]},\"point_policy\":\"follow_mouse\"}},{\"type\":\"object\",\"name\":\"HoverTool\",\"id\":\"p2971\",\"attributes\":{\"renderers\":[{\"type\":\"object\",\"name\":\"GlyphRenderer\",\"id\":\"p2967\",\"attributes\":{\"data_source\":{\"id\":\"p2813\"},\"view\":{\"type\":\"object\",\"name\":\"CDSView\",\"id\":\"p2968\",\"attributes\":{\"filter\":{\"type\":\"object\",\"name\":\"AllIndices\",\"id\":\"p2969\"}}},\"glyph\":{\"type\":\"object\",\"name\":\"Scatter\",\"id\":\"p2964\",\"attributes\":{\"x\":{\"type\":\"field\",\"field\":\"index\"},\"y\":{\"type\":\"field\",\"field\":\"returns_short\"},\"size\":{\"type\":\"field\",\"field\":\"marker_size\"},\"fill_color\":{\"type\":\"field\",\"field\":\"returns_positive\",\"transform\":{\"id\":\"p2817\"}},\"marker\":{\"type\":\"value\",\"value\":\"inverted_triangle\"}}},\"nonselection_glyph\":{\"type\":\"object\",\"name\":\"Scatter\",\"id\":\"p2965\",\"attributes\":{\"x\":{\"type\":\"field\",\"field\":\"index\"},\"y\":{\"type\":\"field\",\"field\":\"returns_short\"},\"size\":{\"type\":\"field\",\"field\":\"marker_size\"},\"line_alpha\":{\"type\":\"value\",\"value\":0.1},\"fill_color\":{\"type\":\"field\",\"field\":\"returns_positive\",\"transform\":{\"id\":\"p2817\"}},\"fill_alpha\":{\"type\":\"value\",\"value\":0.1},\"hatch_alpha\":{\"type\":\"value\",\"value\":0.1},\"marker\":{\"type\":\"value\",\"value\":\"inverted_triangle\"}}},\"muted_glyph\":{\"type\":\"object\",\"name\":\"Scatter\",\"id\":\"p2966\",\"attributes\":{\"x\":{\"type\":\"field\",\"field\":\"index\"},\"y\":{\"type\":\"field\",\"field\":\"returns_short\"},\"size\":{\"type\":\"field\",\"field\":\"marker_size\"},\"line_alpha\":{\"type\":\"value\",\"value\":0.2},\"fill_color\":{\"type\":\"field\",\"field\":\"returns_positive\",\"transform\":{\"id\":\"p2817\"}},\"fill_alpha\":{\"type\":\"value\",\"value\":0.2},\"hatch_alpha\":{\"type\":\"value\",\"value\":0.2},\"marker\":{\"type\":\"value\",\"value\":\"inverted_triangle\"}}}}}],\"tooltips\":[[\"Date\",\"@datetime{%c}\"],[\"Size\",\"@size{0,0}\"],[\"P/L\",\"@returns_short{+0.[000]%}\"]],\"formatters\":{\"type\":\"map\",\"entries\":[[\"@datetime\",\"datetime\"]]},\"point_policy\":\"follow_mouse\"}},{\"type\":\"object\",\"name\":\"HoverTool\",\"id\":\"p3088\",\"attributes\":{\"renderers\":[{\"type\":\"object\",\"name\":\"GlyphRenderer\",\"id\":\"p3054\",\"attributes\":{\"data_source\":{\"id\":\"p2810\"},\"view\":{\"type\":\"object\",\"name\":\"CDSView\",\"id\":\"p3055\",\"attributes\":{\"filter\":{\"type\":\"object\",\"name\":\"AllIndices\",\"id\":\"p3056\"}}},\"glyph\":{\"type\":\"object\",\"name\":\"VBar\",\"id\":\"p3051\",\"attributes\":{\"x\":{\"type\":\"field\",\"field\":\"index\"},\"width\":{\"type\":\"value\",\"value\":0.8},\"bottom\":{\"type\":\"field\",\"field\":\"Close\"},\"top\":{\"type\":\"field\",\"field\":\"Open\"},\"fill_color\":{\"type\":\"field\",\"field\":\"inc\",\"transform\":{\"type\":\"object\",\"name\":\"CategoricalColorMapper\",\"id\":\"p2816\",\"attributes\":{\"palette\":[\"tomato\",\"lime\"],\"factors\":[\"0\",\"1\"]}}}}},\"nonselection_glyph\":{\"type\":\"object\",\"name\":\"VBar\",\"id\":\"p3052\",\"attributes\":{\"x\":{\"type\":\"field\",\"field\":\"index\"},\"width\":{\"type\":\"value\",\"value\":0.8},\"bottom\":{\"type\":\"field\",\"field\":\"Close\"},\"top\":{\"type\":\"field\",\"field\":\"Open\"},\"line_alpha\":{\"type\":\"value\",\"value\":0.1},\"fill_color\":{\"type\":\"field\",\"field\":\"inc\",\"transform\":{\"id\":\"p2816\"}},\"fill_alpha\":{\"type\":\"value\",\"value\":0.1},\"hatch_alpha\":{\"type\":\"value\",\"value\":0.1}}},\"muted_glyph\":{\"type\":\"object\",\"name\":\"VBar\",\"id\":\"p3053\",\"attributes\":{\"x\":{\"type\":\"field\",\"field\":\"index\"},\"width\":{\"type\":\"value\",\"value\":0.8},\"bottom\":{\"type\":\"field\",\"field\":\"Close\"},\"top\":{\"type\":\"field\",\"field\":\"Open\"},\"line_alpha\":{\"type\":\"value\",\"value\":0.2},\"fill_color\":{\"type\":\"field\",\"field\":\"inc\",\"transform\":{\"id\":\"p2816\"}},\"fill_alpha\":{\"type\":\"value\",\"value\":0.2},\"hatch_alpha\":{\"type\":\"value\",\"value\":0.2}}}}}],\"tooltips\":[[\"Date\",\"@datetime{%c}\"],[\"x, y\",\"$index\\u00a0\\u00a0\\u00a0\\u00a0$y{0,0.0[0000]}\"],[\"OHLC\",\"@Open{0,0.0[0000]}\\u00a0\\u00a0\\u00a0\\u00a0@High{0,0.0[0000]}\\u00a0\\u00a0\\u00a0\\u00a0@Low{0,0.0[0000]}\\u00a0\\u00a0\\u00a0\\u00a0@Close{0,0.0[0000]}\"],[\"Volume\",\"@Volume{0,0}\"],[\"SMA(C,4)\",\"@{SMA(C,4)_0_1}{0,0.0[0000]}\"],[\"SMA(C,8)\",\"@{SMA(C,8)_1_1}{0,0.0[0000]}\"]],\"formatters\":{\"type\":\"map\",\"entries\":[[\"@datetime\",\"datetime\"]]},\"mode\":\"vline\",\"point_policy\":\"follow_mouse\"}},{\"type\":\"object\",\"name\":\"HoverTool\",\"id\":\"p3015\",\"attributes\":{\"renderers\":[{\"type\":\"object\",\"name\":\"GlyphRenderer\",\"id\":\"p3012\",\"attributes\":{\"data_source\":{\"id\":\"p2810\"},\"view\":{\"type\":\"object\",\"name\":\"CDSView\",\"id\":\"p3013\",\"attributes\":{\"filter\":{\"type\":\"object\",\"name\":\"AllIndices\",\"id\":\"p3014\"}}},\"glyph\":{\"type\":\"object\",\"name\":\"VBar\",\"id\":\"p3009\",\"attributes\":{\"x\":{\"type\":\"field\",\"field\":\"index\"},\"width\":{\"type\":\"value\",\"value\":0.8},\"top\":{\"type\":\"field\",\"field\":\"Volume\"},\"line_color\":{\"type\":\"field\",\"field\":\"inc\",\"transform\":{\"id\":\"p2816\"}},\"fill_color\":{\"type\":\"field\",\"field\":\"inc\",\"transform\":{\"id\":\"p2816\"}},\"hatch_color\":{\"type\":\"field\",\"field\":\"inc\",\"transform\":{\"id\":\"p2816\"}}}},\"nonselection_glyph\":{\"type\":\"object\",\"name\":\"VBar\",\"id\":\"p3010\",\"attributes\":{\"x\":{\"type\":\"field\",\"field\":\"index\"},\"width\":{\"type\":\"value\",\"value\":0.8},\"top\":{\"type\":\"field\",\"field\":\"Volume\"},\"line_color\":{\"type\":\"field\",\"field\":\"inc\",\"transform\":{\"id\":\"p2816\"}},\"line_alpha\":{\"type\":\"value\",\"value\":0.1},\"fill_color\":{\"type\":\"field\",\"field\":\"inc\",\"transform\":{\"id\":\"p2816\"}},\"fill_alpha\":{\"type\":\"value\",\"value\":0.1},\"hatch_color\":{\"type\":\"field\",\"field\":\"inc\",\"transform\":{\"id\":\"p2816\"}},\"hatch_alpha\":{\"type\":\"value\",\"value\":0.1}}},\"muted_glyph\":{\"type\":\"object\",\"name\":\"VBar\",\"id\":\"p3011\",\"attributes\":{\"x\":{\"type\":\"field\",\"field\":\"index\"},\"width\":{\"type\":\"value\",\"value\":0.8},\"top\":{\"type\":\"field\",\"field\":\"Volume\"},\"line_color\":{\"type\":\"field\",\"field\":\"inc\",\"transform\":{\"id\":\"p2816\"}},\"line_alpha\":{\"type\":\"value\",\"value\":0.2},\"fill_color\":{\"type\":\"field\",\"field\":\"inc\",\"transform\":{\"id\":\"p2816\"}},\"fill_alpha\":{\"type\":\"value\",\"value\":0.2},\"hatch_color\":{\"type\":\"field\",\"field\":\"inc\",\"transform\":{\"id\":\"p2816\"}},\"hatch_alpha\":{\"type\":\"value\",\"value\":0.2}}}}}],\"tooltips\":[[\"Date\",\"@datetime{%c}\"],[\"Volume\",\"@Volume{0.00 a}\"]],\"formatters\":{\"type\":\"map\",\"entries\":[[\"@datetime\",\"datetime\"]]},\"mode\":\"vline\",\"point_policy\":\"follow_mouse\"}},{\"type\":\"object\",\"name\":\"ToolProxy\",\"id\":\"p3098\",\"attributes\":{\"tools\":[{\"type\":\"object\",\"name\":\"CrosshairTool\",\"id\":\"p3090\"},{\"id\":\"p3090\"},{\"id\":\"p3090\"},{\"id\":\"p3090\"}]}}],\"active_drag\":{\"id\":\"p2994\"},\"active_scroll\":{\"id\":\"p2995\"}}},\"toolbar_location\":\"right\",\"children\":[[{\"type\":\"object\",\"name\":\"Figure\",\"id\":\"p2821\",\"attributes\":{\"width\":null,\"height\":110,\"sizing_mode\":\"stretch_width\",\"x_range\":{\"type\":\"object\",\"name\":\"Range1d\",\"id\":\"p2776\",\"attributes\":{\"js_property_callbacks\":{\"type\":\"map\",\"entries\":[[\"change:end\",[{\"type\":\"object\",\"name\":\"CustomJS\",\"id\":\"p3089\",\"attributes\":{\"args\":{\"type\":\"map\",\"entries\":[[\"ohlc_range\",{\"type\":\"object\",\"name\":\"DataRange1d\",\"id\":\"p2779\"}],[\"source\",{\"id\":\"p2810\"}],[\"volume_range\",{\"type\":\"object\",\"name\":\"DataRange1d\",\"id\":\"p2975\"}]]},\"code\":\"if (!window._bt_scale_range) {\\n    window._bt_scale_range = function (range, min, max, pad) {\\n        \\\"use strict\\\";\\n        if (min !== Infinity && max !== -Infinity) {\\n            pad = pad ? (max - min) * .03 : 0;\\n            range.start = min - pad;\\n            range.end = max + pad;\\n        } else console.error('backtesting: scale range error:', min, max, range);\\n    };\\n}\\n\\nclearTimeout(window._bt_autoscale_timeout);\\n\\nwindow._bt_autoscale_timeout = setTimeout(function () {\\n    /**\\n     * @variable cb_obj `fig_ohlc.x_range`.\\n     * @variable source `ColumnDataSource`\\n     * @variable ohlc_range `fig_ohlc.y_range`.\\n     * @variable volume_range `fig_volume.y_range`.\\n     */\\n    \\\"use strict\\\";\\n\\n    let i = Math.max(Math.floor(cb_obj.start), 0),\\n        j = Math.min(Math.ceil(cb_obj.end), source.data['ohlc_high'].length);\\n\\n    let max = Math.max.apply(null, source.data['ohlc_high'].slice(i, j)),\\n        min = Math.min.apply(null, source.data['ohlc_low'].slice(i, j));\\n    _bt_scale_range(ohlc_range, min, max, true);\\n\\n    if (volume_range) {\\n        max = Math.max.apply(null, source.data['Volume'].slice(i, j));\\n        _bt_scale_range(volume_range, 0, max * 1.03, false);\\n    }\\n\\n}, 50);\\n\"}}]]]},\"end\":316,\"bounds\":[-15.8,331.8],\"min_interval\":10}},\"y_range\":{\"type\":\"object\",\"name\":\"DataRange1d\",\"id\":\"p2823\"},\"x_scale\":{\"type\":\"object\",\"name\":\"LinearScale\",\"id\":\"p2830\"},\"y_scale\":{\"type\":\"object\",\"name\":\"LinearScale\",\"id\":\"p2831\"},\"title\":{\"type\":\"object\",\"name\":\"Title\",\"id\":\"p2828\"},\"outline_line_color\":\"#666666\",\"renderers\":[{\"type\":\"object\",\"name\":\"GlyphRenderer\",\"id\":\"p2863\",\"attributes\":{\"data_source\":{\"type\":\"object\",\"name\":\"ColumnDataSource\",\"id\":\"p2854\",\"attributes\":{\"selected\":{\"type\":\"object\",\"name\":\"Selection\",\"id\":\"p2855\",\"attributes\":{\"indices\":[],\"line_indices\":[]}},\"selection_policy\":{\"type\":\"object\",\"name\":\"UnionRenderers\",\"id\":\"p2856\"},\"data\":{\"type\":\"map\",\"entries\":[[\"index\",{\"type\":\"ndarray\",\"array\":{\"type\":\"bytes\",\"data\":\"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\"},\"shape\":[634],\"dtype\":\"int32\",\"order\":\"little\"}],[\"equity_dd\",{\"type\":\"ndarray\",\"array\":{\"type\":\"bytes\",\"data\":\"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\"},\"shape\":[634],\"dtype\":\"float64\",\"order\":\"little\"}]]}}},\"view\":{\"type\":\"object\",\"name\":\"CDSView\",\"id\":\"p2864\",\"attributes\":{\"filter\":{\"type\":\"object\",\"name\":\"AllIndices\",\"id\":\"p2865\"}}},\"glyph\":{\"type\":\"object\",\"name\":\"Patch\",\"id\":\"p2860\",\"attributes\":{\"x\":{\"type\":\"field\",\"field\":\"index\"},\"y\":{\"type\":\"field\",\"field\":\"equity_dd\"},\"line_color\":\"#ffcb66\",\"fill_color\":\"#ffffea\"}},\"nonselection_glyph\":{\"type\":\"object\",\"name\":\"Patch\",\"id\":\"p2861\",\"attributes\":{\"x\":{\"type\":\"field\",\"field\":\"index\"},\"y\":{\"type\":\"field\",\"field\":\"equity_dd\"},\"line_color\":\"#ffcb66\",\"line_alpha\":0.1,\"fill_color\":\"#ffffea\",\"fill_alpha\":0.1,\"hatch_alpha\":0.1}},\"muted_glyph\":{\"type\":\"object\",\"name\":\"Patch\",\"id\":\"p2862\",\"attributes\":{\"x\":{\"type\":\"field\",\"field\":\"index\"},\"y\":{\"type\":\"field\",\"field\":\"equity_dd\"},\"line_color\":\"#ffcb66\",\"line_alpha\":0.2,\"fill_color\":\"#ffffea\",\"fill_alpha\":0.2,\"hatch_alpha\":0.2}}}},{\"id\":\"p2872\"},{\"type\":\"object\",\"name\":\"GlyphRenderer\",\"id\":\"p2883\",\"attributes\":{\"data_source\":{\"type\":\"object\",\"name\":\"ColumnDataSource\",\"id\":\"p2877\",\"attributes\":{\"selected\":{\"type\":\"object\",\"name\":\"Selection\",\"id\":\"p2878\",\"attributes\":{\"indices\":[],\"line_indices\":[]}},\"selection_policy\":{\"type\":\"object\",\"name\":\"UnionRenderers\",\"id\":\"p2879\"},\"data\":{\"type\":\"map\"}}},\"view\":{\"type\":\"object\",\"name\":\"CDSView\",\"id\":\"p2884\",\"attributes\":{\"filter\":{\"type\":\"object\",\"name\":\"AllIndices\",\"id\":\"p2885\"}}},\"glyph\":{\"type\":\"object\",\"name\":\"Scatter\",\"id\":\"p2880\",\"attributes\":{\"x\":{\"type\":\"value\",\"value\":249},\"y\":{\"type\":\"value\",\"value\":1.0966784313964841},\"size\":{\"type\":\"value\",\"value\":8},\"line_color\":{\"type\":\"value\",\"value\":\"cyan\"},\"fill_color\":{\"type\":\"value\",\"value\":\"cyan\"},\"hatch_color\":{\"type\":\"value\",\"value\":\"cyan\"}}},\"nonselection_glyph\":{\"type\":\"object\",\"name\":\"Scatter\",\"id\":\"p2881\",\"attributes\":{\"x\":{\"type\":\"value\",\"value\":249},\"y\":{\"type\":\"value\",\"value\":1.0966784313964841},\"size\":{\"type\":\"value\",\"value\":8},\"line_color\":{\"type\":\"value\",\"value\":\"cyan\"},\"line_alpha\":{\"type\":\"value\",\"value\":0.1},\"fill_color\":{\"type\":\"value\",\"value\":\"cyan\"},\"fill_alpha\":{\"type\":\"value\",\"value\":0.1},\"hatch_color\":{\"type\":\"value\",\"value\":\"cyan\"},\"hatch_alpha\":{\"type\":\"value\",\"value\":0.1}}},\"muted_glyph\":{\"type\":\"object\",\"name\":\"Scatter\",\"id\":\"p2882\",\"attributes\":{\"x\":{\"type\":\"value\",\"value\":249},\"y\":{\"type\":\"value\",\"value\":1.0966784313964841},\"size\":{\"type\":\"value\",\"value\":8},\"line_color\":{\"type\":\"value\",\"value\":\"cyan\"},\"line_alpha\":{\"type\":\"value\",\"value\":0.2},\"fill_color\":{\"type\":\"value\",\"value\":\"cyan\"},\"fill_alpha\":{\"type\":\"value\",\"value\":0.2},\"hatch_color\":{\"type\":\"value\",\"value\":\"cyan\"},\"hatch_alpha\":{\"type\":\"value\",\"value\":0.2}}}}},{\"type\":\"object\",\"name\":\"GlyphRenderer\",\"id\":\"p2894\",\"attributes\":{\"data_source\":{\"type\":\"object\",\"name\":\"ColumnDataSource\",\"id\":\"p2888\",\"attributes\":{\"selected\":{\"type\":\"object\",\"name\":\"Selection\",\"id\":\"p2889\",\"attributes\":{\"indices\":[],\"line_indices\":[]}},\"selection_policy\":{\"type\":\"object\",\"name\":\"UnionRenderers\",\"id\":\"p2890\"},\"data\":{\"type\":\"map\"}}},\"view\":{\"type\":\"object\",\"name\":\"CDSView\",\"id\":\"p2895\",\"attributes\":{\"filter\":{\"type\":\"object\",\"name\":\"AllIndices\",\"id\":\"p2896\"}}},\"glyph\":{\"type\":\"object\",\"name\":\"Scatter\",\"id\":\"p2891\",\"attributes\":{\"x\":{\"type\":\"value\",\"value\":316},\"y\":{\"type\":\"value\",\"value\":1.0896073733520506},\"size\":{\"type\":\"value\",\"value\":8},\"line_color\":{\"type\":\"value\",\"value\":\"blue\"},\"fill_color\":{\"type\":\"value\",\"value\":\"blue\"},\"hatch_color\":{\"type\":\"value\",\"value\":\"blue\"}}},\"nonselection_glyph\":{\"type\":\"object\",\"name\":\"Scatter\",\"id\":\"p2892\",\"attributes\":{\"x\":{\"type\":\"value\",\"value\":316},\"y\":{\"type\":\"value\",\"value\":1.0896073733520506},\"size\":{\"type\":\"value\",\"value\":8},\"line_color\":{\"type\":\"value\",\"value\":\"blue\"},\"line_alpha\":{\"type\":\"value\",\"value\":0.1},\"fill_color\":{\"type\":\"value\",\"value\":\"blue\"},\"fill_alpha\":{\"type\":\"value\",\"value\":0.1},\"hatch_color\":{\"type\":\"value\",\"value\":\"blue\"},\"hatch_alpha\":{\"type\":\"value\",\"value\":0.1}}},\"muted_glyph\":{\"type\":\"object\",\"name\":\"Scatter\",\"id\":\"p2893\",\"attributes\":{\"x\":{\"type\":\"value\",\"value\":316},\"y\":{\"type\":\"value\",\"value\":1.0896073733520506},\"size\":{\"type\":\"value\",\"value\":8},\"line_color\":{\"type\":\"value\",\"value\":\"blue\"},\"line_alpha\":{\"type\":\"value\",\"value\":0.2},\"fill_color\":{\"type\":\"value\",\"value\":\"blue\"},\"fill_alpha\":{\"type\":\"value\",\"value\":0.2},\"hatch_color\":{\"type\":\"value\",\"value\":\"blue\"},\"hatch_alpha\":{\"type\":\"value\",\"value\":0.2}}}}},{\"type\":\"object\",\"name\":\"GlyphRenderer\",\"id\":\"p2904\",\"attributes\":{\"data_source\":{\"type\":\"object\",\"name\":\"ColumnDataSource\",\"id\":\"p2898\",\"attributes\":{\"selected\":{\"type\":\"object\",\"name\":\"Selection\",\"id\":\"p2899\",\"attributes\":{\"indices\":[],\"line_indices\":[]}},\"selection_policy\":{\"type\":\"object\",\"name\":\"UnionRenderers\",\"id\":\"p2900\"},\"data\":{\"type\":\"map\"}}},\"view\":{\"type\":\"object\",\"name\":\"CDSView\",\"id\":\"p2905\",\"attributes\":{\"filter\":{\"type\":\"object\",\"name\":\"AllIndices\",\"id\":\"p2906\"}}},\"glyph\":{\"type\":\"object\",\"name\":\"Scatter\",\"id\":\"p2901\",\"attributes\":{\"x\":{\"type\":\"value\",\"value\":198},\"y\":{\"type\":\"value\",\"value\":0.9616405639648438},\"size\":{\"type\":\"value\",\"value\":8},\"line_color\":{\"type\":\"value\",\"value\":\"red\"},\"fill_color\":{\"type\":\"value\",\"value\":\"red\"},\"hatch_color\":{\"type\":\"value\",\"value\":\"red\"}}},\"nonselection_glyph\":{\"type\":\"object\",\"name\":\"Scatter\",\"id\":\"p2902\",\"attributes\":{\"x\":{\"type\":\"value\",\"value\":198},\"y\":{\"type\":\"value\",\"value\":0.9616405639648438},\"size\":{\"type\":\"value\",\"value\":8},\"line_color\":{\"type\":\"value\",\"value\":\"red\"},\"line_alpha\":{\"type\":\"value\",\"value\":0.1},\"fill_color\":{\"type\":\"value\",\"value\":\"red\"},\"fill_alpha\":{\"type\":\"value\",\"value\":0.1},\"hatch_color\":{\"type\":\"value\",\"value\":\"red\"},\"hatch_alpha\":{\"type\":\"value\",\"value\":0.1}}},\"muted_glyph\":{\"type\":\"object\",\"name\":\"Scatter\",\"id\":\"p2903\",\"attributes\":{\"x\":{\"type\":\"value\",\"value\":198},\"y\":{\"type\":\"value\",\"value\":0.9616405639648438},\"size\":{\"type\":\"value\",\"value\":8},\"line_color\":{\"type\":\"value\",\"value\":\"red\"},\"line_alpha\":{\"type\":\"value\",\"value\":0.2},\"fill_color\":{\"type\":\"value\",\"value\":\"red\"},\"fill_alpha\":{\"type\":\"value\",\"value\":0.2},\"hatch_color\":{\"type\":\"value\",\"value\":\"red\"},\"hatch_alpha\":{\"type\":\"value\",\"value\":0.2}}}}},{\"type\":\"object\",\"name\":\"GlyphRenderer\",\"id\":\"p2914\",\"attributes\":{\"data_source\":{\"type\":\"object\",\"name\":\"ColumnDataSource\",\"id\":\"p2908\",\"attributes\":{\"selected\":{\"type\":\"object\",\"name\":\"Selection\",\"id\":\"p2909\",\"attributes\":{\"indices\":[],\"line_indices\":[]}},\"selection_policy\":{\"type\":\"object\",\"name\":\"UnionRenderers\",\"id\":\"p2910\"},\"data\":{\"type\":\"map\",\"entries\":[[\"x\",[43,199.40663435898895]]]}}},\"view\":{\"type\":\"object\",\"name\":\"CDSView\",\"id\":\"p2915\",\"attributes\":{\"filter\":{\"type\":\"object\",\"name\":\"AllIndices\",\"id\":\"p2916\"}}},\"glyph\":{\"type\":\"object\",\"name\":\"Line\",\"id\":\"p2911\",\"attributes\":{\"x\":{\"type\":\"field\",\"field\":\"x\"},\"y\":{\"type\":\"value\",\"value\":1.0360147416687011},\"line_color\":\"red\",\"line_width\":2}},\"nonselection_glyph\":{\"type\":\"object\",\"name\":\"Line\",\"id\":\"p2912\",\"attributes\":{\"x\":{\"type\":\"field\",\"field\":\"x\"},\"y\":{\"type\":\"value\",\"value\":1.0360147416687011},\"line_color\":\"red\",\"line_alpha\":0.1,\"line_width\":2}},\"muted_glyph\":{\"type\":\"object\",\"name\":\"Line\",\"id\":\"p2913\",\"attributes\":{\"x\":{\"type\":\"field\",\"field\":\"x\"},\"y\":{\"type\":\"value\",\"value\":1.0360147416687011},\"line_color\":\"red\",\"line_alpha\":0.2,\"line_width\":2}}}}],\"toolbar\":{\"type\":\"object\",\"name\":\"Toolbar\",\"id\":\"p2829\",\"attributes\":{\"tools\":[{\"id\":\"p2842\"},{\"id\":\"p2843\"},{\"id\":\"p2844\"},{\"id\":\"p2850\"},{\"id\":\"p2851\"},{\"id\":\"p2852\"},{\"type\":\"object\",\"name\":\"SaveTool\",\"id\":\"p2853\"},{\"id\":\"p2875\"},{\"id\":\"p3090\"}],\"active_drag\":{\"id\":\"p2842\"},\"active_scroll\":{\"id\":\"p2843\"}}},\"toolbar_location\":null,\"left\":[{\"type\":\"object\",\"name\":\"LinearAxis\",\"id\":\"p2837\",\"attributes\":{\"ticker\":{\"type\":\"object\",\"name\":\"BasicTicker\",\"id\":\"p2838\",\"attributes\":{\"mantissas\":[1,2,5]}},\"formatter\":{\"type\":\"object\",\"name\":\"NumeralTickFormatter\",\"id\":\"p2876\",\"attributes\":{\"format\":\"0,0.[00]%\"}},\"axis_label\":\"Equity\",\"major_label_policy\":{\"type\":\"object\",\"name\":\"AllLabels\",\"id\":\"p2840\"},\"minor_tick_line_color\":null}}],\"below\":[{\"type\":\"object\",\"name\":\"LinearAxis\",\"id\":\"p2832\",\"attributes\":{\"visible\":false,\"ticker\":{\"type\":\"object\",\"name\":\"BasicTicker\",\"id\":\"p2833\",\"attributes\":{\"mantissas\":[1,2,5]}},\"formatter\":{\"type\":\"object\",\"name\":\"BasicTickFormatter\",\"id\":\"p2834\"},\"major_label_policy\":{\"type\":\"object\",\"name\":\"AllLabels\",\"id\":\"p2835\"}}}],\"center\":[{\"type\":\"object\",\"name\":\"Grid\",\"id\":\"p2836\",\"attributes\":{\"axis\":{\"id\":\"p2832\"}}},{\"type\":\"object\",\"name\":\"Grid\",\"id\":\"p2841\",\"attributes\":{\"dimension\":1,\"axis\":{\"id\":\"p2837\"}}},{\"type\":\"object\",\"name\":\"Legend\",\"id\":\"p2886\",\"attributes\":{\"location\":\"top_left\",\"border_line_color\":\"#333333\",\"click_policy\":\"hide\",\"label_text_font_size\":\"8pt\",\"margin\":0,\"padding\":5,\"spacing\":0,\"items\":[{\"type\":\"object\",\"name\":\"LegendItem\",\"id\":\"p2887\",\"attributes\":{\"label\":{\"type\":\"value\",\"value\":\"Peak (110%)\"},\"renderers\":[{\"id\":\"p2883\"}]}},{\"type\":\"object\",\"name\":\"LegendItem\",\"id\":\"p2897\",\"attributes\":{\"label\":{\"type\":\"value\",\"value\":\"Final (109%)\"},\"renderers\":[{\"id\":\"p2894\"}]}},{\"type\":\"object\",\"name\":\"LegendItem\",\"id\":\"p2907\",\"attributes\":{\"label\":{\"type\":\"value\",\"value\":\"Max Drawdown (-7.2%)\"},\"renderers\":[{\"id\":\"p2904\"}]}},{\"type\":\"object\",\"name\":\"LegendItem\",\"id\":\"p2917\",\"attributes\":{\"label\":{\"type\":\"value\",\"value\":\"Max Dd Dur. (225 days)\"},\"renderers\":[{\"id\":\"p2914\"}]}}]}}],\"min_border_top\":3,\"min_border_bottom\":6,\"min_border_left\":0,\"min_border_right\":10}},0,0],[{\"type\":\"object\",\"name\":\"Figure\",\"id\":\"p2918\",\"attributes\":{\"width\":null,\"height\":90,\"sizing_mode\":\"stretch_width\",\"x_range\":{\"id\":\"p2776\"},\"y_range\":{\"type\":\"object\",\"name\":\"DataRange1d\",\"id\":\"p2920\"},\"x_scale\":{\"type\":\"object\",\"name\":\"LinearScale\",\"id\":\"p2927\"},\"y_scale\":{\"type\":\"object\",\"name\":\"LinearScale\",\"id\":\"p2928\"},\"title\":{\"type\":\"object\",\"name\":\"Title\",\"id\":\"p2925\"},\"outline_line_color\":\"#666666\",\"renderers\":[{\"id\":\"p2958\"},{\"id\":\"p2967\"}],\"toolbar\":{\"type\":\"object\",\"name\":\"Toolbar\",\"id\":\"p2926\",\"attributes\":{\"tools\":[{\"id\":\"p2939\"},{\"id\":\"p2940\"},{\"id\":\"p2941\"},{\"id\":\"p2947\"},{\"id\":\"p2948\"},{\"id\":\"p2949\"},{\"type\":\"object\",\"name\":\"SaveTool\",\"id\":\"p2950\"},{\"id\":\"p2970\"},{\"id\":\"p2971\"},{\"id\":\"p3090\"}],\"active_drag\":{\"id\":\"p2939\"},\"active_scroll\":{\"id\":\"p2940\"}}},\"toolbar_location\":null,\"left\":[{\"type\":\"object\",\"name\":\"LinearAxis\",\"id\":\"p2934\",\"attributes\":{\"ticker\":{\"type\":\"object\",\"name\":\"BasicTicker\",\"id\":\"p2935\",\"attributes\":{\"mantissas\":[1,2,5]}},\"formatter\":{\"type\":\"object\",\"name\":\"NumeralTickFormatter\",\"id\":\"p2972\",\"attributes\":{\"format\":\"0.[00]%\"}},\"axis_label\":\"Profit / Loss\",\"major_label_policy\":{\"type\":\"object\",\"name\":\"AllLabels\",\"id\":\"p2937\"},\"minor_tick_line_color\":null}}],\"below\":[{\"type\":\"object\",\"name\":\"LinearAxis\",\"id\":\"p2929\",\"attributes\":{\"visible\":false,\"ticker\":{\"type\":\"object\",\"name\":\"BasicTicker\",\"id\":\"p2930\",\"attributes\":{\"mantissas\":[1,2,5]}},\"formatter\":{\"type\":\"object\",\"name\":\"BasicTickFormatter\",\"id\":\"p2931\"},\"major_label_policy\":{\"type\":\"object\",\"name\":\"AllLabels\",\"id\":\"p2932\"}}}],\"center\":[{\"type\":\"object\",\"name\":\"Grid\",\"id\":\"p2933\",\"attributes\":{\"axis\":{\"id\":\"p2929\"}}},{\"type\":\"object\",\"name\":\"Grid\",\"id\":\"p2938\",\"attributes\":{\"dimension\":1,\"axis\":{\"id\":\"p2934\"}}},{\"type\":\"object\",\"name\":\"Span\",\"id\":\"p2951\",\"attributes\":{\"location\":0,\"line_color\":\"#666666\",\"line_dash\":[6]}}],\"min_border_top\":3,\"min_border_bottom\":6,\"min_border_left\":0,\"min_border_right\":10}},1,0],[{\"type\":\"object\",\"name\":\"Figure\",\"id\":\"p2777\",\"attributes\":{\"width\":null,\"height\":400,\"sizing_mode\":\"stretch_width\",\"x_range\":{\"id\":\"p2776\"},\"y_range\":{\"id\":\"p2779\"},\"x_scale\":{\"type\":\"object\",\"name\":\"LinearScale\",\"id\":\"p2786\"},\"y_scale\":{\"type\":\"object\",\"name\":\"LinearScale\",\"id\":\"p2787\"},\"title\":{\"type\":\"object\",\"name\":\"Title\",\"id\":\"p2784\"},\"outline_line_color\":\"#666666\",\"renderers\":[{\"type\":\"object\",\"name\":\"GlyphRenderer\",\"id\":\"p3026\",\"attributes\":{\"data_source\":{\"type\":\"object\",\"name\":\"ColumnDataSource\",\"id\":\"p3017\",\"attributes\":{\"selected\":{\"type\":\"object\",\"name\":\"Selection\",\"id\":\"p3018\",\"attributes\":{\"indices\":[],\"line_indices\":[]}},\"selection_policy\":{\"type\":\"object\",\"name\":\"UnionRenderers\",\"id\":\"p3019\"},\"data\":{\"type\":\"map\",\"entries\":[[\"index\",{\"type\":\"ndarray\",\"array\":{\"type\":\"bytes\",\"data\":\"AAAAAAAAI0AAAAAAAAA9QAAAAAAAAElAAAAAAADAUUAAAAAAAOBWQAAAAAAAQFxAAAAAAACwYEAAAAAAAGBjQAAAAAAAEGZAAAAAAACwaEAAAAAAAGBrQAAAAAAA8G1AAAAAAABAcEAAAAAAAIhxQAAAAAAAyHJAAAAAAACYc0A=\"},\"shape\":[16],\"dtype\":\"float64\",\"order\":\"little\"}],[\"Open\",{\"type\":\"ndarray\",\"array\":{\"type\":\"bytes\",\"data\":\"AAAAgBSeXUAAAADgerxlQAAAAGC4xmlA////vx79aEAAAACgcGVkQAEAAEDhUmlAAAAAANdHcUAAAAAAKaRwQAAAAAApFHBA////f+uZbkAAAACgR4FpQAAAAOB6JG1AAAAAYI9Cb0AAAAAAAJBnQP///9+jEGlAAAAAoHAFZkA=\"},\"shape\":[16],\"dtype\":\"float64\",\"order\":\"little\"}],[\"High\",{\"type\":\"ndarray\",\"array\":{\"type\":\"bytes\",\"data\":\"AAAAgMKVZkABAADAzDRrQAAAAKBH+WlAAAAAgBRWaUD///8fXI9pQAAAAADXT3FAAAAA4KO0ckAAAAAghadwQAAAACCub3FAAAAAQArPcEAAAAAAAJhvQAAAAIAUknBAAAAAAABob0D///8/M7NpQP///9+jkGlAAAAAgBQmZkA=\"},\"shape\":[16],\"dtype\":\"float64\",\"order\":\"little\"}],[\"Low\",{\"type\":\"ndarray\",\"array\":{\"type\":\"bytes\",\"data\":\"AQAAANdzWUAAAACAwj1lQAAAAMAefWRAAAAAANcLY0AAAABgj9pjQAAAAADX62hAAAAAANfDb0ABAAAghYtqQAAAAGCPUm1AAAAAgD1CaED///8/M7toQAAAAGBmhmxAAAAAgOuBZkAAAADgUeBlQAAAAOBREGRAAAAA4FEQZEA=\"},\"shape\":[16],\"dtype\":\"float64\",\"order\":\"little\"}],[\"Close\",{\"type\":\"ndarray\",\"array\":{\"type\":\"bytes\",\"data\":\"AAAAQAqnZUAAAABguLZpQAAAAGC47mlAAAAAgOuJZEAAAACAwn1pQAAAAOBRXHBAAAAAQOG2cEAAAACgRyFwQAAAAEAKR29AAQAAQOEaaUAAAABgjwJuQP///x9cD29AAAAAoEdpZ0AAAAAAKTxpQAAAAKBH+WVAAAAAIFyfZUA=\"},\"shape\":[16],\"dtype\":\"float64\",\"order\":\"little\"}],[\"Volume\",{\"type\":\"ndarray\",\"array\":[3897499400,3624845100,3311619900,2505176300,2681994800,3440477900,2392089000,2501580900,2439306100,2590570100,2650798400,2294598400,2343784600,2019907700,1898904200,649998800],\"shape\":[16],\"dtype\":\"object\",\"order\":\"little\"}],[\"_width\",{\"type\":\"ndarray\",\"array\":{\"type\":\"bytes\",\"data\":\"ZmZmZmbmM0BmZmZmZuYyQGZmZmZm5jZAZmZmZmbmMkBmZmZmZuY1QGZmZmZm5jRAZmZmZmbmM0BmZmZmZuY2QGZmZmZm5jNAZmZmZmbmNUBmZmZmZuY0QGZmZmZm5jNAZmZmZmbmNEBmZmZmZuYzQGZmZmZm5jNAmpmZmZmZF0A=\"},\"shape\":[16],\"dtype\":\"float64\",\"order\":\"little\"}],[\"inc\",{\"type\":\"ndarray\",\"array\":[\"1\",\"1\",\"1\",\"0\",\"1\",\"1\",\"0\",\"0\",\"0\",\"0\",\"1\",\"1\",\"0\",\"1\",\"0\",\"0\"],\"shape\":[16],\"dtype\":\"object\",\"order\":\"little\"}]]}}},\"view\":{\"type\":\"object\",\"name\":\"CDSView\",\"id\":\"p3027\",\"attributes\":{\"filter\":{\"type\":\"object\",\"name\":\"AllIndices\",\"id\":\"p3028\"}}},\"glyph\":{\"type\":\"object\",\"name\":\"Segment\",\"id\":\"p3023\",\"attributes\":{\"x0\":{\"type\":\"field\",\"field\":\"index\"},\"y0\":{\"type\":\"field\",\"field\":\"High\"},\"x1\":{\"type\":\"field\",\"field\":\"index\"},\"y1\":{\"type\":\"field\",\"field\":\"Low\"},\"line_color\":{\"type\":\"value\",\"value\":\"#bbbbbb\"}}},\"nonselection_glyph\":{\"type\":\"object\",\"name\":\"Segment\",\"id\":\"p3024\",\"attributes\":{\"x0\":{\"type\":\"field\",\"field\":\"index\"},\"y0\":{\"type\":\"field\",\"field\":\"High\"},\"x1\":{\"type\":\"field\",\"field\":\"index\"},\"y1\":{\"type\":\"field\",\"field\":\"Low\"},\"line_color\":{\"type\":\"value\",\"value\":\"#bbbbbb\"},\"line_alpha\":{\"type\":\"value\",\"value\":0.1}}},\"muted_glyph\":{\"type\":\"object\",\"name\":\"Segment\",\"id\":\"p3025\",\"attributes\":{\"x0\":{\"type\":\"field\",\"field\":\"index\"},\"y0\":{\"type\":\"field\",\"field\":\"High\"},\"x1\":{\"type\":\"field\",\"field\":\"index\"},\"y1\":{\"type\":\"field\",\"field\":\"Low\"},\"line_color\":{\"type\":\"value\",\"value\":\"#bbbbbb\"},\"line_alpha\":{\"type\":\"value\",\"value\":0.2}}}}},{\"type\":\"object\",\"name\":\"GlyphRenderer\",\"id\":\"p3036\",\"attributes\":{\"data_source\":{\"id\":\"p3017\"},\"view\":{\"type\":\"object\",\"name\":\"CDSView\",\"id\":\"p3037\",\"attributes\":{\"filter\":{\"type\":\"object\",\"name\":\"AllIndices\",\"id\":\"p3038\"}}},\"glyph\":{\"type\":\"object\",\"name\":\"VBar\",\"id\":\"p3033\",\"attributes\":{\"x\":{\"type\":\"field\",\"field\":\"index\"},\"width\":{\"type\":\"field\",\"field\":\"_width\"},\"bottom\":{\"type\":\"field\",\"field\":\"Close\"},\"top\":{\"type\":\"field\",\"field\":\"Open\"},\"line_color\":{\"type\":\"value\",\"value\":null},\"fill_color\":{\"type\":\"field\",\"field\":\"inc\",\"transform\":{\"type\":\"object\",\"name\":\"CategoricalColorMapper\",\"id\":\"p3029\",\"attributes\":{\"palette\":[\"rgb(255.0, 220.40869565217392, 214.20000000000002)\",\"rgb(214.20000000000005, 254.99999999999997, 214.20000000000005)\"],\"factors\":[\"0\",\"1\"]}}}}},\"nonselection_glyph\":{\"type\":\"object\",\"name\":\"VBar\",\"id\":\"p3034\",\"attributes\":{\"x\":{\"type\":\"field\",\"field\":\"index\"},\"width\":{\"type\":\"field\",\"field\":\"_width\"},\"bottom\":{\"type\":\"field\",\"field\":\"Close\"},\"top\":{\"type\":\"field\",\"field\":\"Open\"},\"line_color\":{\"type\":\"value\",\"value\":null},\"line_alpha\":{\"type\":\"value\",\"value\":0.1},\"fill_color\":{\"type\":\"field\",\"field\":\"inc\",\"transform\":{\"id\":\"p3029\"}},\"fill_alpha\":{\"type\":\"value\",\"value\":0.1},\"hatch_alpha\":{\"type\":\"value\",\"value\":0.1}}},\"muted_glyph\":{\"type\":\"object\",\"name\":\"VBar\",\"id\":\"p3035\",\"attributes\":{\"x\":{\"type\":\"field\",\"field\":\"index\"},\"width\":{\"type\":\"field\",\"field\":\"_width\"},\"bottom\":{\"type\":\"field\",\"field\":\"Close\"},\"top\":{\"type\":\"field\",\"field\":\"Open\"},\"line_color\":{\"type\":\"value\",\"value\":null},\"line_alpha\":{\"type\":\"value\",\"value\":0.2},\"fill_color\":{\"type\":\"field\",\"field\":\"inc\",\"transform\":{\"id\":\"p3029\"}},\"fill_alpha\":{\"type\":\"value\",\"value\":0.2},\"hatch_alpha\":{\"type\":\"value\",\"value\":0.2}}}}},{\"type\":\"object\",\"name\":\"GlyphRenderer\",\"id\":\"p3045\",\"attributes\":{\"data_source\":{\"id\":\"p2810\"},\"view\":{\"type\":\"object\",\"name\":\"CDSView\",\"id\":\"p3046\",\"attributes\":{\"filter\":{\"type\":\"object\",\"name\":\"AllIndices\",\"id\":\"p3047\"}}},\"glyph\":{\"type\":\"object\",\"name\":\"Segment\",\"id\":\"p3042\",\"attributes\":{\"x0\":{\"type\":\"field\",\"field\":\"index\"},\"y0\":{\"type\":\"field\",\"field\":\"High\"},\"x1\":{\"type\":\"field\",\"field\":\"index\"},\"y1\":{\"type\":\"field\",\"field\":\"Low\"}}},\"nonselection_glyph\":{\"type\":\"object\",\"name\":\"Segment\",\"id\":\"p3043\",\"attributes\":{\"x0\":{\"type\":\"field\",\"field\":\"index\"},\"y0\":{\"type\":\"field\",\"field\":\"High\"},\"x1\":{\"type\":\"field\",\"field\":\"index\"},\"y1\":{\"type\":\"field\",\"field\":\"Low\"},\"line_alpha\":{\"type\":\"value\",\"value\":0.1}}},\"muted_glyph\":{\"type\":\"object\",\"name\":\"Segment\",\"id\":\"p3044\",\"attributes\":{\"x0\":{\"type\":\"field\",\"field\":\"index\"},\"y0\":{\"type\":\"field\",\"field\":\"High\"},\"x1\":{\"type\":\"field\",\"field\":\"index\"},\"y1\":{\"type\":\"field\",\"field\":\"Low\"},\"line_alpha\":{\"type\":\"value\",\"value\":0.2}}}}},{\"id\":\"p3054\"},{\"type\":\"object\",\"name\":\"GlyphRenderer\",\"id\":\"p3063\",\"attributes\":{\"data_source\":{\"id\":\"p2813\"},\"view\":{\"type\":\"object\",\"name\":\"CDSView\",\"id\":\"p3064\",\"attributes\":{\"filter\":{\"type\":\"object\",\"name\":\"AllIndices\",\"id\":\"p3065\"}}},\"glyph\":{\"type\":\"object\",\"name\":\"MultiLine\",\"id\":\"p3060\",\"attributes\":{\"xs\":{\"type\":\"field\",\"field\":\"position_lines_xs\"},\"ys\":{\"type\":\"field\",\"field\":\"position_lines_ys\"},\"line_color\":{\"type\":\"field\",\"field\":\"returns_positive\",\"transform\":{\"type\":\"object\",\"name\":\"CategoricalColorMapper\",\"id\":\"p2818\",\"attributes\":{\"palette\":[\"rgb(178.5, 27.163043478260846, 0.0)\",\"rgb(0.0, 178.5, 0.0)\"],\"factors\":[\"0\",\"1\"]}}},\"line_width\":{\"type\":\"value\",\"value\":8},\"line_dash\":{\"type\":\"value\",\"value\":\"dotted\"}}},\"nonselection_glyph\":{\"type\":\"object\",\"name\":\"MultiLine\",\"id\":\"p3061\",\"attributes\":{\"xs\":{\"type\":\"field\",\"field\":\"position_lines_xs\"},\"ys\":{\"type\":\"field\",\"field\":\"position_lines_ys\"},\"line_color\":{\"type\":\"field\",\"field\":\"returns_positive\",\"transform\":{\"id\":\"p2818\"}},\"line_alpha\":{\"type\":\"value\",\"value\":0.1},\"line_width\":{\"type\":\"value\",\"value\":8},\"line_dash\":{\"type\":\"value\",\"value\":\"dotted\"}}},\"muted_glyph\":{\"type\":\"object\",\"name\":\"MultiLine\",\"id\":\"p3062\",\"attributes\":{\"xs\":{\"type\":\"field\",\"field\":\"position_lines_xs\"},\"ys\":{\"type\":\"field\",\"field\":\"position_lines_ys\"},\"line_color\":{\"type\":\"field\",\"field\":\"returns_positive\",\"transform\":{\"id\":\"p2818\"}},\"line_alpha\":{\"type\":\"value\",\"value\":0.2},\"line_width\":{\"type\":\"value\",\"value\":8},\"line_dash\":{\"type\":\"value\",\"value\":\"dotted\"}}}}},{\"type\":\"object\",\"name\":\"GlyphRenderer\",\"id\":\"p3074\",\"attributes\":{\"data_source\":{\"id\":\"p2810\"},\"view\":{\"type\":\"object\",\"name\":\"CDSView\",\"id\":\"p3075\",\"attributes\":{\"filter\":{\"type\":\"object\",\"name\":\"AllIndices\",\"id\":\"p3076\"}}},\"glyph\":{\"type\":\"object\",\"name\":\"Line\",\"id\":\"p3071\",\"attributes\":{\"x\":{\"type\":\"field\",\"field\":\"index\"},\"y\":{\"type\":\"field\",\"field\":\"SMA(C,4)_0_1\"},\"line_color\":\"#1f77b4\",\"line_width\":1.3}},\"nonselection_glyph\":{\"type\":\"object\",\"name\":\"Line\",\"id\":\"p3072\",\"attributes\":{\"x\":{\"type\":\"field\",\"field\":\"index\"},\"y\":{\"type\":\"field\",\"field\":\"SMA(C,4)_0_1\"},\"line_color\":\"#1f77b4\",\"line_alpha\":0.1,\"line_width\":1.3}},\"muted_glyph\":{\"type\":\"object\",\"name\":\"Line\",\"id\":\"p3073\",\"attributes\":{\"x\":{\"type\":\"field\",\"field\":\"index\"},\"y\":{\"type\":\"field\",\"field\":\"SMA(C,4)_0_1\"},\"line_color\":\"#1f77b4\",\"line_alpha\":0.2,\"line_width\":1.3}}}},{\"type\":\"object\",\"name\":\"GlyphRenderer\",\"id\":\"p3084\",\"attributes\":{\"data_source\":{\"id\":\"p2810\"},\"view\":{\"type\":\"object\",\"name\":\"CDSView\",\"id\":\"p3085\",\"attributes\":{\"filter\":{\"type\":\"object\",\"name\":\"AllIndices\",\"id\":\"p3086\"}}},\"glyph\":{\"type\":\"object\",\"name\":\"Line\",\"id\":\"p3081\",\"attributes\":{\"x\":{\"type\":\"field\",\"field\":\"index\"},\"y\":{\"type\":\"field\",\"field\":\"SMA(C,8)_1_1\"},\"line_color\":\"#ff7f0e\",\"line_width\":1.3}},\"nonselection_glyph\":{\"type\":\"object\",\"name\":\"Line\",\"id\":\"p3082\",\"attributes\":{\"x\":{\"type\":\"field\",\"field\":\"index\"},\"y\":{\"type\":\"field\",\"field\":\"SMA(C,8)_1_1\"},\"line_color\":\"#ff7f0e\",\"line_alpha\":0.1,\"line_width\":1.3}},\"muted_glyph\":{\"type\":\"object\",\"name\":\"Line\",\"id\":\"p3083\",\"attributes\":{\"x\":{\"type\":\"field\",\"field\":\"index\"},\"y\":{\"type\":\"field\",\"field\":\"SMA(C,8)_1_1\"},\"line_color\":\"#ff7f0e\",\"line_alpha\":0.2,\"line_width\":1.3}}}}],\"toolbar\":{\"type\":\"object\",\"name\":\"Toolbar\",\"id\":\"p2785\",\"attributes\":{\"tools\":[{\"id\":\"p2798\"},{\"id\":\"p2799\"},{\"id\":\"p2800\"},{\"id\":\"p2806\"},{\"id\":\"p2807\"},{\"id\":\"p2808\"},{\"type\":\"object\",\"name\":\"SaveTool\",\"id\":\"p2809\"},{\"id\":\"p3088\"},{\"id\":\"p3090\"}],\"active_drag\":{\"id\":\"p2798\"},\"active_scroll\":{\"id\":\"p2799\"}}},\"toolbar_location\":null,\"left\":[{\"type\":\"object\",\"name\":\"LinearAxis\",\"id\":\"p2793\",\"attributes\":{\"ticker\":{\"type\":\"object\",\"name\":\"BasicTicker\",\"id\":\"p2794\",\"attributes\":{\"mantissas\":[1,2,5]}},\"formatter\":{\"type\":\"object\",\"name\":\"BasicTickFormatter\",\"id\":\"p2795\"},\"major_label_policy\":{\"type\":\"object\",\"name\":\"AllLabels\",\"id\":\"p2796\"}}}],\"below\":[{\"type\":\"object\",\"name\":\"LinearAxis\",\"id\":\"p2788\",\"attributes\":{\"visible\":false,\"ticker\":{\"type\":\"object\",\"name\":\"BasicTicker\",\"id\":\"p2789\",\"attributes\":{\"mantissas\":[1,2,5]}},\"formatter\":{\"type\":\"object\",\"name\":\"CustomJSTickFormatter\",\"id\":\"p2820\",\"attributes\":{\"args\":{\"type\":\"map\",\"entries\":[[\"axis\",{\"id\":\"p2788\"}],[\"formatter\",{\"type\":\"object\",\"name\":\"DatetimeTickFormatter\",\"id\":\"p2819\",\"attributes\":{\"days\":\"%d %b\"}}],[\"source\",{\"id\":\"p2810\"}]]},\"code\":\"\\nthis.labels = this.labels || formatter.doFormat(ticks\\n                                                .map(i => source.data.datetime[i])\\n                                                .filter(t => t !== undefined));\\nreturn this.labels[index] || \\\"\\\";\\n        \"}},\"major_label_policy\":{\"type\":\"object\",\"name\":\"AllLabels\",\"id\":\"p2791\"}}}],\"center\":[{\"type\":\"object\",\"name\":\"Grid\",\"id\":\"p2792\",\"attributes\":{\"axis\":{\"id\":\"p2788\"}}},{\"type\":\"object\",\"name\":\"Grid\",\"id\":\"p2797\",\"attributes\":{\"dimension\":1,\"axis\":{\"id\":\"p2793\"}}},{\"type\":\"object\",\"name\":\"Legend\",\"id\":\"p3066\",\"attributes\":{\"location\":\"top_left\",\"border_line_color\":\"#333333\",\"click_policy\":\"hide\",\"label_text_font_size\":\"8pt\",\"margin\":0,\"padding\":5,\"spacing\":0,\"items\":[{\"type\":\"object\",\"name\":\"LegendItem\",\"id\":\"p3067\",\"attributes\":{\"label\":{\"type\":\"value\",\"value\":\"Trades (9)\"},\"renderers\":[{\"id\":\"p3063\"}]}},{\"type\":\"object\",\"name\":\"LegendItem\",\"id\":\"p3077\",\"attributes\":{\"label\":{\"type\":\"value\",\"value\":\"SMA(C,4)\"},\"renderers\":[{\"id\":\"p3074\"}]}},{\"type\":\"object\",\"name\":\"LegendItem\",\"id\":\"p3087\",\"attributes\":{\"label\":{\"type\":\"value\",\"value\":\"SMA(C,8)\"},\"renderers\":[{\"id\":\"p3084\"}]}}]}}],\"min_border_top\":3,\"min_border_bottom\":6,\"min_border_left\":0,\"min_border_right\":10}},2,0],[{\"type\":\"object\",\"name\":\"Figure\",\"id\":\"p2973\",\"attributes\":{\"width\":null,\"height\":90,\"sizing_mode\":\"stretch_width\",\"x_range\":{\"id\":\"p2776\"},\"y_range\":{\"id\":\"p2975\"},\"x_scale\":{\"type\":\"object\",\"name\":\"LinearScale\",\"id\":\"p2982\"},\"y_scale\":{\"type\":\"object\",\"name\":\"LinearScale\",\"id\":\"p2983\"},\"title\":{\"type\":\"object\",\"name\":\"Title\",\"id\":\"p2980\"},\"outline_line_color\":\"#666666\",\"renderers\":[{\"id\":\"p3012\"}],\"toolbar\":{\"type\":\"object\",\"name\":\"Toolbar\",\"id\":\"p2981\",\"attributes\":{\"tools\":[{\"id\":\"p2994\"},{\"id\":\"p2995\"},{\"id\":\"p2996\"},{\"id\":\"p3002\"},{\"id\":\"p3003\"},{\"id\":\"p3004\"},{\"type\":\"object\",\"name\":\"SaveTool\",\"id\":\"p3005\"},{\"id\":\"p3015\"},{\"id\":\"p3090\"}],\"active_drag\":{\"id\":\"p2994\"},\"active_scroll\":{\"id\":\"p2995\"}}},\"toolbar_location\":null,\"left\":[{\"type\":\"object\",\"name\":\"LinearAxis\",\"id\":\"p2989\",\"attributes\":{\"ticker\":{\"type\":\"object\",\"name\":\"BasicTicker\",\"id\":\"p2990\",\"attributes\":{\"mantissas\":[1,2,5]}},\"formatter\":{\"type\":\"object\",\"name\":\"NumeralTickFormatter\",\"id\":\"p3016\",\"attributes\":{\"format\":\"0 a\"}},\"axis_label\":\"Volume\",\"major_label_policy\":{\"type\":\"object\",\"name\":\"AllLabels\",\"id\":\"p2992\"},\"minor_tick_line_color\":null}}],\"below\":[{\"type\":\"object\",\"name\":\"LinearAxis\",\"id\":\"p2984\",\"attributes\":{\"visible\":true,\"ticker\":{\"type\":\"object\",\"name\":\"BasicTicker\",\"id\":\"p2985\",\"attributes\":{\"mantissas\":[1,2,5]}},\"formatter\":{\"id\":\"p2820\"},\"major_label_policy\":{\"type\":\"object\",\"name\":\"AllLabels\",\"id\":\"p2987\"}}}],\"center\":[{\"type\":\"object\",\"name\":\"Grid\",\"id\":\"p2988\",\"attributes\":{\"axis\":{\"id\":\"p2984\"}}},{\"type\":\"object\",\"name\":\"Grid\",\"id\":\"p2993\",\"attributes\":{\"dimension\":1,\"axis\":{\"id\":\"p2989\"}}}],\"min_border_top\":3,\"min_border_bottom\":6,\"min_border_left\":0,\"min_border_right\":10}},3,0]]}}]}};\n  const render_items = [{\"docid\":\"ae3d5efc-1ec3-4526-beaa-519676980725\",\"roots\":{\"p3100\":\"b1cf8408-4638-4b61-b18e-24d0fe8af371\"},\"root_ids\":[\"p3100\"]}];\n  void root.Bokeh.embed.embed_items_notebook(docs_json, render_items);\n  }\n  if (root.Bokeh !== undefined) {\n    embed_document(root);\n  } else {\n    let attempts = 0;\n    const timer = setInterval(function(root) {\n      if (root.Bokeh !== undefined) {\n        clearInterval(timer);\n        embed_document(root);\n      } else {\n        attempts++;\n        if (attempts > 100) {\n          clearInterval(timer);\n          console.log(\"Bokeh: ERROR: Unable to run BokehJS code because BokehJS library is missing\");\n        }\n      }\n    }, 10, root)\n  }\n})(window);",
      "application/vnd.bokehjs_exec.v0+json": ""
     },
     "metadata": {
      "application/vnd.bokehjs_exec.v0+json": {
       "id": "p3100"
      }
     },
     "output_type": "display_data"
    },
    {
     "data": {
      "text/html": [
       "<div style=\"display: table;\"><div style=\"display: table-row;\"><div style=\"display: table-cell;\"><b title=\"bokeh.models.plots.GridPlot\">GridPlot</b>(</div><div style=\"display: table-cell;\">id&nbsp;=&nbsp;'p3100', <span id=\"p3130\" style=\"cursor: pointer;\">&hellip;)</span></div></div><div class=\"p3129\" style=\"display: none;\"><div style=\"display: table-cell;\"></div><div style=\"display: table-cell;\">align&nbsp;=&nbsp;'auto',</div></div><div class=\"p3129\" style=\"display: none;\"><div style=\"display: table-cell;\"></div><div style=\"display: table-cell;\">aspect_ratio&nbsp;=&nbsp;None,</div></div><div class=\"p3129\" style=\"display: none;\"><div style=\"display: table-cell;\"></div><div style=\"display: table-cell;\">children&nbsp;=&nbsp;[(figure(id='p2821', ...), 0, 0), (figure(id='p2918', ...), 1, 0), (figure(id='p2777', ...), 2, 0), (figure(id='p2973', ...), 3, 0)],</div></div><div class=\"p3129\" style=\"display: none;\"><div style=\"display: table-cell;\"></div><div style=\"display: table-cell;\">cols&nbsp;=&nbsp;None,</div></div><div class=\"p3129\" style=\"display: none;\"><div style=\"display: table-cell;\"></div><div style=\"display: table-cell;\">context_menu&nbsp;=&nbsp;None,</div></div><div class=\"p3129\" style=\"display: none;\"><div style=\"display: table-cell;\"></div><div style=\"display: table-cell;\">css_classes&nbsp;=&nbsp;[],</div></div><div class=\"p3129\" style=\"display: none;\"><div style=\"display: table-cell;\"></div><div style=\"display: table-cell;\">css_variables&nbsp;=&nbsp;{},</div></div><div class=\"p3129\" style=\"display: none;\"><div style=\"display: table-cell;\"></div><div style=\"display: table-cell;\">disabled&nbsp;=&nbsp;False,</div></div><div class=\"p3129\" style=\"display: none;\"><div style=\"display: table-cell;\"></div><div style=\"display: table-cell;\">elements&nbsp;=&nbsp;[],</div></div><div class=\"p3129\" style=\"display: none;\"><div style=\"display: table-cell;\"></div><div style=\"display: table-cell;\">flow_mode&nbsp;=&nbsp;'block',</div></div><div class=\"p3129\" style=\"display: none;\"><div style=\"display: table-cell;\"></div><div style=\"display: table-cell;\">height&nbsp;=&nbsp;None,</div></div><div class=\"p3129\" style=\"display: none;\"><div style=\"display: table-cell;\"></div><div style=\"display: table-cell;\">height_policy&nbsp;=&nbsp;'auto',</div></div><div class=\"p3129\" style=\"display: none;\"><div style=\"display: table-cell;\"></div><div style=\"display: table-cell;\">js_event_callbacks&nbsp;=&nbsp;{},</div></div><div class=\"p3129\" style=\"display: none;\"><div style=\"display: table-cell;\"></div><div style=\"display: table-cell;\">js_property_callbacks&nbsp;=&nbsp;{},</div></div><div class=\"p3129\" style=\"display: none;\"><div style=\"display: table-cell;\"></div><div style=\"display: table-cell;\">margin&nbsp;=&nbsp;None,</div></div><div class=\"p3129\" style=\"display: none;\"><div style=\"display: table-cell;\"></div><div style=\"display: table-cell;\">max_height&nbsp;=&nbsp;None,</div></div><div class=\"p3129\" style=\"display: none;\"><div style=\"display: table-cell;\"></div><div style=\"display: table-cell;\">max_width&nbsp;=&nbsp;None,</div></div><div class=\"p3129\" style=\"display: none;\"><div style=\"display: table-cell;\"></div><div style=\"display: table-cell;\">min_height&nbsp;=&nbsp;None,</div></div><div class=\"p3129\" style=\"display: none;\"><div style=\"display: table-cell;\"></div><div style=\"display: table-cell;\">min_width&nbsp;=&nbsp;None,</div></div><div class=\"p3129\" style=\"display: none;\"><div style=\"display: table-cell;\"></div><div style=\"display: table-cell;\">name&nbsp;=&nbsp;None,</div></div><div class=\"p3129\" style=\"display: none;\"><div style=\"display: table-cell;\"></div><div style=\"display: table-cell;\">resizable&nbsp;=&nbsp;False,</div></div><div class=\"p3129\" style=\"display: none;\"><div style=\"display: table-cell;\"></div><div style=\"display: table-cell;\">rows&nbsp;=&nbsp;None,</div></div><div class=\"p3129\" style=\"display: none;\"><div style=\"display: table-cell;\"></div><div style=\"display: table-cell;\">sizing_mode&nbsp;=&nbsp;'stretch_width',</div></div><div class=\"p3129\" style=\"display: none;\"><div style=\"display: table-cell;\"></div><div style=\"display: table-cell;\">spacing&nbsp;=&nbsp;0,</div></div><div class=\"p3129\" style=\"display: none;\"><div style=\"display: table-cell;\"></div><div style=\"display: table-cell;\">styles&nbsp;=&nbsp;{},</div></div><div class=\"p3129\" style=\"display: none;\"><div style=\"display: table-cell;\"></div><div style=\"display: table-cell;\">stylesheets&nbsp;=&nbsp;[],</div></div><div class=\"p3129\" style=\"display: none;\"><div style=\"display: table-cell;\"></div><div style=\"display: table-cell;\">subscribed_events&nbsp;=&nbsp;PropertyValueSet(),</div></div><div class=\"p3129\" style=\"display: none;\"><div style=\"display: table-cell;\"></div><div style=\"display: table-cell;\">syncable&nbsp;=&nbsp;True,</div></div><div class=\"p3129\" style=\"display: none;\"><div style=\"display: table-cell;\"></div><div style=\"display: table-cell;\">tags&nbsp;=&nbsp;[],</div></div><div class=\"p3129\" style=\"display: none;\"><div style=\"display: table-cell;\"></div><div style=\"display: table-cell;\">toolbar&nbsp;=&nbsp;Toolbar(id='p3099', ...),</div></div><div class=\"p3129\" style=\"display: none;\"><div style=\"display: table-cell;\"></div><div style=\"display: table-cell;\">toolbar_location&nbsp;=&nbsp;'right',</div></div><div class=\"p3129\" style=\"display: none;\"><div style=\"display: table-cell;\"></div><div style=\"display: table-cell;\">visible&nbsp;=&nbsp;True,</div></div><div class=\"p3129\" style=\"display: none;\"><div style=\"display: table-cell;\"></div><div style=\"display: table-cell;\">width&nbsp;=&nbsp;None,</div></div><div class=\"p3129\" style=\"display: none;\"><div style=\"display: table-cell;\"></div><div style=\"display: table-cell;\">width_policy&nbsp;=&nbsp;'auto')</div></div></div>\n",
       "<script>\n",
       "(function() {\n",
       "  let expanded = false;\n",
       "  const ellipsis = document.getElementById(\"p3130\");\n",
       "  ellipsis.addEventListener(\"click\", function() {\n",
       "    const rows = document.getElementsByClassName(\"p3129\");\n",
       "    for (let i = 0; i < rows.length; i++) {\n",
       "      const el = rows[i];\n",
       "      el.style.display = expanded ? \"none\" : \"table-row\";\n",
       "    }\n",
       "    ellipsis.innerHTML = expanded ? \"&hellip;)\" : \"&lsaquo;&lsaquo;&lsaquo;\";\n",
       "    expanded = !expanded;\n",
       "  });\n",
       "})();\n",
       "</script>\n"
      ],
      "text/plain": [
       "GridPlot(id='p3100', ...)"
      ]
     },
     "execution_count": 290,
     "metadata": {},
     "output_type": "execute_result"
    }
   ],
   "source": [
    "bt.plot()"
   ]
  },
  {
   "cell_type": "code",
   "execution_count": 291,
   "metadata": {
    "execution": {
     "iopub.execute_input": "2024-06-20T08:12:35.051505Z",
     "iopub.status.busy": "2024-06-20T08:12:35.051149Z",
     "iopub.status.idle": "2024-06-20T08:12:35.057795Z",
     "shell.execute_reply": "2024-06-20T08:12:35.056622Z",
     "shell.execute_reply.started": "2024-06-20T08:12:35.051477Z"
    },
    "trusted": true
   },
   "outputs": [],
   "source": [
    "dates = pd.date_range(start='2022-01-01', periods=100)\n",
    "stock_a_prices = np.random.normal(loc=100, scale=5, size=100).cumsum()\n",
    "stock_b_prices = np.random.normal(loc=50, scale=3, size=100).cumsum()"
   ]
  },
  {
   "cell_type": "code",
   "execution_count": 292,
   "metadata": {
    "execution": {
     "iopub.execute_input": "2024-06-20T08:12:35.439245Z",
     "iopub.status.busy": "2024-06-20T08:12:35.438567Z",
     "iopub.status.idle": "2024-06-20T08:12:35.458296Z",
     "shell.execute_reply": "2024-06-20T08:12:35.457168Z",
     "shell.execute_reply.started": "2024-06-20T08:12:35.439208Z"
    },
    "trusted": true
   },
   "outputs": [
    {
     "data": {
      "text/html": [
       "<div>\n",
       "<style scoped>\n",
       "    .dataframe tbody tr th:only-of-type {\n",
       "        vertical-align: middle;\n",
       "    }\n",
       "\n",
       "    .dataframe tbody tr th {\n",
       "        vertical-align: top;\n",
       "    }\n",
       "\n",
       "    .dataframe thead th {\n",
       "        text-align: right;\n",
       "    }\n",
       "</style>\n",
       "<table border=\"1\" class=\"dataframe\">\n",
       "  <thead>\n",
       "    <tr style=\"text-align: right;\">\n",
       "      <th></th>\n",
       "      <th>Open</th>\n",
       "      <th>High</th>\n",
       "      <th>Low</th>\n",
       "      <th>Close</th>\n",
       "      <th>Adj Close</th>\n",
       "      <th>Volume</th>\n",
       "      <th>Price_Change</th>\n",
       "      <th>subjectivity</th>\n",
       "      <th>polarity</th>\n",
       "      <th>compound</th>\n",
       "    </tr>\n",
       "  </thead>\n",
       "  <tbody>\n",
       "    <tr>\n",
       "      <th>2023-01-03</th>\n",
       "      <td>118.470001</td>\n",
       "      <td>118.800003</td>\n",
       "      <td>104.639999</td>\n",
       "      <td>108.099998</td>\n",
       "      <td>108.099998</td>\n",
       "      <td>231402800</td>\n",
       "      <td>0.000000</td>\n",
       "      <td>0.332727</td>\n",
       "      <td>-0.033737</td>\n",
       "      <td>-0.5574</td>\n",
       "    </tr>\n",
       "    <tr>\n",
       "      <th>2023-01-04</th>\n",
       "      <td>109.110001</td>\n",
       "      <td>114.589996</td>\n",
       "      <td>107.519997</td>\n",
       "      <td>113.639999</td>\n",
       "      <td>113.639999</td>\n",
       "      <td>180389000</td>\n",
       "      <td>0.051249</td>\n",
       "      <td>0.464848</td>\n",
       "      <td>0.065455</td>\n",
       "      <td>-0.9169</td>\n",
       "    </tr>\n",
       "    <tr>\n",
       "      <th>2023-01-05</th>\n",
       "      <td>110.510002</td>\n",
       "      <td>111.750000</td>\n",
       "      <td>107.160004</td>\n",
       "      <td>110.339996</td>\n",
       "      <td>110.339996</td>\n",
       "      <td>157986300</td>\n",
       "      <td>-0.029039</td>\n",
       "      <td>0.227273</td>\n",
       "      <td>0.068182</td>\n",
       "      <td>0.5423</td>\n",
       "    </tr>\n",
       "    <tr>\n",
       "      <th>2023-01-06</th>\n",
       "      <td>103.000000</td>\n",
       "      <td>114.389999</td>\n",
       "      <td>101.809998</td>\n",
       "      <td>113.059998</td>\n",
       "      <td>113.059998</td>\n",
       "      <td>220911100</td>\n",
       "      <td>0.024651</td>\n",
       "      <td>0.334242</td>\n",
       "      <td>0.073939</td>\n",
       "      <td>0.7096</td>\n",
       "    </tr>\n",
       "    <tr>\n",
       "      <th>2023-01-09</th>\n",
       "      <td>118.959999</td>\n",
       "      <td>123.519997</td>\n",
       "      <td>117.110001</td>\n",
       "      <td>119.769997</td>\n",
       "      <td>119.769997</td>\n",
       "      <td>190284000</td>\n",
       "      <td>0.059349</td>\n",
       "      <td>0.594048</td>\n",
       "      <td>-0.529762</td>\n",
       "      <td>-0.8658</td>\n",
       "    </tr>\n",
       "    <tr>\n",
       "      <th>...</th>\n",
       "      <td>...</td>\n",
       "      <td>...</td>\n",
       "      <td>...</td>\n",
       "      <td>...</td>\n",
       "      <td>...</td>\n",
       "      <td>...</td>\n",
       "      <td>...</td>\n",
       "      <td>...</td>\n",
       "      <td>...</td>\n",
       "      <td>...</td>\n",
       "    </tr>\n",
       "    <tr>\n",
       "      <th>2024-04-02</th>\n",
       "      <td>164.750000</td>\n",
       "      <td>167.690002</td>\n",
       "      <td>163.429993</td>\n",
       "      <td>166.630005</td>\n",
       "      <td>166.630005</td>\n",
       "      <td>116650600</td>\n",
       "      <td>-0.049024</td>\n",
       "      <td>0.676136</td>\n",
       "      <td>0.227841</td>\n",
       "      <td>0.1779</td>\n",
       "    </tr>\n",
       "    <tr>\n",
       "      <th>2024-04-03</th>\n",
       "      <td>164.020004</td>\n",
       "      <td>168.820007</td>\n",
       "      <td>163.279999</td>\n",
       "      <td>168.380005</td>\n",
       "      <td>168.380005</td>\n",
       "      <td>82950100</td>\n",
       "      <td>0.010502</td>\n",
       "      <td>0.475000</td>\n",
       "      <td>0.200000</td>\n",
       "      <td>0.6249</td>\n",
       "    </tr>\n",
       "    <tr>\n",
       "      <th>2024-04-04</th>\n",
       "      <td>170.070007</td>\n",
       "      <td>177.190002</td>\n",
       "      <td>168.009995</td>\n",
       "      <td>171.110001</td>\n",
       "      <td>171.110001</td>\n",
       "      <td>123162000</td>\n",
       "      <td>0.016213</td>\n",
       "      <td>0.200000</td>\n",
       "      <td>-0.150000</td>\n",
       "      <td>-0.3612</td>\n",
       "    </tr>\n",
       "    <tr>\n",
       "      <th>2024-04-05</th>\n",
       "      <td>169.080002</td>\n",
       "      <td>170.860001</td>\n",
       "      <td>160.509995</td>\n",
       "      <td>164.899994</td>\n",
       "      <td>164.899994</td>\n",
       "      <td>141250700</td>\n",
       "      <td>-0.036292</td>\n",
       "      <td>0.450505</td>\n",
       "      <td>0.048485</td>\n",
       "      <td>0.2263</td>\n",
       "    </tr>\n",
       "    <tr>\n",
       "      <th>2024-04-08</th>\n",
       "      <td>169.339996</td>\n",
       "      <td>174.500000</td>\n",
       "      <td>167.789993</td>\n",
       "      <td>172.979996</td>\n",
       "      <td>172.979996</td>\n",
       "      <td>104423300</td>\n",
       "      <td>0.048999</td>\n",
       "      <td>0.250000</td>\n",
       "      <td>0.031250</td>\n",
       "      <td>-0.9393</td>\n",
       "    </tr>\n",
       "  </tbody>\n",
       "</table>\n",
       "<p>317 rows × 10 columns</p>\n",
       "</div>"
      ],
      "text/plain": [
       "                  Open        High         Low       Close   Adj Close  \\\n",
       "2023-01-03  118.470001  118.800003  104.639999  108.099998  108.099998   \n",
       "2023-01-04  109.110001  114.589996  107.519997  113.639999  113.639999   \n",
       "2023-01-05  110.510002  111.750000  107.160004  110.339996  110.339996   \n",
       "2023-01-06  103.000000  114.389999  101.809998  113.059998  113.059998   \n",
       "2023-01-09  118.959999  123.519997  117.110001  119.769997  119.769997   \n",
       "...                ...         ...         ...         ...         ...   \n",
       "2024-04-02  164.750000  167.690002  163.429993  166.630005  166.630005   \n",
       "2024-04-03  164.020004  168.820007  163.279999  168.380005  168.380005   \n",
       "2024-04-04  170.070007  177.190002  168.009995  171.110001  171.110001   \n",
       "2024-04-05  169.080002  170.860001  160.509995  164.899994  164.899994   \n",
       "2024-04-08  169.339996  174.500000  167.789993  172.979996  172.979996   \n",
       "\n",
       "               Volume  Price_Change  subjectivity  polarity  compound  \n",
       "2023-01-03  231402800      0.000000      0.332727 -0.033737   -0.5574  \n",
       "2023-01-04  180389000      0.051249      0.464848  0.065455   -0.9169  \n",
       "2023-01-05  157986300     -0.029039      0.227273  0.068182    0.5423  \n",
       "2023-01-06  220911100      0.024651      0.334242  0.073939    0.7096  \n",
       "2023-01-09  190284000      0.059349      0.594048 -0.529762   -0.8658  \n",
       "...               ...           ...           ...       ...       ...  \n",
       "2024-04-02  116650600     -0.049024      0.676136  0.227841    0.1779  \n",
       "2024-04-03   82950100      0.010502      0.475000  0.200000    0.6249  \n",
       "2024-04-04  123162000      0.016213      0.200000 -0.150000   -0.3612  \n",
       "2024-04-05  141250700     -0.036292      0.450505  0.048485    0.2263  \n",
       "2024-04-08  104423300      0.048999      0.250000  0.031250   -0.9393  \n",
       "\n",
       "[317 rows x 10 columns]"
      ]
     },
     "execution_count": 292,
     "metadata": {},
     "output_type": "execute_result"
    }
   ],
   "source": [
    "ohlc_data.fillna(0)"
   ]
  },
  {
   "cell_type": "code",
   "execution_count": 293,
   "metadata": {
    "execution": {
     "iopub.execute_input": "2024-06-20T08:12:37.579928Z",
     "iopub.status.busy": "2024-06-20T08:12:37.579507Z",
     "iopub.status.idle": "2024-06-20T08:12:37.584884Z",
     "shell.execute_reply": "2024-06-20T08:12:37.583700Z",
     "shell.execute_reply.started": "2024-06-20T08:12:37.579897Z"
    },
    "trusted": true
   },
   "outputs": [],
   "source": [
    "import matplotlib.pyplot as plt"
   ]
  },
  {
   "cell_type": "code",
   "execution_count": 294,
   "metadata": {
    "execution": {
     "iopub.execute_input": "2024-06-20T08:12:37.587388Z",
     "iopub.status.busy": "2024-06-20T08:12:37.586981Z",
     "iopub.status.idle": "2024-06-20T08:12:37.906090Z",
     "shell.execute_reply": "2024-06-20T08:12:37.905019Z",
     "shell.execute_reply.started": "2024-06-20T08:12:37.587351Z"
    },
    "trusted": true
   },
   "outputs": [
    {
     "data": {
      "image/png": "[encoded data removed]",
      "text/plain": [
       "<Figure size 1000x500 with 1 Axes>"
      ]
     },
     "metadata": {},
     "output_type": "display_data"
    }
   ],
   "source": [
    "portfolio_returns = (1 + ohlc_data['Price_Change']).cumprod()\n",
    "\n",
    "# Plot the cumulative portfolio returns\n",
    "plt.figure(figsize=(10, 5))\n",
    "plt.plot(portfolio_returns.index, portfolio_returns.values, label='Portfolio Cumulative Returns', marker='o')\n",
    "plt.xlabel('Date')\n",
    "plt.ylabel('Cumulative Returns')\n",
    "plt.title('Portfolio Performance')\n",
    "plt.legend()\n",
    "plt.grid(True)\n",
    "plt.show()"
   ]
  },
  {
   "cell_type": "code",
   "execution_count": null,
   "metadata": {},
   "outputs": [],
   "source": []
  }
 ],
 "metadata": {
  "kaggle": {
   "accelerator": "none",
   "dataSources": [
    {
     "datasetId": 5214668,
     "sourceId": 8695561,
     "sourceType": "datasetVersion"
    },
    {
     "datasetId": 5224314,
     "sourceId": 8709263,
     "sourceType": "datasetVersion"
    },
    {
     "datasetId": 5224358,
     "sourceId": 8709315,
     "sourceType": "datasetVersion"
    },
    {
     "datasetId": 5237555,
     "sourceId": 8727022,
     "sourceType": "datasetVersion"
    },
    {
     "datasetId": 5237562,
     "sourceId": 8727030,
     "sourceType": "datasetVersion"
    },
    {
     "datasetId": 5241658,
     "sourceId": 8732441,
     "sourceType": "datasetVersion"
    },
    {
     "datasetId": 5241668,
     "sourceId": 8732453,
     "sourceType": "datasetVersion"
    }
   ],
   "isGpuEnabled": false,
   "isInternetEnabled": true,
   "language": "python",
   "sourceType": "notebook"
  },
  "kernelspec": {
   "display_name": "Python 3",
   "language": "python",
   "name": "python3"
  },
  "language_info": {
   "codemirror_mode": {
    "name": "ipython",
    "version": 3
   },
   "file_extension": ".py",
   "mimetype": "text/x-python",
   "name": "python",
   "nbconvert_exporter": "python",
   "pygments_lexer": "ipython3",
   "version": "3.12.4"
  }
 },
 "nbformat": 4,
 "nbformat_minor": 4
}
