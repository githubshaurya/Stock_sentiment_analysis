{
 "cells": [
  {
   "cell_type": "code",
   "execution_count": 1,
   "metadata": {
    "_cell_guid": "b1076dfc-b9ad-4769-8c92-a6c4dae69d19",
    "_uuid": "8f2839f25d086af736a60e9eeb907d3b93b6e0e5",
    "editable": false,
    "execution": {
     "iopub.execute_input": "2024-06-12T06:42:12.392509Z",
     "iopub.status.busy": "2024-06-12T06:42:12.392054Z",
     "iopub.status.idle": "2024-06-12T06:42:26.673534Z",
     "shell.execute_reply": "2024-06-12T06:42:26.672209Z",
     "shell.execute_reply.started": "2024-06-12T06:42:12.392476Z"
    },
    "trusted": true
   },
   "outputs": [
    {
     "name": "stdout",
     "output_type": "stream",
     "text": [
      "Collecting waybackpy\n",
      "  Downloading waybackpy-3.0.6-py3-none-any.whl.metadata (9.9 kB)\n",
      "Requirement already satisfied: click in /opt/conda/lib/python3.10/site-packages (from waybackpy) (8.1.7)\n",
      "Requirement already satisfied: requests in /opt/conda/lib/python3.10/site-packages (from waybackpy) (2.32.3)\n",
      "Requirement already satisfied: urllib3 in /opt/conda/lib/python3.10/site-packages (from waybackpy) (1.26.18)\n",
      "Requirement already satisfied: charset-normalizer<4,>=2 in /opt/conda/lib/python3.10/site-packages (from requests->waybackpy) (3.3.2)\n",
      "Requirement already satisfied: idna<4,>=2.5 in /opt/conda/lib/python3.10/site-packages (from requests->waybackpy) (3.6)\n",
      "Requirement already satisfied: certifi>=2017.4.17 in /opt/conda/lib/python3.10/site-packages (from requests->waybackpy) (2024.2.2)\n",
      "Downloading waybackpy-3.0.6-py3-none-any.whl (34 kB)\n",
      "Installing collected packages: waybackpy\n",
      "Successfully installed waybackpy-3.0.6\n"
     ]
    }
   ],
   "source": [
    "!pip install waybackpy"
   ]
  },
  {
   "cell_type": "code",
   "execution_count": null,
   "metadata": {
    "editable": false,
    "trusted": true
   },
   "outputs": [],
   "source": [
    "!pip install newspaper3k"
   ]
  },
  {
   "cell_type": "code",
   "execution_count": 2,
   "metadata": {
    "editable": false,
    "execution": {
     "iopub.execute_input": "2024-06-12T06:42:33.673150Z",
     "iopub.status.busy": "2024-06-12T06:42:33.672732Z",
     "iopub.status.idle": "2024-06-12T06:42:33.768666Z",
     "shell.execute_reply": "2024-06-12T06:42:33.767601Z",
     "shell.execute_reply.started": "2024-06-12T06:42:33.673117Z"
    },
    "trusted": true
   },
   "outputs": [],
   "source": [
    "from waybackpy import Url\n",
    "from datetime import datetime, timedelta\n",
    "from time import sleep\n",
    "from random import randint"
   ]
  },
  {
   "cell_type": "code",
   "execution_count": 4,
   "metadata": {
    "editable": false,
    "execution": {
     "iopub.execute_input": "2024-06-12T06:44:59.233221Z",
     "iopub.status.busy": "2024-06-12T06:44:59.232548Z",
     "iopub.status.idle": "2024-06-12T06:44:59.238536Z",
     "shell.execute_reply": "2024-06-12T06:44:59.237394Z",
     "shell.execute_reply.started": "2024-06-12T06:44:59.233189Z"
    },
    "trusted": true
   },
   "outputs": [],
   "source": [
    "class WaybackedScraper:\n",
    "    def __init__(self, base_url):\n",
    "        self.base_url = base_url\n",
    "\n",
    "    def get_wayback_url(self, y, m, d):\n",
    "        formatted_date = f\"{y}{m:02d}{d:02d}000000\"\n",
    "        wayback_url = f\"https://web.archive.org/web/{formatted_date}/{self.base_url}\"\n",
    "        return wayback_url"
   ]
  },
  {
   "cell_type": "code",
   "execution_count": 9,
   "metadata": {
    "editable": false,
    "execution": {
     "iopub.execute_input": "2024-06-12T06:49:09.010132Z",
     "iopub.status.busy": "2024-06-12T06:49:09.009748Z",
     "iopub.status.idle": "2024-06-12T06:49:09.015365Z",
     "shell.execute_reply": "2024-06-12T06:49:09.014193Z",
     "shell.execute_reply.started": "2024-06-12T06:49:09.010105Z"
    },
    "trusted": true
   },
   "outputs": [],
   "source": [
    "start_date = datetime(2020, 1, 1)\n",
    "end_date = datetime(2023, 12, 31)\n",
    "cur_date = start_date\n",
    "base_url = \"https://www.livemint.com/market\"\n",
    "scraper = WaybackedScraper(base_url)"
   ]
  },
  {
   "cell_type": "code",
   "execution_count": 10,
   "metadata": {
    "editable": false,
    "execution": {
     "iopub.execute_input": "2024-06-12T06:49:10.174959Z",
     "iopub.status.busy": "2024-06-12T06:49:10.174535Z",
     "iopub.status.idle": "2024-06-12T06:49:10.180183Z",
     "shell.execute_reply": "2024-06-12T06:49:10.178921Z",
     "shell.execute_reply.started": "2024-06-12T06:49:10.174928Z"
    },
    "trusted": true
   },
   "outputs": [],
   "source": [
    "all_wayback_urls = []"
   ]
  },
  {
   "cell_type": "code",
   "execution_count": 15,
   "metadata": {
    "editable": false,
    "execution": {
     "iopub.execute_input": "2024-06-12T06:51:30.945087Z",
     "iopub.status.busy": "2024-06-12T06:51:30.944700Z",
     "iopub.status.idle": "2024-06-12T06:51:30.951930Z",
     "shell.execute_reply": "2024-06-12T06:51:30.950808Z",
     "shell.execute_reply.started": "2024-06-12T06:51:30.945057Z"
    },
    "trusted": true
   },
   "outputs": [
    {
     "data": {
      "text/plain": [
       "1461"
      ]
     },
     "execution_count": 15,
     "metadata": {},
     "output_type": "execute_result"
    }
   ],
   "source": [
    "len(all_wayback_urls)"
   ]
  },
  {
   "cell_type": "code",
   "execution_count": 14,
   "metadata": {
    "editable": false,
    "execution": {
     "iopub.execute_input": "2024-06-12T06:51:27.545564Z",
     "iopub.status.busy": "2024-06-12T06:51:27.545131Z",
     "iopub.status.idle": "2024-06-12T06:51:27.552162Z",
     "shell.execute_reply": "2024-06-12T06:51:27.550861Z",
     "shell.execute_reply.started": "2024-06-12T06:51:27.545533Z"
    },
    "trusted": true
   },
   "outputs": [],
   "source": [
    "while cur_date <= end_date:\n",
    "    start_date_str = cur_date.strftime('%Y-%m-%d')\n",
    "    try:\n",
    "        wayback_url = scraper.get_wayback_url(cur_date.year, cur_date.month, cur_date.day)\n",
    "        all_wayback_urls.append(wayback_url)\n",
    "#         print(f\"Date: {start_date_str}, URL: {wayback_url}\")\n",
    "        cur_date += timedelta(days=1)\n",
    "    except Exception as e:\n",
    "        print(f\"Error occurred for date {start_date_str}: {e}\")\n",
    "        cur_date += timedelta(days=1)\n",
    "        continue"
   ]
  },
  {
   "cell_type": "code",
   "execution_count": null,
   "metadata": {
    "editable": false
   },
   "outputs": [],
   "source": [
    "for url in all_wayback_urls:\n",
    "    cnn_paper = newspaper.build(url)\n",
    "    for article in cnn_paper.articles:\n",
    "        print(article.url)"
   ]
  }
 ],
 "metadata": {
  "kaggle": {
   "accelerator": "none",
   "dataSources": [],
   "isGpuEnabled": false,
   "isInternetEnabled": true,
   "language": "python",
   "sourceType": "notebook"
  },
  "kernelspec": {
   "display_name": "Python 3",
   "language": "python",
   "name": "python3"
  },
  "language_info": {
   "codemirror_mode": {
    "name": "ipython",
    "version": 3
   },
   "file_extension": ".py",
   "mimetype": "text/x-python",
   "name": "python",
   "nbconvert_exporter": "python",
   "pygments_lexer": "ipython3",
   "version": "3.10.13"
  }
 },
 "nbformat": 4,
 "nbformat_minor": 4
}
